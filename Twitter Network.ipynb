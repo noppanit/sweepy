{
 "cells": [
  {
   "cell_type": "markdown",
   "metadata": {},
   "source": [
    "# Centrality"
   ]
  },
  {
   "cell_type": "markdown",
   "metadata": {},
   "source": [
    "In this section, I'm going to learn how Centrality works and try to interpret the data based on small real dataset. I'm using Facebook DataSet from SNAP https://snap.stanford.edu/data/egonets-Facebook.html. The data is included in this repository for easier access. The data is in EdgeList format (source, target)."
   ]
  },
  {
   "cell_type": "code",
   "execution_count": 19,
   "metadata": {
    "collapsed": true
   },
   "outputs": [],
   "source": [
    "%matplotlib inline\n",
    "import networkx as nx\n",
    "import matplotlib.pyplot as plt\n",
    "import operator\n",
    "import timeit"
   ]
  },
  {
   "cell_type": "code",
   "execution_count": 20,
   "metadata": {
    "collapsed": false
   },
   "outputs": [],
   "source": [
    "g_fb = nx.read_edgelist('facebook_combined.txt', create_using = nx.Graph(), nodetype = int)"
   ]
  },
  {
   "cell_type": "code",
   "execution_count": 21,
   "metadata": {
    "collapsed": false
   },
   "outputs": [
    {
     "name": "stdout",
     "output_type": "stream",
     "text": [
      "Name: \n",
      "Type: Graph\n",
      "Number of nodes: 4039\n",
      "Number of edges: 88234\n",
      "Average degree:  43.6910\n",
      "False\n"
     ]
    }
   ],
   "source": [
    "print nx.info(g_fb)\n",
    "print nx.is_directed(g_fb)"
   ]
  },
  {
   "cell_type": "code",
   "execution_count": 22,
   "metadata": {
    "collapsed": true
   },
   "outputs": [],
   "source": [
    "spring_pos = nx.spring_layout(g_fb)"
   ]
  },
  {
   "cell_type": "code",
   "execution_count": 16,
   "metadata": {
    "collapsed": false
   },
   "outputs": [
    {
     "data": {
      "image/png": "[encoded data removed]",
      "text/plain": [
       "<matplotlib.figure.Figure at 0x7f93a0338510>"
      ]
     },
     "metadata": {},
     "output_type": "display_data"
    }
   ],
   "source": [
    "plt.axis('off')\n",
    "nx.draw_networkx(g_fb, pos = spring_pos, with_lables=False, node_size = 35)"
   ]
  },
  {
   "cell_type": "markdown",
   "metadata": {},
   "source": [
    "Now let's find the celebrities. The most basic centrality is Degree Centrality which is the sum of all in and out nodes (in the case of directed graph). "
   ]
  },
  {
   "cell_type": "code",
   "execution_count": 23,
   "metadata": {
    "collapsed": false
   },
   "outputs": [
    {
     "data": {
      "text/plain": [
       "[(107, 0.258791480931154),\n",
       " (1684, 0.1961367013372957),\n",
       " (1912, 0.18697374938088163),\n",
       " (3437, 0.13546310054482416),\n",
       " (0, 0.08593363051015354),\n",
       " (2543, 0.07280832095096582),\n",
       " (2347, 0.07206537890044576),\n",
       " (1888, 0.0629024269440317),\n",
       " (1800, 0.06067360079247152),\n",
       " (1663, 0.058197127290737984)]"
      ]
     },
     "execution_count": 23,
     "metadata": {},
     "output_type": "execute_result"
    }
   ],
   "source": [
    "dg_centrality = nx.degree_centrality(g_fb)\n",
    "sorted_dg_centrality = sorted(dg_centrality.items(), key=operator.itemgetter(1), reverse=True)\n",
    "sorted_dg_centrality[:10]"
   ]
  },
  {
   "cell_type": "markdown",
   "metadata": {},
   "source": [
    "We can see that the node 107 has the highest degree centrality which means node 107 has the highest number of connected nodes. We can prove this by getting the degree of node 107 to see how many friends of node 107 has"
   ]
  },
  {
   "cell_type": "code",
   "execution_count": 24,
   "metadata": {
    "collapsed": false
   },
   "outputs": [
    {
     "data": {
      "text/plain": [
       "{107: 1045}"
      ]
     },
     "execution_count": 24,
     "metadata": {},
     "output_type": "execute_result"
    }
   ],
   "source": [
    "nx.degree(g_fb, [107])"
   ]
  },
  {
   "cell_type": "markdown",
   "metadata": {},
   "source": [
    "Node 107 has 1045 friends and we can divide that by number of nodes to get the normalized degree centrality"
   ]
  },
  {
   "cell_type": "code",
   "execution_count": 25,
   "metadata": {
    "collapsed": false
   },
   "outputs": [
    {
     "data": {
      "text/plain": [
       "0.25872740777420156"
      ]
     },
     "execution_count": 25,
     "metadata": {},
     "output_type": "execute_result"
    }
   ],
   "source": [
    "float(nx.degree(g_fb, [107]).values()[0]) / g_fb.number_of_nodes()"
   ]
  },
  {
   "cell_type": "markdown",
   "metadata": {},
   "source": [
    "Degree centrality might be the easiest number to calculate but it only shows the number of nodes connected which in real social network it might not be very useful as you might have a million followers but if the majority of them is bots then the number is not telling anything new."
   ]
  },
  {
   "cell_type": "markdown",
   "metadata": {},
   "source": [
    "Now let's try Betweenness which count all of the shortest path going throw each now. This might mean that if you have the highest shortest path going through you, you might be considered as bridge of your entire network.\n",
    "\n",
    "Nodes with high betweenness are important in communication and information diffusion"
   ]
  },
  {
   "cell_type": "markdown",
   "metadata": {},
   "source": [
    "We will be using multiprocessing so we can parallel the computation and distribute the load."
   ]
  },
  {
   "cell_type": "code",
   "execution_count": 26,
   "metadata": {
    "collapsed": true
   },
   "outputs": [],
   "source": [
    "from multiprocessing import Pool  \n",
    "import itertools"
   ]
  },
  {
   "cell_type": "code",
   "execution_count": 27,
   "metadata": {
    "collapsed": true
   },
   "outputs": [],
   "source": [
    "def partitions(nodes, n):\n",
    "    \"Partitions the nodes into n subsets\"\n",
    "    nodes_iter = iter(nodes)\n",
    "    while True:\n",
    "        partition = tuple(itertools.islice(nodes_iter,n))\n",
    "        if not partition:\n",
    "            return\n",
    "        yield partition"
   ]
  },
  {
   "cell_type": "code",
   "execution_count": 28,
   "metadata": {
    "collapsed": true
   },
   "outputs": [],
   "source": [
    "def btwn_pool(G_tuple):\n",
    "    return nx.betweenness_centrality_source(*G_tuple)"
   ]
  },
  {
   "cell_type": "code",
   "execution_count": 29,
   "metadata": {
    "collapsed": false
   },
   "outputs": [],
   "source": [
    "def between_parallel(G, processes = None):\n",
    "    p = Pool(processes=processes)\n",
    "    part_generator = 4*len(p._pool)\n",
    "    node_partitions = list(partitions(G.nodes(), int(len(G)/part_generator)))\n",
    "    num_partitions = len(node_partitions)\n",
    " \n",
    "    bet_map = p.map(btwn_pool,\n",
    "                        zip([G]*num_partitions,\n",
    "                        [True]*num_partitions,\n",
    "                        [None]*num_partitions,\n",
    "                        node_partitions))\n",
    " \n",
    "    bt_c = bet_map[0]\n",
    "    for bt in bet_map[1:]:\n",
    "        for n in bt:\n",
    "            bt_c[n] += bt[n]\n",
    "    return bt_c"
   ]
  },
  {
   "cell_type": "markdown",
   "metadata": {},
   "source": [
    "Let's try with multiprocesser."
   ]
  },
  {
   "cell_type": "code",
   "execution_count": 31,
   "metadata": {
    "collapsed": false
   },
   "outputs": [
    {
     "name": "stdout",
     "output_type": "stream",
     "text": [
      "It takes 124.432162046 seconds to finish\n",
      "[(107, 0.4805180785560148), (1684, 0.3377974497301947), (3437, 0.23611535735892855), (1912, 0.22929533958687467), (1085, 0.14901509211665434), (0, 0.1463059214744287), (698, 0.11533045020561015), (567, 0.09631033121856315), (58, 0.0843602059079655), (428, 0.0643090623932384)]\n"
     ]
    },
    {
     "data": {
      "image/png": "[encoded data removed]",
      "text/plain": [
       "<matplotlib.figure.Figure at 0x7f839f126cd0>"
      ]
     },
     "metadata": {},
     "output_type": "display_data"
    }
   ],
   "source": [
    "start = timeit.default_timer()\n",
    "bt = between_parallel(g_fb)\n",
    "stop = timeit.default_timer()\n",
    "top = 10\n",
    "\n",
    "max_nodes =  sorted(bt.iteritems(), key = lambda v: -v[1])[:top]\n",
    "bt_values = [5]*len(g_fb.nodes())\n",
    "bt_colors = [0]*len(g_fb.nodes())\n",
    "for max_key, max_val in max_nodes:\n",
    "    bt_values[max_key] = 150\n",
    "    bt_colors[max_key] = 2\n",
    " \n",
    "plt.axis(\"off\")\n",
    "nx.draw_networkx(g_fb, pos = spring_pos, cmap = plt.get_cmap(\"rainbow\"), node_color = bt_colors, node_size = bt_values, with_labels = False)\n",
    "\n",
    "print 'It takes {} seconds to finish'.format(stop - start)\n",
    "print max_nodes"
   ]
  },
  {
   "cell_type": "markdown",
   "metadata": {},
   "source": [
    "Now let's try with just one processor"
   ]
  },
  {
   "cell_type": "code",
   "execution_count": 32,
   "metadata": {
    "collapsed": false
   },
   "outputs": [
    {
     "name": "stdout",
     "output_type": "stream",
     "text": [
      "It takes 229.852290154 seconds to finish\n",
      "[(107, 0.48051807855601475), (1684, 0.3377974497302), (3437, 0.23611535735892797), (1912, 0.2292953395868785), (1085, 0.14901509211665198), (0, 0.14630592147442847), (698, 0.11533045020560787), (567, 0.09631033121856226), (58, 0.08436020590796657), (428, 0.0643090623932386)]\n"
     ]
    },
    {
     "data": {
      "image/png": "[encoded data removed]",
      "text/plain": [
       "<matplotlib.figure.Figure at 0x7f83c0154dd0>"
      ]
     },
     "metadata": {},
     "output_type": "display_data"
    }
   ],
   "source": [
    "start = timeit.default_timer()\n",
    "bt = nx.betweenness_centrality(g_fb)\n",
    "stop = timeit.default_timer()\n",
    "top = 10\n",
    "\n",
    "max_nodes =  sorted(bt.iteritems(), key = lambda v: -v[1])[:top]\n",
    "bt_values = [5]*len(g_fb.nodes())\n",
    "bt_colors = [0]*len(g_fb.nodes())\n",
    "for max_key, max_val in max_nodes:\n",
    "    bt_values[max_key] = 150\n",
    "    bt_colors[max_key] = 2\n",
    " \n",
    "plt.axis(\"off\")\n",
    "nx.draw_networkx(g_fb, pos = spring_pos, cmap = plt.get_cmap(\"rainbow\"), node_color = bt_colors, node_size = bt_values, with_labels = False)\n",
    "\n",
    "print 'It takes {} seconds to finish'.format(stop - start)\n",
    "print max_nodes"
   ]
  },
  {
   "cell_type": "markdown",
   "metadata": {},
   "source": [
    "We would like to try Closenese Centrality. The number shows how close are you to the entire network. It's very similar to Betweenness Centrality"
   ]
  },
  {
   "cell_type": "code",
   "execution_count": 42,
   "metadata": {
    "collapsed": false
   },
   "outputs": [
    {
     "name": "stdout",
     "output_type": "stream",
     "text": [
      "It takes 93.5353550911 seconds to finish\n",
      "[(107, 0.45969945355191255), (58, 0.3974018305284913), (428, 0.3948371956585509), (563, 0.3939127889961955), (1684, 0.39360561458231796), (171, 0.37049270575282134), (348, 0.36991572004397216), (483, 0.3698479575013739), (414, 0.3695433330282786), (376, 0.36655773420479304)]\n"
     ]
    }
   ],
   "source": [
    "start = timeit.default_timer()\n",
    "cs = nx.closeness_centrality (g_fb)\n",
    "stop = timeit.default_timer()\n",
    "top = 10\n",
    "\n",
    "max_cn_nodes =  sorted(cs.iteritems(), key = lambda v: -v[1])[:top]\n",
    "print 'It takes {} seconds to finish'.format(stop - start)\n",
    "print max_cn_nodes"
   ]
  },
  {
   "cell_type": "markdown",
   "metadata": {},
   "source": [
    "#Page rank"
   ]
  },
  {
   "cell_type": "markdown",
   "metadata": {},
   "source": [
    "We're going to try PageRank algorithm. This is very similar to Google's PageRank which they use incoming links to determine the \"popularity\""
   ]
  },
  {
   "cell_type": "code",
   "execution_count": 33,
   "metadata": {
    "collapsed": false
   },
   "outputs": [],
   "source": [
    "g_fb_pr = nx.pagerank(g_fb)"
   ]
  },
  {
   "cell_type": "code",
   "execution_count": 34,
   "metadata": {
    "collapsed": false
   },
   "outputs": [
    {
     "data": {
      "text/plain": [
       "[(3437, 0.007614586844749602),\n",
       " (107, 0.006936420955866113),\n",
       " (1684, 0.006367162138306825),\n",
       " (0, 0.006289602618466542),\n",
       " (1912, 0.0038769716008844957),\n",
       " (348, 0.002348096972780577),\n",
       " (686, 0.0022193592598000193),\n",
       " (3980, 0.0021703235790099928),\n",
       " (414, 0.0018002990470702264),\n",
       " (698, 0.0013171153138368812)]"
      ]
     },
     "execution_count": 34,
     "metadata": {},
     "output_type": "execute_result"
    }
   ],
   "source": [
    "top = 10\n",
    "max_pagerank = sorted(g_fb_pr.iteritems(), key = lambda v: -v[1])[:top]\n",
    "max_pagerank"
   ]
  },
  {
   "cell_type": "markdown",
   "metadata": {},
   "source": [
    "We can see that now the score is different as node 3437 is more popular than node 107."
   ]
  },
  {
   "cell_type": "markdown",
   "metadata": {},
   "source": [
    "# Who is a \"Gray Cardinal\"\n",
    "There's another metric that we can measure most influential node. It's called eigenvector centrality. To put it simply it means that if you're well connected to a lot of important people that means you're important or most influential as well. "
   ]
  },
  {
   "cell_type": "code",
   "execution_count": 35,
   "metadata": {
    "collapsed": true
   },
   "outputs": [],
   "source": [
    "g_fb_eg = nx.eigenvector_centrality(g_fb)"
   ]
  },
  {
   "cell_type": "code",
   "execution_count": 36,
   "metadata": {
    "collapsed": false
   },
   "outputs": [
    {
     "data": {
      "text/plain": [
       "[(1912, 0.09540688873596533),\n",
       " (2266, 0.08698328226321961),\n",
       " (2206, 0.08605240174265634),\n",
       " (2233, 0.08517341350597848),\n",
       " (2464, 0.0842787836468596),\n",
       " (2142, 0.08419312450068117),\n",
       " (2218, 0.08415574433673877),\n",
       " (2078, 0.08413617905810125),\n",
       " (2123, 0.08367142125897375),\n",
       " (1993, 0.08353243711860492)]"
      ]
     },
     "execution_count": 36,
     "metadata": {},
     "output_type": "execute_result"
    }
   ],
   "source": [
    "top = 10\n",
    "max_eg = sorted(g_fb_eg.iteritems(), key = lambda v: -v[1])[:top]\n",
    "max_eg"
   ]
  },
  {
   "cell_type": "markdown",
   "metadata": {},
   "source": [
    "Now we get quite a different result. This would mean that node 1912 is connected to more important people in the entire network that means that node is more influential than the rest of the network."
   ]
  },
  {
   "cell_type": "markdown",
   "metadata": {},
   "source": [
    "# iGraph with SNAP Facebook Dataset\n",
    "Networkx is easy to install and great to start with. However, as it's written in Python it's quite slow. I'm going to try iGraph which is C based. I'm hoping that this would yield the same result but faster."
   ]
  },
  {
   "cell_type": "code",
   "execution_count": 37,
   "metadata": {
    "collapsed": true
   },
   "outputs": [],
   "source": [
    "from igraph import *"
   ]
  },
  {
   "cell_type": "code",
   "execution_count": 38,
   "metadata": {
    "collapsed": true
   },
   "outputs": [],
   "source": [
    "igraph_fb = Graph.Read_Edgelist('facebook_combined.txt', directed=False)"
   ]
  },
  {
   "cell_type": "code",
   "execution_count": 39,
   "metadata": {
    "collapsed": false
   },
   "outputs": [
    {
     "name": "stdout",
     "output_type": "stream",
     "text": [
      "IGRAPH U--- 4039 88234 -- \n"
     ]
    }
   ],
   "source": [
    "print igraph_fb.summary()"
   ]
  },
  {
   "cell_type": "markdown",
   "metadata": {},
   "source": [
    "##Betweenness"
   ]
  },
  {
   "cell_type": "code",
   "execution_count": 40,
   "metadata": {
    "collapsed": true
   },
   "outputs": [],
   "source": [
    "def betweenness_centralization(G):\n",
    "    vnum = G.vcount()\n",
    "    if vnum < 3:\n",
    "        raise ValueError(\"graph must have at least three vertices\")\n",
    "    denom = (vnum-1)*(vnum-2)\n",
    " \n",
    "    temparr = [2*i/denom for i in G.betweenness()]\n",
    "    return temparr"
   ]
  },
  {
   "cell_type": "code",
   "execution_count": 41,
   "metadata": {
    "collapsed": false
   },
   "outputs": [
    {
     "name": "stdout",
     "output_type": "stream",
     "text": [
      "It takes 5.89585280418 seconds to finish\n"
     ]
    }
   ],
   "source": [
    "start = timeit.default_timer()\n",
    "igraph_betweenness = betweenness_centralization(igraph_fb)\n",
    "stop = timeit.default_timer()\n",
    "print 'It takes {} seconds to finish'.format(stop - start)"
   ]
  },
  {
   "cell_type": "code",
   "execution_count": 55,
   "metadata": {
    "collapsed": false
   },
   "outputs": [
    {
     "name": "stdout",
     "output_type": "stream",
     "text": [
      "[0.4805180785560146, 0.3377974497302, 0.23611535735892794, 0.22929533958687848, 0.14901509211665237, 0.14630592147442847, 0.11533045020560788, 0.09631033121856228, 0.08436020590796657, 0.0643090623932386]\n"
     ]
    }
   ],
   "source": [
    "igraph_betweenness.sort(reverse=True)\n",
    "print igraph_betweenness[:10]"
   ]
  },
  {
   "cell_type": "markdown",
   "metadata": {},
   "source": [
    "##Closeness"
   ]
  },
  {
   "cell_type": "code",
   "execution_count": 56,
   "metadata": {
    "collapsed": false
   },
   "outputs": [
    {
     "name": "stdout",
     "output_type": "stream",
     "text": [
      "It takes 6.03449511528 seconds to finish\n",
      "[0.45969945355191255, 0.3974018305284913, 0.3948371956585509, 0.3939127889961955, 0.39360561458231796, 0.37049270575282134, 0.36991572004397216, 0.3698479575013739, 0.3695433330282786, 0.36655773420479304]\n"
     ]
    }
   ],
   "source": [
    "start = timeit.default_timer()\n",
    "igraph_closeness = igraph_fb.closeness()\n",
    "stop = timeit.default_timer()\n",
    "print 'It takes {} seconds to finish'.format(stop - start)"
   ]
  },
  {
   "cell_type": "code",
   "execution_count": 59,
   "metadata": {
    "collapsed": false
   },
   "outputs": [
    {
     "name": "stdout",
     "output_type": "stream",
     "text": [
      "[0.45969945355191255, 0.3974018305284913, 0.3948371956585509, 0.3939127889961955, 0.39360561458231796, 0.37049270575282134, 0.36991572004397216, 0.3698479575013739, 0.3695433330282786, 0.36655773420479304]\n"
     ]
    }
   ],
   "source": [
    "igraph_closeness.sort(reverse=True)\n",
    "print igraph_closeness[:10]"
   ]
  },
  {
   "cell_type": "markdown",
   "metadata": {},
   "source": [
    "## EigenValue"
   ]
  },
  {
   "cell_type": "code",
   "execution_count": 63,
   "metadata": {
    "collapsed": false
   },
   "outputs": [
    {
     "name": "stdout",
     "output_type": "stream",
     "text": [
      "It takes 0.0605199337006 seconds to finish\n"
     ]
    }
   ],
   "source": [
    "start = timeit.default_timer()\n",
    "igraph_eg = igraph_fb.evcent()\n",
    "stop = timeit.default_timer()\n",
    "print 'It takes {} seconds to finish'.format(stop - start)"
   ]
  },
  {
   "cell_type": "code",
   "execution_count": 64,
   "metadata": {
    "collapsed": false
   },
   "outputs": [
    {
     "name": "stdout",
     "output_type": "stream",
     "text": [
      "[1.0, 0.9117190175727692, 0.9019626322184224, 0.8927488203018574, 0.8833723691600276, 0.8824740496738565, 0.8820826938160453, 0.8818776189568697, 0.8770062766705495, 0.8755494858467853]\n"
     ]
    }
   ],
   "source": [
    "igraph_eg.sort(reverse=True)\n",
    "print igraph_eg[:10]"
   ]
  },
  {
   "cell_type": "markdown",
   "metadata": {},
   "source": [
    "## PageRank"
   ]
  },
  {
   "cell_type": "code",
   "execution_count": 65,
   "metadata": {
    "collapsed": false
   },
   "outputs": [
    {
     "name": "stdout",
     "output_type": "stream",
     "text": [
      "It takes 0.0709159374237 seconds to finish\n"
     ]
    }
   ],
   "source": [
    "start = timeit.default_timer()\n",
    "igraph_pr = igraph_fb.pagerank()\n",
    "stop = timeit.default_timer()\n",
    "print 'It takes {} seconds to finish'.format(stop - start)"
   ]
  },
  {
   "cell_type": "code",
   "execution_count": 66,
   "metadata": {
    "collapsed": false
   },
   "outputs": [
    {
     "name": "stdout",
     "output_type": "stream",
     "text": [
      "[0.0075745665246258935, 0.006888375869731625, 0.0063084887921967805, 0.0062246948047383005, 0.0038165503710367713, 0.002317366308283276, 0.002216791818397391, 0.002156551114912813, 0.0017822888082657136, 0.00129416751155367]\n"
     ]
    }
   ],
   "source": [
    "igraph_pr.sort(reverse=True)\n",
    "print igraph_pr[:10]"
   ]
  },
  {
   "cell_type": "markdown",
   "metadata": {},
   "source": [
    "We can see that iGraph yields similar result from networkx but it's a lot quicker in the same machine."
   ]
  },
  {
   "cell_type": "markdown",
   "metadata": {},
   "source": [
    "# Graph_tool with SNAP Facebook Dataset\n",
    "I'm going to try another library which is supposed to be the fastest than networkx and igraph. Graph_tool is also C based which it has OpenMP enabled so a lot of algorithms is multiprocessing. "
   ]
  },
  {
   "cell_type": "code",
   "execution_count": 67,
   "metadata": {
    "collapsed": true
   },
   "outputs": [],
   "source": [
    "import sys\n",
    "sys.path.append('/usr/lib/python2.7/dist-packages')\n",
    "\n",
    "from graph_tool.all import *\n",
    "import timeit"
   ]
  },
  {
   "cell_type": "code",
   "execution_count": 68,
   "metadata": {
    "collapsed": false
   },
   "outputs": [
    {
     "name": "stdout",
     "output_type": "stream",
     "text": [
      "version: 2.2.44 (commit 178add3a, Thu Jul 2 01:44:54 2015 +0200)\n",
      "gcc version: 4.8.2\n",
      "compilation flags: -D_FORTIFY_SOURCE=2 -I/usr/include/python2.7 -I/usr/include -I/usr/lib/python2.7/dist-packages/numpy/core/include -I/usr/lib/python2.7/dist-packages/scipy -I/usr/include -DSPARSEHASH_PREFIX=google -Wall -Wextra -ftemplate-backtrace-limit=0 -O3 -DNDEBUG -std=gnu++11 -ftemplate-depth-250 -Wno-deprecated -Wno-unknown-pragmas -O3 -fvisibility=default -fvisibility-inlines-hidden -fopenmp -I/usr/include -DSPARSEHASH_PREFIX=google -Wl,-Bsymbolic-functions -Wl,-z,relro -L/usr/lib -lpython2.7\n",
      "install prefix: /usr\n",
      "python dir: /usr/lib/python2.7/dist-packages\n",
      "graph filtering: True\n",
      "openmp: True\n",
      "uname: Linux ip-172-31-45-186 3.13.0-48-generic #80-Ubuntu SMP Thu Mar 12 11:16:15 UTC 2015 x86_64\n"
     ]
    }
   ],
   "source": [
    "show_config()"
   ]
  },
  {
   "cell_type": "code",
   "execution_count": 69,
   "metadata": {
    "collapsed": true
   },
   "outputs": [],
   "source": [
    "graph_tool_fb = Graph(directed=False)"
   ]
  },
  {
   "cell_type": "code",
   "execution_count": 70,
   "metadata": {
    "collapsed": false
   },
   "outputs": [],
   "source": [
    "with open('facebook_combined.txt', 'r') as f:\n",
    "    for line in f:\n",
    "        edge_list = line.split()\n",
    "        source, target = tuple(edge_list)\n",
    "        graph_tool_fb.add_edge(source, target)"
   ]
  },
  {
   "cell_type": "code",
   "execution_count": 71,
   "metadata": {
    "collapsed": false
   },
   "outputs": [
    {
     "name": "stdout",
     "output_type": "stream",
     "text": [
      "4039\n",
      "88234\n"
     ]
    }
   ],
   "source": [
    "print graph_tool_fb.num_vertices()\n",
    "print graph_tool_fb.num_edges()"
   ]
  },
  {
   "cell_type": "markdown",
   "metadata": {},
   "source": [
    "## Betweeness"
   ]
  },
  {
   "cell_type": "code",
   "execution_count": 74,
   "metadata": {
    "collapsed": false
   },
   "outputs": [
    {
     "name": "stdout",
     "output_type": "stream",
     "text": [
      "It takes 7.47633004189 seconds to finish\n"
     ]
    }
   ],
   "source": [
    "start = timeit.default_timer()\n",
    "vertext_betweenness, edge_betweenness = betweenness(graph_tool_fb)\n",
    "stop = timeit.default_timer()\n",
    "print 'It takes {} seconds to finish'.format(stop - start)"
   ]
  },
  {
   "cell_type": "code",
   "execution_count": 75,
   "metadata": {
    "collapsed": false
   },
   "outputs": [
    {
     "data": {
      "text/plain": [
       "0.48051807855601453"
      ]
     },
     "execution_count": 75,
     "metadata": {},
     "output_type": "execute_result"
    }
   ],
   "source": [
    "vertext_betweenness.a[107]"
   ]
  },
  {
   "cell_type": "markdown",
   "metadata": {},
   "source": [
    "## Closeness"
   ]
  },
  {
   "cell_type": "code",
   "execution_count": 77,
   "metadata": {
    "collapsed": false
   },
   "outputs": [
    {
     "name": "stdout",
     "output_type": "stream",
     "text": [
      "It takes 7.69668292999 seconds to finish\n"
     ]
    }
   ],
   "source": [
    "start = timeit.default_timer()\n",
    "v_closeness = closeness(graph_tool_fb)\n",
    "stop = timeit.default_timer()\n",
    "print 'It takes {} seconds to finish'.format(stop - start)"
   ]
  },
  {
   "cell_type": "code",
   "execution_count": 78,
   "metadata": {
    "collapsed": false
   },
   "outputs": [
    {
     "data": {
      "text/plain": [
       "0.45969945355191255"
      ]
     },
     "execution_count": 78,
     "metadata": {},
     "output_type": "execute_result"
    }
   ],
   "source": [
    "v_closeness.a[107]"
   ]
  },
  {
   "cell_type": "markdown",
   "metadata": {},
   "source": [
    "## Eigenvalue"
   ]
  },
  {
   "cell_type": "code",
   "execution_count": 79,
   "metadata": {
    "collapsed": false
   },
   "outputs": [
    {
     "name": "stdout",
     "output_type": "stream",
     "text": [
      "It takes 0.0300698280334 seconds to finish\n"
     ]
    }
   ],
   "source": [
    "start = timeit.default_timer()\n",
    "v_closeness = eigenvector(graph_tool_fb)\n",
    "stop = timeit.default_timer()\n",
    "print 'It takes {} seconds to finish'.format(stop - start)"
   ]
  },
  {
   "cell_type": "markdown",
   "metadata": {},
   "source": [
    "## Page Rank"
   ]
  },
  {
   "cell_type": "code",
   "execution_count": 80,
   "metadata": {
    "collapsed": false
   },
   "outputs": [
    {
     "name": "stdout",
     "output_type": "stream",
     "text": [
      "It takes 0.0744159221649 seconds to finish\n"
     ]
    }
   ],
   "source": [
    "start = timeit.default_timer()\n",
    "v_closeness = pagerank(graph_tool_fb)\n",
    "stop = timeit.default_timer()\n",
    "print 'It takes {} seconds to finish'.format(stop - start)"
   ]
  },
  {
   "cell_type": "markdown",
   "metadata": {},
   "source": [
    "# Information diffusion modelling\n",
    "I'm going to information diffusion model to simulate how information travels in the graph. "
   ]
  },
  {
   "cell_type": "code",
   "execution_count": 72,
   "metadata": {
    "collapsed": false
   },
   "outputs": [],
   "source": [
    "%matplotlib inline\n",
    "import random as r\n",
    "import networkx as nx\n",
    "import matplotlib.pyplot as plot"
   ]
  },
  {
   "cell_type": "code",
   "execution_count": 67,
   "metadata": {
    "collapsed": true
   },
   "outputs": [],
   "source": [
    "class Person(object):\n",
    "    def __init__(self, id):\n",
    "        #Start with a single initial preference\n",
    "        self.id = id\n",
    "        self.i = r.random()\n",
    "        self.a = self.i\n",
    "        # we value initial opinion and subsequent information equally\n",
    "        self.alpha = 0.8\n",
    "    \n",
    "    def __str__(self):\n",
    "        return (str(self.id))\n",
    "    \n",
    "    def step(self):\n",
    "        # loop through the neighbors and aggregate their preferences\n",
    "        neighbors = g[self]\n",
    "        # all nodes in the list of neighbors are equally weighted, including self\n",
    "        w = 1/float((len(neighbors) + 1 ))\n",
    "        s = w * self.a\n",
    "        for node in neighbors:\n",
    "            s += w * node.a\n",
    "\n",
    "        # update my beliefs = initial belief plus sum of all influences\n",
    "        self.a = (1 - self.alpha) * self.i + self.alpha * s"
   ]
  },
  {
   "cell_type": "code",
   "execution_count": 68,
   "metadata": {
    "collapsed": false
   },
   "outputs": [
    {
     "data": {
      "image/png": "[encoded data removed]",
      "text/plain": [
       "<matplotlib.figure.Figure at 0x7f5cf62ff110>"
      ]
     },
     "metadata": {},
     "output_type": "display_data"
    }
   ],
   "source": [
    "density = 0.9\n",
    "g = nx.Graph()\n",
    "\n",
    "## create a network of Person objects\n",
    "for i in range(10):\n",
    "    p = Person(i)\n",
    "    g.add_node(p)\n",
    "    \n",
    "## this will be a simple random graph, every pair of nodes has an\n",
    "## equal probability of connection\n",
    "for x in g.nodes():\n",
    "    for y in g.nodes():\n",
    "        if r.random() <= density:\n",
    "            g.add_edge(x,y)\n",
    "            \n",
    "## draw the resulting graph and color the nodes by their value\n",
    "col = [n.a for n in g.nodes()]\n",
    "pos = nx.spring_layout(g)\n",
    "nx.draw_networkx(g, pos=pos, node_color=col)"
   ]
  },
  {
   "cell_type": "code",
   "execution_count": 80,
   "metadata": {
    "collapsed": false
   },
   "outputs": [
    {
     "name": "stdout",
     "output_type": "stream",
     "text": [
      "[0.59481869665453, 0.4787054986169703, 0.6345786324574545, 0.5583406511205509, 0.4998780934479225, 0.4433062597303738, 0.5782786039258474, 0.5941385554122159, 0.6282667334091848, 0.48009435883638785]\n",
      "[0.59481869665453, 0.4787054986169703, 0.6345786324574545, 0.5583406511205509, 0.4998780934479225, 0.4433062597303738, 0.5782786039258474, 0.5941385554122159, 0.6282667334091848, 0.48009435883638785]\n",
      "[0.59481869665453, 0.4787054986169703, 0.6345786324574545, 0.5583406511205509, 0.4998780934479225, 0.4433062597303738, 0.5782786039258474, 0.5941385554122159, 0.6282667334091848, 0.48009435883638785]\n",
      "[0.59481869665453, 0.4787054986169703, 0.6345786324574545, 0.5583406511205509, 0.4998780934479225, 0.4433062597303738, 0.5782786039258474, 0.5941385554122159, 0.6282667334091848, 0.48009435883638785]\n",
      "[0.59481869665453, 0.4787054986169703, 0.6345786324574545, 0.5583406511205509, 0.4998780934479225, 0.4433062597303738, 0.5782786039258474, 0.5941385554122159, 0.6282667334091848, 0.48009435883638785]\n",
      "[0.59481869665453, 0.4787054986169703, 0.6345786324574545, 0.5583406511205509, 0.4998780934479225, 0.4433062597303738, 0.5782786039258474, 0.5941385554122159, 0.6282667334091848, 0.48009435883638785]\n",
      "[0.59481869665453, 0.4787054986169703, 0.6345786324574545, 0.5583406511205509, 0.4998780934479225, 0.4433062597303738, 0.5782786039258474, 0.5941385554122159, 0.6282667334091848, 0.48009435883638785]\n",
      "[0.59481869665453, 0.4787054986169703, 0.6345786324574545, 0.5583406511205509, 0.4998780934479225, 0.4433062597303738, 0.5782786039258474, 0.5941385554122159, 0.6282667334091848, 0.48009435883638785]\n",
      "[0.59481869665453, 0.4787054986169703, 0.6345786324574545, 0.5583406511205509, 0.4998780934479225, 0.4433062597303738, 0.5782786039258474, 0.5941385554122159, 0.6282667334091848, 0.48009435883638785]\n",
      "[0.59481869665453, 0.4787054986169703, 0.6345786324574545, 0.5583406511205509, 0.4998780934479225, 0.4433062597303738, 0.5782786039258474, 0.5941385554122159, 0.6282667334091848, 0.48009435883638785]\n",
      "[0.59481869665453, 0.4787054986169703, 0.6345786324574545, 0.5583406511205509, 0.4998780934479225, 0.4433062597303738, 0.5782786039258474, 0.5941385554122159, 0.6282667334091848, 0.48009435883638785]\n",
      "[0.59481869665453, 0.4787054986169703, 0.6345786324574545, 0.5583406511205509, 0.4998780934479225, 0.4433062597303738, 0.5782786039258474, 0.5941385554122159, 0.6282667334091848, 0.48009435883638785]\n",
      "[0.59481869665453, 0.4787054986169703, 0.6345786324574545, 0.5583406511205509, 0.4998780934479225, 0.4433062597303738, 0.5782786039258474, 0.5941385554122159, 0.6282667334091848, 0.48009435883638785]\n",
      "[0.59481869665453, 0.4787054986169703, 0.6345786324574545, 0.5583406511205509, 0.4998780934479225, 0.4433062597303738, 0.5782786039258474, 0.5941385554122159, 0.6282667334091848, 0.48009435883638785]\n",
      "[0.59481869665453, 0.4787054986169703, 0.6345786324574545, 0.5583406511205509, 0.4998780934479225, 0.4433062597303738, 0.5782786039258474, 0.5941385554122159, 0.6282667334091848, 0.48009435883638785]\n",
      "[0.59481869665453, 0.4787054986169703, 0.6345786324574545, 0.5583406511205509, 0.4998780934479225, 0.4433062597303738, 0.5782786039258474, 0.5941385554122159, 0.6282667334091848, 0.48009435883638785]\n",
      "[0.59481869665453, 0.4787054986169703, 0.6345786324574545, 0.5583406511205509, 0.4998780934479225, 0.4433062597303738, 0.5782786039258474, 0.5941385554122159, 0.6282667334091848, 0.48009435883638785]\n",
      "[0.59481869665453, 0.4787054986169703, 0.6345786324574545, 0.5583406511205509, 0.4998780934479225, 0.4433062597303738, 0.5782786039258474, 0.5941385554122159, 0.6282667334091848, 0.48009435883638785]\n",
      "[0.59481869665453, 0.4787054986169703, 0.6345786324574545, 0.5583406511205509, 0.4998780934479225, 0.4433062597303738, 0.5782786039258474, 0.5941385554122159, 0.6282667334091848, 0.48009435883638785]\n",
      "[0.59481869665453, 0.4787054986169703, 0.6345786324574545, 0.5583406511205509, 0.4998780934479225, 0.4433062597303738, 0.5782786039258474, 0.5941385554122159, 0.6282667334091848, 0.48009435883638785]\n",
      "[0.59481869665453, 0.4787054986169703, 0.6345786324574545, 0.5583406511205509, 0.4998780934479225, 0.4433062597303738, 0.5782786039258474, 0.5941385554122159, 0.6282667334091848, 0.48009435883638785]\n",
      "[0.59481869665453, 0.4787054986169703, 0.6345786324574545, 0.5583406511205509, 0.4998780934479225, 0.4433062597303738, 0.5782786039258474, 0.5941385554122159, 0.6282667334091848, 0.48009435883638785]\n",
      "[0.59481869665453, 0.4787054986169703, 0.6345786324574545, 0.5583406511205509, 0.4998780934479225, 0.4433062597303738, 0.5782786039258474, 0.5941385554122159, 0.6282667334091848, 0.48009435883638785]\n",
      "[0.59481869665453, 0.4787054986169703, 0.6345786324574545, 0.5583406511205509, 0.4998780934479225, 0.4433062597303738, 0.5782786039258474, 0.5941385554122159, 0.6282667334091848, 0.48009435883638785]\n",
      "[0.59481869665453, 0.4787054986169703, 0.6345786324574545, 0.5583406511205509, 0.4998780934479225, 0.4433062597303738, 0.5782786039258474, 0.5941385554122159, 0.6282667334091848, 0.48009435883638785]\n",
      "[0.59481869665453, 0.4787054986169703, 0.6345786324574545, 0.5583406511205509, 0.4998780934479225, 0.4433062597303738, 0.5782786039258474, 0.5941385554122159, 0.6282667334091848, 0.48009435883638785]\n",
      "[0.59481869665453, 0.4787054986169703, 0.6345786324574545, 0.5583406511205509, 0.4998780934479225, 0.4433062597303738, 0.5782786039258474, 0.5941385554122159, 0.6282667334091848, 0.48009435883638785]\n",
      "[0.59481869665453, 0.4787054986169703, 0.6345786324574545, 0.5583406511205509, 0.4998780934479225, 0.4433062597303738, 0.5782786039258474, 0.5941385554122159, 0.6282667334091848, 0.48009435883638785]\n",
      "[0.59481869665453, 0.4787054986169703, 0.6345786324574545, 0.5583406511205509, 0.4998780934479225, 0.4433062597303738, 0.5782786039258474, 0.5941385554122159, 0.6282667334091848, 0.48009435883638785]\n",
      "[0.59481869665453, 0.4787054986169703, 0.6345786324574545, 0.5583406511205509, 0.4998780934479225, 0.4433062597303738, 0.5782786039258474, 0.5941385554122159, 0.6282667334091848, 0.48009435883638785]\n"
     ]
    },
    {
     "data": {
      "image/png": "[encoded data removed]",
      "text/plain": [
       "<matplotlib.figure.Figure at 0x7f5ced660850>"
      ]
     },
     "metadata": {},
     "output_type": "display_data"
    }
   ],
   "source": [
    "## repeat for 30 times periods\n",
    "for i in range(30):\n",
    "    ## iterate through all nodes in the network and tell them to make a step\n",
    "    for node in g.nodes():\n",
    "        node.step()\n",
    "        \n",
    "    ## collect new attitude data, print it to the terminal and plot it.\n",
    "    col = [n.a for n in g.nodes()]\n",
    "    print col\n",
    "    plot.plot(col)"
   ]
  },
  {
   "cell_type": "code",
   "execution_count": 81,
   "metadata": {
    "collapsed": true
   },
   "outputs": [],
   "source": [
    "class Influencer(Person):\n",
    "    def __ini__(self, id):\n",
    "        self.id = id\n",
    "        self.i = r.random()\n",
    "        self.a = 1 ## opinion is strong and immovable\n",
    "        \n",
    "    def step(self):\n",
    "        pass"
   ]
  },
  {
   "cell_type": "code",
   "execution_count": 86,
   "metadata": {
    "collapsed": false
   },
   "outputs": [
    {
     "data": {
      "image/png": "[encoded data removed]",
      "text/plain": [
       "<matplotlib.figure.Figure at 0x7f5ce7d652d0>"
      ]
     },
     "metadata": {},
     "output_type": "display_data"
    }
   ],
   "source": [
    "influencers = 2\n",
    "connections = 4\n",
    "## add the influencers to the network and connect each to 3 other nodes\n",
    "for i in range(influencers):\n",
    "    inf = Influencer(\"Inf\" + str(i))\n",
    "    for x in range(connections):\n",
    "        g.add_edge(r.choice(g.nodes()), inf)\n",
    "        \n",
    "## repeat for 30 time periods\n",
    "for i in range(30):\n",
    "    ## iterate through all nodes in the network and tell them to make a step\n",
    "    for node in g.nodes():\n",
    "        node.step()\n",
    "        \n",
    "    ## collect new attitude data, print it to the terminal and plot it.\n",
    "    col = [n.a for n in g.nodes()]\n",
    "    #print col\n",
    "    plot.plot(col)"
   ]
  },
  {
   "cell_type": "markdown",
   "metadata": {},
   "source": [
    "# iGraph Network Diffusion"
   ]
  },
  {
   "cell_type": "code",
   "execution_count": 100,
   "metadata": {
    "collapsed": true
   },
   "outputs": [],
   "source": [
    "from igraph import *"
   ]
  },
  {
   "cell_type": "code",
   "execution_count": 104,
   "metadata": {
    "collapsed": false
   },
   "outputs": [
    {
     "data": {
      "image/svg+xml": [
       "<?xml version=\"1.0\" encoding=\"UTF-8\"?>\n",
       "<svg xmlns=\"http://www.w3.org/2000/svg\" xmlns:xlink=\"http://www.w3.org/1999/xlink\" width=\"600pt\" height=\"600pt\" viewBox=\"0 0 600 600\" version=\"1.1\">\n",
       "<g id=\"surface14\">\n",
       "<rect x=\"0\" y=\"0\" width=\"600\" height=\"600\" style=\"fill:rgb(100%,100%,100%);fill-opacity:1;stroke:none;\"/>\n",
       "<path style=\"fill:none;stroke-width:1;stroke-linecap:butt;stroke-linejoin:miter;stroke:rgb(26.666667%,26.666667%,26.666667%);stroke-opacity:1;stroke-miterlimit:10;\" d=\"M 382.421875 376.304688 L 350.519531 301.863281 \"/>\n",
       "<path style=\"fill:none;stroke-width:1;stroke-linecap:butt;stroke-linejoin:miter;stroke:rgb(26.666667%,26.666667%,26.666667%);stroke-opacity:1;stroke-miterlimit:10;\" d=\"M 350.519531 301.863281 L 336.464844 218.605469 \"/>\n",
       "<path style=\"fill:none;stroke-width:1;stroke-linecap:butt;stroke-linejoin:miter;stroke:rgb(26.666667%,26.666667%,26.666667%);stroke-opacity:1;stroke-miterlimit:10;\" d=\"M 382.421875 376.304688 L 378.097656 433.546875 \"/>\n",
       "<path style=\"fill:none;stroke-width:1;stroke-linecap:butt;stroke-linejoin:miter;stroke:rgb(26.666667%,26.666667%,26.666667%);stroke-opacity:1;stroke-miterlimit:10;\" d=\"M 336.464844 218.605469 L 381.582031 215.84375 \"/>\n",
       "<path style=\"fill:none;stroke-width:1;stroke-linecap:butt;stroke-linejoin:miter;stroke:rgb(26.666667%,26.666667%,26.666667%);stroke-opacity:1;stroke-miterlimit:10;\" d=\"M 382.421875 376.304688 L 394.367188 410.574219 \"/>\n",
       "<path style=\"fill:none;stroke-width:1;stroke-linecap:butt;stroke-linejoin:miter;stroke:rgb(26.666667%,26.666667%,26.666667%);stroke-opacity:1;stroke-miterlimit:10;\" d=\"M 382.421875 376.304688 L 414.332031 397.3125 \"/>\n",
       "<path style=\"fill:none;stroke-width:1;stroke-linecap:butt;stroke-linejoin:miter;stroke:rgb(26.666667%,26.666667%,26.666667%);stroke-opacity:1;stroke-miterlimit:10;\" d=\"M 336.464844 218.605469 L 401.804688 177.335938 \"/>\n",
       "<path style=\"fill:none;stroke-width:1;stroke-linecap:butt;stroke-linejoin:miter;stroke:rgb(26.666667%,26.666667%,26.666667%);stroke-opacity:1;stroke-miterlimit:10;\" d=\"M 336.464844 218.605469 L 264.285156 194.050781 \"/>\n",
       "<path style=\"fill:none;stroke-width:1;stroke-linecap:butt;stroke-linejoin:miter;stroke:rgb(26.666667%,26.666667%,26.666667%);stroke-opacity:1;stroke-miterlimit:10;\" d=\"M 264.285156 194.050781 L 197.617188 170.464844 \"/>\n",
       "<path style=\"fill:none;stroke-width:1;stroke-linecap:butt;stroke-linejoin:miter;stroke:rgb(26.666667%,26.666667%,26.666667%);stroke-opacity:1;stroke-miterlimit:10;\" d=\"M 336.464844 218.605469 L 342.109375 158.503906 \"/>\n",
       "<path style=\"fill:none;stroke-width:1;stroke-linecap:butt;stroke-linejoin:miter;stroke:rgb(26.666667%,26.666667%,26.666667%);stroke-opacity:1;stroke-miterlimit:10;\" d=\"M 342.109375 158.503906 L 374.34375 94.625 \"/>\n",
       "<path style=\"fill:none;stroke-width:1;stroke-linecap:butt;stroke-linejoin:miter;stroke:rgb(26.666667%,26.666667%,26.666667%);stroke-opacity:1;stroke-miterlimit:10;\" d=\"M 336.464844 218.605469 L 360.972656 167.140625 \"/>\n",
       "<path style=\"fill:none;stroke-width:1;stroke-linecap:butt;stroke-linejoin:miter;stroke:rgb(26.666667%,26.666667%,26.666667%);stroke-opacity:1;stroke-miterlimit:10;\" d=\"M 197.617188 170.464844 L 127.769531 187.011719 \"/>\n",
       "<path style=\"fill:none;stroke-width:1;stroke-linecap:butt;stroke-linejoin:miter;stroke:rgb(26.666667%,26.666667%,26.666667%);stroke-opacity:1;stroke-miterlimit:10;\" d=\"M 360.972656 167.140625 L 356.90625 91.011719 \"/>\n",
       "<path style=\"fill:none;stroke-width:1;stroke-linecap:butt;stroke-linejoin:miter;stroke:rgb(26.666667%,26.666667%,26.666667%);stroke-opacity:1;stroke-miterlimit:10;\" d=\"M 264.285156 194.050781 L 239.523438 173.554688 \"/>\n",
       "<path style=\"fill:none;stroke-width:1;stroke-linecap:butt;stroke-linejoin:miter;stroke:rgb(26.666667%,26.666667%,26.666667%);stroke-opacity:1;stroke-miterlimit:10;\" d=\"M 350.519531 301.863281 L 394.09375 284.457031 \"/>\n",
       "<path style=\"fill:none;stroke-width:1;stroke-linecap:butt;stroke-linejoin:miter;stroke:rgb(26.666667%,26.666667%,26.666667%);stroke-opacity:1;stroke-miterlimit:10;\" d=\"M 382.421875 376.304688 L 348.171875 446.289062 \"/>\n",
       "<path style=\"fill:none;stroke-width:1;stroke-linecap:butt;stroke-linejoin:miter;stroke:rgb(26.666667%,26.666667%,26.666667%);stroke-opacity:1;stroke-miterlimit:10;\" d=\"M 382.421875 376.304688 L 331.050781 419.636719 \"/>\n",
       "<path style=\"fill:none;stroke-width:1;stroke-linecap:butt;stroke-linejoin:miter;stroke:rgb(26.666667%,26.666667%,26.666667%);stroke-opacity:1;stroke-miterlimit:10;\" d=\"M 197.617188 170.464844 L 178.550781 100.386719 \"/>\n",
       "<path style=\"fill:none;stroke-width:1;stroke-linecap:butt;stroke-linejoin:miter;stroke:rgb(26.666667%,26.666667%,26.666667%);stroke-opacity:1;stroke-miterlimit:10;\" d=\"M 127.769531 187.011719 L 78.375 136.441406 \"/>\n",
       "<path style=\"fill:none;stroke-width:1;stroke-linecap:butt;stroke-linejoin:miter;stroke:rgb(26.666667%,26.666667%,26.666667%);stroke-opacity:1;stroke-miterlimit:10;\" d=\"M 348.171875 446.289062 L 318.03125 516.332031 \"/>\n",
       "<path style=\"fill:none;stroke-width:1;stroke-linecap:butt;stroke-linejoin:miter;stroke:rgb(26.666667%,26.666667%,26.666667%);stroke-opacity:1;stroke-miterlimit:10;\" d=\"M 197.617188 170.464844 L 166.300781 225.214844 \"/>\n",
       "<path style=\"fill:none;stroke-width:1;stroke-linecap:butt;stroke-linejoin:miter;stroke:rgb(26.666667%,26.666667%,26.666667%);stroke-opacity:1;stroke-miterlimit:10;\" d=\"M 401.804688 177.335938 L 455.863281 194.246094 \"/>\n",
       "<path style=\"fill:none;stroke-width:1;stroke-linecap:butt;stroke-linejoin:miter;stroke:rgb(26.666667%,26.666667%,26.666667%);stroke-opacity:1;stroke-miterlimit:10;\" d=\"M 382.421875 376.304688 L 411.945312 439.328125 \"/>\n",
       "<path style=\"fill:none;stroke-width:1;stroke-linecap:butt;stroke-linejoin:miter;stroke:rgb(26.666667%,26.666667%,26.666667%);stroke-opacity:1;stroke-miterlimit:10;\" d=\"M 401.804688 177.335938 L 445.132812 110.179688 \"/>\n",
       "<path style=\"fill:none;stroke-width:1;stroke-linecap:butt;stroke-linejoin:miter;stroke:rgb(26.666667%,26.666667%,26.666667%);stroke-opacity:1;stroke-miterlimit:10;\" d=\"M 318.03125 516.332031 L 270.472656 555.574219 \"/>\n",
       "<path style=\"fill:none;stroke-width:1;stroke-linecap:butt;stroke-linejoin:miter;stroke:rgb(26.666667%,26.666667%,26.666667%);stroke-opacity:1;stroke-miterlimit:10;\" d=\"M 382.421875 376.304688 L 362.765625 407.238281 \"/>\n",
       "<path style=\"fill:none;stroke-width:1;stroke-linecap:butt;stroke-linejoin:miter;stroke:rgb(26.666667%,26.666667%,26.666667%);stroke-opacity:1;stroke-miterlimit:10;\" d=\"M 318.03125 516.332031 L 356.214844 577.523438 \"/>\n",
       "<path style=\"fill:none;stroke-width:1;stroke-linecap:butt;stroke-linejoin:miter;stroke:rgb(26.666667%,26.666667%,26.666667%);stroke-opacity:1;stroke-miterlimit:10;\" d=\"M 336.464844 218.605469 L 300.730469 222.148438 \"/>\n",
       "<path style=\"fill:none;stroke-width:1;stroke-linecap:butt;stroke-linejoin:miter;stroke:rgb(26.666667%,26.666667%,26.666667%);stroke-opacity:1;stroke-miterlimit:10;\" d=\"M 382.421875 376.304688 L 443.9375 402.164062 \"/>\n",
       "<path style=\"fill:none;stroke-width:1;stroke-linecap:butt;stroke-linejoin:miter;stroke:rgb(26.666667%,26.666667%,26.666667%);stroke-opacity:1;stroke-miterlimit:10;\" d=\"M 336.464844 218.605469 L 322.351562 172.09375 \"/>\n",
       "<path style=\"fill:none;stroke-width:1;stroke-linecap:butt;stroke-linejoin:miter;stroke:rgb(26.666667%,26.666667%,26.666667%);stroke-opacity:1;stroke-miterlimit:10;\" d=\"M 127.769531 187.011719 L 86.742188 167.273438 \"/>\n",
       "<path style=\"fill:none;stroke-width:1;stroke-linecap:butt;stroke-linejoin:miter;stroke:rgb(26.666667%,26.666667%,26.666667%);stroke-opacity:1;stroke-miterlimit:10;\" d=\"M 127.769531 187.011719 L 98.308594 257.898438 \"/>\n",
       "<path style=\"fill:none;stroke-width:1;stroke-linecap:butt;stroke-linejoin:miter;stroke:rgb(26.666667%,26.666667%,26.666667%);stroke-opacity:1;stroke-miterlimit:10;\" d=\"M 318.03125 516.332031 L 296.867188 572.90625 \"/>\n",
       "<path style=\"fill:none;stroke-width:1;stroke-linecap:butt;stroke-linejoin:miter;stroke:rgb(26.666667%,26.666667%,26.666667%);stroke-opacity:1;stroke-miterlimit:10;\" d=\"M 382.421875 376.304688 L 392.628906 347.808594 \"/>\n",
       "<path style=\"fill:none;stroke-width:1;stroke-linecap:butt;stroke-linejoin:miter;stroke:rgb(26.666667%,26.666667%,26.666667%);stroke-opacity:1;stroke-miterlimit:10;\" d=\"M 443.9375 402.164062 L 494.808594 424.125 \"/>\n",
       "<path style=\"fill:none;stroke-width:1;stroke-linecap:butt;stroke-linejoin:miter;stroke:rgb(26.666667%,26.666667%,26.666667%);stroke-opacity:1;stroke-miterlimit:10;\" d=\"M 360.972656 167.140625 L 395.382812 109.210938 \"/>\n",
       "<path style=\"fill:none;stroke-width:1;stroke-linecap:butt;stroke-linejoin:miter;stroke:rgb(26.666667%,26.666667%,26.666667%);stroke-opacity:1;stroke-miterlimit:10;\" d=\"M 445.132812 110.179688 L 433.296875 37.492188 \"/>\n",
       "<path style=\"fill:none;stroke-width:1;stroke-linecap:butt;stroke-linejoin:miter;stroke:rgb(26.666667%,26.666667%,26.666667%);stroke-opacity:1;stroke-miterlimit:10;\" d=\"M 336.464844 218.605469 L 362.914062 200.699219 \"/>\n",
       "<path style=\"fill:none;stroke-width:1;stroke-linecap:butt;stroke-linejoin:miter;stroke:rgb(26.666667%,26.666667%,26.666667%);stroke-opacity:1;stroke-miterlimit:10;\" d=\"M 382.421875 376.304688 L 454.980469 357.132812 \"/>\n",
       "<path style=\"fill:none;stroke-width:1;stroke-linecap:butt;stroke-linejoin:miter;stroke:rgb(26.666667%,26.666667%,26.666667%);stroke-opacity:1;stroke-miterlimit:10;\" d=\"M 454.980469 357.132812 L 522.207031 374.050781 \"/>\n",
       "<path style=\"fill:none;stroke-width:1;stroke-linecap:butt;stroke-linejoin:miter;stroke:rgb(26.666667%,26.666667%,26.666667%);stroke-opacity:1;stroke-miterlimit:10;\" d=\"M 382.421875 376.304688 L 324.394531 397.242188 \"/>\n",
       "<path style=\"fill:none;stroke-width:1;stroke-linecap:butt;stroke-linejoin:miter;stroke:rgb(26.666667%,26.666667%,26.666667%);stroke-opacity:1;stroke-miterlimit:10;\" d=\"M 350.519531 301.863281 L 284.835938 332.964844 \"/>\n",
       "<path style=\"fill:none;stroke-width:1;stroke-linecap:butt;stroke-linejoin:miter;stroke:rgb(26.666667%,26.666667%,26.666667%);stroke-opacity:1;stroke-miterlimit:10;\" d=\"M 197.617188 170.464844 L 201.789062 90.972656 \"/>\n",
       "<path style=\"fill:none;stroke-width:1;stroke-linecap:butt;stroke-linejoin:miter;stroke:rgb(26.666667%,26.666667%,26.666667%);stroke-opacity:1;stroke-miterlimit:10;\" d=\"M 331.050781 419.636719 L 303.375 478.515625 \"/>\n",
       "<path style=\"fill:none;stroke-width:1;stroke-linecap:butt;stroke-linejoin:miter;stroke:rgb(26.666667%,26.666667%,26.666667%);stroke-opacity:1;stroke-miterlimit:10;\" d=\"M 401.804688 177.335938 L 442.34375 153.132812 \"/>\n",
       "<path style=\"fill:none;stroke-width:1;stroke-linecap:butt;stroke-linejoin:miter;stroke:rgb(26.666667%,26.666667%,26.666667%);stroke-opacity:1;stroke-miterlimit:10;\" d=\"M 401.804688 177.335938 L 413.878906 124.113281 \"/>\n",
       "<path style=\"fill:none;stroke-width:1;stroke-linecap:butt;stroke-linejoin:miter;stroke:rgb(26.666667%,26.666667%,26.666667%);stroke-opacity:1;stroke-miterlimit:10;\" d=\"M 342.109375 158.503906 L 335.824219 85.351562 \"/>\n",
       "<path style=\"fill:none;stroke-width:1;stroke-linecap:butt;stroke-linejoin:miter;stroke:rgb(26.666667%,26.666667%,26.666667%);stroke-opacity:1;stroke-miterlimit:10;\" d=\"M 127.769531 187.011719 L 107.601562 121.761719 \"/>\n",
       "<path style=\"fill:none;stroke-width:1;stroke-linecap:butt;stroke-linejoin:miter;stroke:rgb(26.666667%,26.666667%,26.666667%);stroke-opacity:1;stroke-miterlimit:10;\" d=\"M 445.132812 110.179688 L 507.648438 115.058594 \"/>\n",
       "<path style=\"fill:none;stroke-width:1;stroke-linecap:butt;stroke-linejoin:miter;stroke:rgb(26.666667%,26.666667%,26.666667%);stroke-opacity:1;stroke-miterlimit:10;\" d=\"M 411.945312 439.328125 L 402.601562 505.507812 \"/>\n",
       "<path style=\"fill:none;stroke-width:1;stroke-linecap:butt;stroke-linejoin:miter;stroke:rgb(26.666667%,26.666667%,26.666667%);stroke-opacity:1;stroke-miterlimit:10;\" d=\"M 382.421875 376.304688 L 344.710938 385.53125 \"/>\n",
       "<path style=\"fill:none;stroke-width:1;stroke-linecap:butt;stroke-linejoin:miter;stroke:rgb(26.666667%,26.666667%,26.666667%);stroke-opacity:1;stroke-miterlimit:10;\" d=\"M 197.617188 170.464844 L 165.210938 196.265625 \"/>\n",
       "<path style=\"fill:none;stroke-width:1;stroke-linecap:butt;stroke-linejoin:miter;stroke:rgb(26.666667%,26.666667%,26.666667%);stroke-opacity:1;stroke-miterlimit:10;\" d=\"M 411.945312 439.328125 L 431.410156 495.726562 \"/>\n",
       "<path style=\"fill:none;stroke-width:1;stroke-linecap:butt;stroke-linejoin:miter;stroke:rgb(26.666667%,26.666667%,26.666667%);stroke-opacity:1;stroke-miterlimit:10;\" d=\"M 324.394531 397.242188 L 268.378906 438.171875 \"/>\n",
       "<path style=\"fill:none;stroke-width:1;stroke-linecap:butt;stroke-linejoin:miter;stroke:rgb(26.666667%,26.666667%,26.666667%);stroke-opacity:1;stroke-miterlimit:10;\" d=\"M 197.617188 170.464844 L 165.269531 146.1875 \"/>\n",
       "<path style=\"fill:none;stroke-width:1;stroke-linecap:butt;stroke-linejoin:miter;stroke:rgb(26.666667%,26.666667%,26.666667%);stroke-opacity:1;stroke-miterlimit:10;\" d=\"M 378.097656 433.546875 L 373.726562 503.363281 \"/>\n",
       "<path style=\"fill:none;stroke-width:1;stroke-linecap:butt;stroke-linejoin:miter;stroke:rgb(26.666667%,26.666667%,26.666667%);stroke-opacity:1;stroke-miterlimit:10;\" d=\"M 264.285156 194.050781 L 258.148438 144.816406 \"/>\n",
       "<path style=\"fill:none;stroke-width:1;stroke-linecap:butt;stroke-linejoin:miter;stroke:rgb(26.666667%,26.666667%,26.666667%);stroke-opacity:1;stroke-miterlimit:10;\" d=\"M 264.285156 194.050781 L 228.734375 222.476562 \"/>\n",
       "<path style=\"fill:none;stroke-width:1;stroke-linecap:butt;stroke-linejoin:miter;stroke:rgb(26.666667%,26.666667%,26.666667%);stroke-opacity:1;stroke-miterlimit:10;\" d=\"M 201.789062 90.972656 L 189.453125 20 \"/>\n",
       "<path style=\"fill:none;stroke-width:1;stroke-linecap:butt;stroke-linejoin:miter;stroke:rgb(26.666667%,26.666667%,26.666667%);stroke-opacity:1;stroke-miterlimit:10;\" d=\"M 336.464844 218.605469 L 312.5 198.769531 \"/>\n",
       "<path style=\"fill:none;stroke-width:1;stroke-linecap:butt;stroke-linejoin:miter;stroke:rgb(26.666667%,26.666667%,26.666667%);stroke-opacity:1;stroke-miterlimit:10;\" d=\"M 443.9375 402.164062 L 485 456.265625 \"/>\n",
       "<path style=\"fill:none;stroke-width:1;stroke-linecap:butt;stroke-linejoin:miter;stroke:rgb(26.666667%,26.666667%,26.666667%);stroke-opacity:1;stroke-miterlimit:10;\" d=\"M 336.464844 218.605469 L 311.835938 247.046875 \"/>\n",
       "<path style=\"fill:none;stroke-width:1;stroke-linecap:butt;stroke-linejoin:miter;stroke:rgb(26.666667%,26.666667%,26.666667%);stroke-opacity:1;stroke-miterlimit:10;\" d=\"M 264.285156 194.050781 L 267.835938 118.601562 \"/>\n",
       "<path style=\"fill:none;stroke-width:1;stroke-linecap:butt;stroke-linejoin:miter;stroke:rgb(26.666667%,26.666667%,26.666667%);stroke-opacity:1;stroke-miterlimit:10;\" d=\"M 178.550781 100.386719 L 158.0625 35.015625 \"/>\n",
       "<path style=\"fill:none;stroke-width:1;stroke-linecap:butt;stroke-linejoin:miter;stroke:rgb(26.666667%,26.666667%,26.666667%);stroke-opacity:1;stroke-miterlimit:10;\" d=\"M 454.980469 357.132812 L 506.515625 345.058594 \"/>\n",
       "<path style=\"fill:none;stroke-width:1;stroke-linecap:butt;stroke-linejoin:miter;stroke:rgb(26.666667%,26.666667%,26.666667%);stroke-opacity:1;stroke-miterlimit:10;\" d=\"M 350.519531 301.863281 L 319.453125 315.425781 \"/>\n",
       "<path style=\"fill:none;stroke-width:1;stroke-linecap:butt;stroke-linejoin:miter;stroke:rgb(26.666667%,26.666667%,26.666667%);stroke-opacity:1;stroke-miterlimit:10;\" d=\"M 78.375 136.441406 L 20 147.199219 \"/>\n",
       "<path style=\"fill:none;stroke-width:1;stroke-linecap:butt;stroke-linejoin:miter;stroke:rgb(26.666667%,26.666667%,26.666667%);stroke-opacity:1;stroke-miterlimit:10;\" d=\"M 411.945312 439.328125 L 460.210938 483.746094 \"/>\n",
       "<path style=\"fill:none;stroke-width:1;stroke-linecap:butt;stroke-linejoin:miter;stroke:rgb(26.666667%,26.666667%,26.666667%);stroke-opacity:1;stroke-miterlimit:10;\" d=\"M 264.285156 194.050781 L 226.574219 244.027344 \"/>\n",
       "<path style=\"fill:none;stroke-width:1;stroke-linecap:butt;stroke-linejoin:miter;stroke:rgb(26.666667%,26.666667%,26.666667%);stroke-opacity:1;stroke-miterlimit:10;\" d=\"M 350.519531 301.863281 L 302.449219 320.355469 \"/>\n",
       "<path style=\"fill:none;stroke-width:1;stroke-linecap:butt;stroke-linejoin:miter;stroke:rgb(26.666667%,26.666667%,26.666667%);stroke-opacity:1;stroke-miterlimit:10;\" d=\"M 522.207031 374.050781 L 573.554688 407.4375 \"/>\n",
       "<path style=\"fill:none;stroke-width:1;stroke-linecap:butt;stroke-linejoin:miter;stroke:rgb(26.666667%,26.666667%,26.666667%);stroke-opacity:1;stroke-miterlimit:10;\" d=\"M 336.464844 218.605469 L 369.480469 230.636719 \"/>\n",
       "<path style=\"fill:none;stroke-width:1;stroke-linecap:butt;stroke-linejoin:miter;stroke:rgb(26.666667%,26.666667%,26.666667%);stroke-opacity:1;stroke-miterlimit:10;\" d=\"M 522.207031 374.050781 L 580 352.390625 \"/>\n",
       "<path style=\"fill:none;stroke-width:1;stroke-linecap:butt;stroke-linejoin:miter;stroke:rgb(26.666667%,26.666667%,26.666667%);stroke-opacity:1;stroke-miterlimit:10;\" d=\"M 336.464844 218.605469 L 341.734375 244.648438 \"/>\n",
       "<path style=\"fill:none;stroke-width:1;stroke-linecap:butt;stroke-linejoin:miter;stroke:rgb(26.666667%,26.666667%,26.666667%);stroke-opacity:1;stroke-miterlimit:10;\" d=\"M 382.421875 376.304688 L 355.492188 366.417969 \"/>\n",
       "<path style=\"fill:none;stroke-width:1;stroke-linecap:butt;stroke-linejoin:miter;stroke:rgb(26.666667%,26.666667%,26.666667%);stroke-opacity:1;stroke-miterlimit:10;\" d=\"M 445.132812 110.179688 L 461.253906 51.644531 \"/>\n",
       "<path style=\"fill:none;stroke-width:1;stroke-linecap:butt;stroke-linejoin:miter;stroke:rgb(26.666667%,26.666667%,26.666667%);stroke-opacity:1;stroke-miterlimit:10;\" d=\"M 127.769531 187.011719 L 96.351562 236.273438 \"/>\n",
       "<path style=\"fill:none;stroke-width:1;stroke-linecap:butt;stroke-linejoin:miter;stroke:rgb(26.666667%,26.666667%,26.666667%);stroke-opacity:1;stroke-miterlimit:10;\" d=\"M 382.421875 376.304688 L 420.648438 373.148438 \"/>\n",
       "<path style=\"fill:none;stroke-width:1;stroke-linecap:butt;stroke-linejoin:miter;stroke:rgb(26.666667%,26.666667%,26.666667%);stroke-opacity:1;stroke-miterlimit:10;\" d=\"M 443.9375 402.164062 L 502.433594 390.128906 \"/>\n",
       "<path style=\"fill:none;stroke-width:1;stroke-linecap:butt;stroke-linejoin:miter;stroke:rgb(26.666667%,26.666667%,26.666667%);stroke-opacity:1;stroke-miterlimit:10;\" d=\"M 445.132812 110.179688 L 494.054688 75.570312 \"/>\n",
       "<path style=\"fill:none;stroke-width:1;stroke-linecap:butt;stroke-linejoin:miter;stroke:rgb(26.666667%,26.666667%,26.666667%);stroke-opacity:1;stroke-miterlimit:10;\" d=\"M 460.210938 483.746094 L 488.699219 543.230469 \"/>\n",
       "<path style=\"fill:none;stroke-width:1;stroke-linecap:butt;stroke-linejoin:miter;stroke:rgb(26.666667%,26.666667%,26.666667%);stroke-opacity:1;stroke-miterlimit:10;\" d=\"M 485 456.265625 L 538.4375 489.019531 \"/>\n",
       "<path style=\"fill:none;stroke-width:1;stroke-linecap:butt;stroke-linejoin:miter;stroke:rgb(26.666667%,26.666667%,26.666667%);stroke-opacity:1;stroke-miterlimit:10;\" d=\"M 267.835938 118.601562 L 268.449219 43.757812 \"/>\n",
       "<path style=\"fill:none;stroke-width:1;stroke-linecap:butt;stroke-linejoin:miter;stroke:rgb(26.666667%,26.666667%,26.666667%);stroke-opacity:1;stroke-miterlimit:10;\" d=\"M 322.351562 172.09375 L 319.550781 97.34375 \"/>\n",
       "<path style=\"fill:none;stroke-width:1;stroke-linecap:butt;stroke-linejoin:miter;stroke:rgb(26.666667%,26.666667%,26.666667%);stroke-opacity:1;stroke-miterlimit:10;\" d=\"M 197.617188 170.464844 L 186.207031 125.035156 \"/>\n",
       "<path style=\"fill:none;stroke-width:1;stroke-linecap:butt;stroke-linejoin:miter;stroke:rgb(26.666667%,26.666667%,26.666667%);stroke-opacity:1;stroke-miterlimit:10;\" d=\"M 382.421875 376.304688 L 426.855469 349.585938 \"/>\n",
       "<path style=\"fill:none;stroke-width:1;stroke-linecap:butt;stroke-linejoin:miter;stroke:rgb(26.666667%,26.666667%,26.666667%);stroke-opacity:1;stroke-miterlimit:10;\" d=\"M 331.050781 419.636719 L 275.988281 455.792969 \"/>\n",
       "<path style=\"fill:none;stroke-width:1;stroke-linecap:butt;stroke-linejoin:miter;stroke:rgb(26.666667%,26.666667%,26.666667%);stroke-opacity:1;stroke-miterlimit:10;\" d=\"M 318.03125 516.332031 L 252.203125 533.4375 \"/>\n",
       "<path style=\"fill:none;stroke-width:1;stroke-linecap:butt;stroke-linejoin:miter;stroke:rgb(26.666667%,26.666667%,26.666667%);stroke-opacity:1;stroke-miterlimit:10;\" d=\"M 318.03125 516.332031 L 327.765625 580 \"/>\n",
       "<path style=\"fill:none;stroke-width:1;stroke-linecap:butt;stroke-linejoin:miter;stroke:rgb(26.666667%,26.666667%,26.666667%);stroke-opacity:1;stroke-miterlimit:10;\" d=\"M 78.375 136.441406 L 48.085938 80.996094 \"/>\n",
       "<path style=\"fill:none;stroke-width:1;stroke-linecap:butt;stroke-linejoin:miter;stroke:rgb(26.666667%,26.666667%,26.666667%);stroke-opacity:1;stroke-miterlimit:10;\" d=\"M 284.835938 332.964844 L 228.65625 368.332031 \"/>\n",
       "<path style=\"fill:none;stroke-width:1;stroke-linecap:butt;stroke-linejoin:miter;stroke:rgb(26.666667%,26.666667%,26.666667%);stroke-opacity:1;stroke-miterlimit:10;\" d=\"M 382.421875 376.304688 L 412.617188 340.40625 \"/>\n",
       "<path style=\"fill:none;stroke-width:1;stroke-linecap:butt;stroke-linejoin:miter;stroke:rgb(26.666667%,26.666667%,26.666667%);stroke-opacity:1;stroke-miterlimit:10;\" d=\"M 127.769531 187.011719 L 77.285156 197.671875 \"/>\n",
       "<path style=\"fill:none;stroke-width:1;stroke-linecap:butt;stroke-linejoin:miter;stroke:rgb(26.666667%,26.666667%,26.666667%);stroke-opacity:1;stroke-miterlimit:10;\" d=\"M 401.804688 177.335938 L 457.539062 173.203125 \"/>\n",
       "<path style=\"fill:none;stroke-width:1;stroke-linecap:butt;stroke-linejoin:miter;stroke:rgb(26.666667%,26.666667%,26.666667%);stroke-opacity:1;stroke-miterlimit:10;\" d=\"M 454.980469 357.132812 L 502.355469 318.046875 \"/>\n",
       "<path style=\"fill:none;stroke-width:1;stroke-linecap:butt;stroke-linejoin:miter;stroke:rgb(26.666667%,26.666667%,26.666667%);stroke-opacity:1;stroke-miterlimit:10;\" d=\"M 494.054688 75.570312 L 531.707031 28.925781 \"/>\n",
       "<path style=\"fill:none;stroke-width:1;stroke-linecap:butt;stroke-linejoin:miter;stroke:rgb(26.666667%,26.666667%,26.666667%);stroke-opacity:1;stroke-miterlimit:10;\" d=\"M 336.464844 218.605469 L 293.550781 245.265625 \"/>\n",
       "<path style=\"fill:none;stroke-width:1;stroke-linecap:butt;stroke-linejoin:miter;stroke:rgb(26.666667%,26.666667%,26.666667%);stroke-opacity:1;stroke-miterlimit:10;\" d=\"M 127.769531 187.011719 L 76.335938 226.878906 \"/>\n",
       "<path style=\"fill-rule:nonzero;fill:rgb(100%,0%,0%);fill-opacity:1;stroke-width:1;stroke-linecap:butt;stroke-linejoin:miter;stroke:rgb(0%,0%,0%);stroke-opacity:1;stroke-miterlimit:10;\" d=\"M 392.421875 376.304688 C 392.421875 381.828125 387.945312 386.304688 382.421875 386.304688 C 376.898438 386.304688 372.421875 381.828125 372.421875 376.304688 C 372.421875 370.78125 376.898438 366.304688 382.421875 366.304688 C 387.945312 366.304688 392.421875 370.78125 392.421875 376.304688 \"/>\n",
       "<path style=\"fill-rule:nonzero;fill:rgb(100%,0%,0%);fill-opacity:1;stroke-width:1;stroke-linecap:butt;stroke-linejoin:miter;stroke:rgb(0%,0%,0%);stroke-opacity:1;stroke-miterlimit:10;\" d=\"M 360.519531 301.863281 C 360.519531 307.386719 356.042969 311.863281 350.519531 311.863281 C 344.996094 311.863281 340.519531 307.386719 340.519531 301.863281 C 340.519531 296.339844 344.996094 291.863281 350.519531 291.863281 C 356.042969 291.863281 360.519531 296.339844 360.519531 301.863281 \"/>\n",
       "<path style=\"fill-rule:nonzero;fill:rgb(100%,0%,0%);fill-opacity:1;stroke-width:1;stroke-linecap:butt;stroke-linejoin:miter;stroke:rgb(0%,0%,0%);stroke-opacity:1;stroke-miterlimit:10;\" d=\"M 346.464844 218.605469 C 346.464844 224.128906 341.988281 228.605469 336.464844 228.605469 C 330.941406 228.605469 326.464844 224.128906 326.464844 218.605469 C 326.464844 213.082031 330.941406 208.605469 336.464844 208.605469 C 341.988281 208.605469 346.464844 213.082031 346.464844 218.605469 \"/>\n",
       "<path style=\"fill-rule:nonzero;fill:rgb(100%,0%,0%);fill-opacity:1;stroke-width:1;stroke-linecap:butt;stroke-linejoin:miter;stroke:rgb(0%,0%,0%);stroke-opacity:1;stroke-miterlimit:10;\" d=\"M 388.097656 433.546875 C 388.097656 439.070312 383.621094 443.546875 378.097656 443.546875 C 372.574219 443.546875 368.097656 439.070312 368.097656 433.546875 C 368.097656 428.023438 372.574219 423.546875 378.097656 423.546875 C 383.621094 423.546875 388.097656 428.023438 388.097656 433.546875 \"/>\n",
       "<path style=\"fill-rule:nonzero;fill:rgb(100%,0%,0%);fill-opacity:1;stroke-width:1;stroke-linecap:butt;stroke-linejoin:miter;stroke:rgb(0%,0%,0%);stroke-opacity:1;stroke-miterlimit:10;\" d=\"M 391.582031 215.84375 C 391.582031 221.367188 387.105469 225.84375 381.582031 225.84375 C 376.0625 225.84375 371.582031 221.367188 371.582031 215.84375 C 371.582031 210.320312 376.0625 205.84375 381.582031 205.84375 C 387.105469 205.84375 391.582031 210.320312 391.582031 215.84375 \"/>\n",
       "<path style=\"fill-rule:nonzero;fill:rgb(100%,0%,0%);fill-opacity:1;stroke-width:1;stroke-linecap:butt;stroke-linejoin:miter;stroke:rgb(0%,0%,0%);stroke-opacity:1;stroke-miterlimit:10;\" d=\"M 404.367188 410.574219 C 404.367188 416.097656 399.890625 420.574219 394.367188 420.574219 C 388.84375 420.574219 384.367188 416.097656 384.367188 410.574219 C 384.367188 405.050781 388.84375 400.574219 394.367188 400.574219 C 399.890625 400.574219 404.367188 405.050781 404.367188 410.574219 \"/>\n",
       "<path style=\"fill-rule:nonzero;fill:rgb(100%,0%,0%);fill-opacity:1;stroke-width:1;stroke-linecap:butt;stroke-linejoin:miter;stroke:rgb(0%,0%,0%);stroke-opacity:1;stroke-miterlimit:10;\" d=\"M 424.332031 397.3125 C 424.332031 402.835938 419.855469 407.3125 414.332031 407.3125 C 408.808594 407.3125 404.332031 402.835938 404.332031 397.3125 C 404.332031 391.789062 408.808594 387.3125 414.332031 387.3125 C 419.855469 387.3125 424.332031 391.789062 424.332031 397.3125 \"/>\n",
       "<path style=\"fill-rule:nonzero;fill:rgb(100%,0%,0%);fill-opacity:1;stroke-width:1;stroke-linecap:butt;stroke-linejoin:miter;stroke:rgb(0%,0%,0%);stroke-opacity:1;stroke-miterlimit:10;\" d=\"M 411.804688 177.335938 C 411.804688 182.855469 407.328125 187.335938 401.804688 187.335938 C 396.28125 187.335938 391.804688 182.855469 391.804688 177.335938 C 391.804688 171.8125 396.28125 167.335938 401.804688 167.335938 C 407.328125 167.335938 411.804688 171.8125 411.804688 177.335938 \"/>\n",
       "<path style=\"fill-rule:nonzero;fill:rgb(100%,0%,0%);fill-opacity:1;stroke-width:1;stroke-linecap:butt;stroke-linejoin:miter;stroke:rgb(0%,0%,0%);stroke-opacity:1;stroke-miterlimit:10;\" d=\"M 274.285156 194.050781 C 274.285156 199.574219 269.808594 204.050781 264.285156 204.050781 C 258.761719 204.050781 254.285156 199.574219 254.285156 194.050781 C 254.285156 188.527344 258.761719 184.050781 264.285156 184.050781 C 269.808594 184.050781 274.285156 188.527344 274.285156 194.050781 \"/>\n",
       "<path style=\"fill-rule:nonzero;fill:rgb(100%,0%,0%);fill-opacity:1;stroke-width:1;stroke-linecap:butt;stroke-linejoin:miter;stroke:rgb(0%,0%,0%);stroke-opacity:1;stroke-miterlimit:10;\" d=\"M 207.617188 170.464844 C 207.617188 175.988281 203.140625 180.464844 197.617188 180.464844 C 192.09375 180.464844 187.617188 175.988281 187.617188 170.464844 C 187.617188 164.941406 192.09375 160.464844 197.617188 160.464844 C 203.140625 160.464844 207.617188 164.941406 207.617188 170.464844 \"/>\n",
       "<path style=\"fill-rule:nonzero;fill:rgb(100%,0%,0%);fill-opacity:1;stroke-width:1;stroke-linecap:butt;stroke-linejoin:miter;stroke:rgb(0%,0%,0%);stroke-opacity:1;stroke-miterlimit:10;\" d=\"M 352.109375 158.503906 C 352.109375 164.027344 347.632812 168.503906 342.109375 168.503906 C 336.585938 168.503906 332.109375 164.027344 332.109375 158.503906 C 332.109375 152.980469 336.585938 148.503906 342.109375 148.503906 C 347.632812 148.503906 352.109375 152.980469 352.109375 158.503906 \"/>\n",
       "<path style=\"fill-rule:nonzero;fill:rgb(100%,0%,0%);fill-opacity:1;stroke-width:1;stroke-linecap:butt;stroke-linejoin:miter;stroke:rgb(0%,0%,0%);stroke-opacity:1;stroke-miterlimit:10;\" d=\"M 384.34375 94.625 C 384.34375 100.148438 379.867188 104.625 374.34375 104.625 C 368.820312 104.625 364.34375 100.148438 364.34375 94.625 C 364.34375 89.101562 368.820312 84.625 374.34375 84.625 C 379.867188 84.625 384.34375 89.101562 384.34375 94.625 \"/>\n",
       "<path style=\"fill-rule:nonzero;fill:rgb(100%,0%,0%);fill-opacity:1;stroke-width:1;stroke-linecap:butt;stroke-linejoin:miter;stroke:rgb(0%,0%,0%);stroke-opacity:1;stroke-miterlimit:10;\" d=\"M 370.972656 167.140625 C 370.972656 172.664062 366.496094 177.140625 360.972656 177.140625 C 355.449219 177.140625 350.972656 172.664062 350.972656 167.140625 C 350.972656 161.617188 355.449219 157.140625 360.972656 157.140625 C 366.496094 157.140625 370.972656 161.617188 370.972656 167.140625 \"/>\n",
       "<path style=\"fill-rule:nonzero;fill:rgb(100%,0%,0%);fill-opacity:1;stroke-width:1;stroke-linecap:butt;stroke-linejoin:miter;stroke:rgb(0%,0%,0%);stroke-opacity:1;stroke-miterlimit:10;\" d=\"M 137.769531 187.011719 C 137.769531 192.535156 133.292969 197.011719 127.769531 197.011719 C 122.25 197.011719 117.769531 192.535156 117.769531 187.011719 C 117.769531 181.488281 122.25 177.011719 127.769531 177.011719 C 133.292969 177.011719 137.769531 181.488281 137.769531 187.011719 \"/>\n",
       "<path style=\"fill-rule:nonzero;fill:rgb(100%,0%,0%);fill-opacity:1;stroke-width:1;stroke-linecap:butt;stroke-linejoin:miter;stroke:rgb(0%,0%,0%);stroke-opacity:1;stroke-miterlimit:10;\" d=\"M 366.90625 91.011719 C 366.90625 96.535156 362.429688 101.011719 356.90625 101.011719 C 351.382812 101.011719 346.90625 96.535156 346.90625 91.011719 C 346.90625 85.488281 351.382812 81.011719 356.90625 81.011719 C 362.429688 81.011719 366.90625 85.488281 366.90625 91.011719 \"/>\n",
       "<path style=\"fill-rule:nonzero;fill:rgb(100%,0%,0%);fill-opacity:1;stroke-width:1;stroke-linecap:butt;stroke-linejoin:miter;stroke:rgb(0%,0%,0%);stroke-opacity:1;stroke-miterlimit:10;\" d=\"M 249.523438 173.554688 C 249.523438 179.078125 245.042969 183.554688 239.523438 183.554688 C 234 183.554688 229.523438 179.078125 229.523438 173.554688 C 229.523438 168.03125 234 163.554688 239.523438 163.554688 C 245.042969 163.554688 249.523438 168.03125 249.523438 173.554688 \"/>\n",
       "<path style=\"fill-rule:nonzero;fill:rgb(100%,0%,0%);fill-opacity:1;stroke-width:1;stroke-linecap:butt;stroke-linejoin:miter;stroke:rgb(0%,0%,0%);stroke-opacity:1;stroke-miterlimit:10;\" d=\"M 404.09375 284.457031 C 404.09375 289.980469 399.617188 294.457031 394.09375 294.457031 C 388.570312 294.457031 384.09375 289.980469 384.09375 284.457031 C 384.09375 278.933594 388.570312 274.457031 394.09375 274.457031 C 399.617188 274.457031 404.09375 278.933594 404.09375 284.457031 \"/>\n",
       "<path style=\"fill-rule:nonzero;fill:rgb(100%,0%,0%);fill-opacity:1;stroke-width:1;stroke-linecap:butt;stroke-linejoin:miter;stroke:rgb(0%,0%,0%);stroke-opacity:1;stroke-miterlimit:10;\" d=\"M 358.171875 446.289062 C 358.171875 451.8125 353.695312 456.289062 348.171875 456.289062 C 342.648438 456.289062 338.171875 451.8125 338.171875 446.289062 C 338.171875 440.765625 342.648438 436.289062 348.171875 436.289062 C 353.695312 436.289062 358.171875 440.765625 358.171875 446.289062 \"/>\n",
       "<path style=\"fill-rule:nonzero;fill:rgb(100%,0%,0%);fill-opacity:1;stroke-width:1;stroke-linecap:butt;stroke-linejoin:miter;stroke:rgb(0%,0%,0%);stroke-opacity:1;stroke-miterlimit:10;\" d=\"M 341.050781 419.636719 C 341.050781 425.160156 336.574219 429.636719 331.050781 429.636719 C 325.527344 429.636719 321.050781 425.160156 321.050781 419.636719 C 321.050781 414.113281 325.527344 409.636719 331.050781 409.636719 C 336.574219 409.636719 341.050781 414.113281 341.050781 419.636719 \"/>\n",
       "<path style=\"fill-rule:nonzero;fill:rgb(100%,0%,0%);fill-opacity:1;stroke-width:1;stroke-linecap:butt;stroke-linejoin:miter;stroke:rgb(0%,0%,0%);stroke-opacity:1;stroke-miterlimit:10;\" d=\"M 188.550781 100.386719 C 188.550781 105.910156 184.074219 110.386719 178.550781 110.386719 C 173.03125 110.386719 168.550781 105.910156 168.550781 100.386719 C 168.550781 94.867188 173.03125 90.386719 178.550781 90.386719 C 184.074219 90.386719 188.550781 94.867188 188.550781 100.386719 \"/>\n",
       "<path style=\"fill-rule:nonzero;fill:rgb(100%,0%,0%);fill-opacity:1;stroke-width:1;stroke-linecap:butt;stroke-linejoin:miter;stroke:rgb(0%,0%,0%);stroke-opacity:1;stroke-miterlimit:10;\" d=\"M 88.375 136.441406 C 88.375 141.964844 83.898438 146.441406 78.375 146.441406 C 72.851562 146.441406 68.375 141.964844 68.375 136.441406 C 68.375 130.921875 72.851562 126.441406 78.375 126.441406 C 83.898438 126.441406 88.375 130.921875 88.375 136.441406 \"/>\n",
       "<path style=\"fill-rule:nonzero;fill:rgb(100%,0%,0%);fill-opacity:1;stroke-width:1;stroke-linecap:butt;stroke-linejoin:miter;stroke:rgb(0%,0%,0%);stroke-opacity:1;stroke-miterlimit:10;\" d=\"M 328.03125 516.332031 C 328.03125 521.855469 323.554688 526.332031 318.03125 526.332031 C 312.507812 526.332031 308.03125 521.855469 308.03125 516.332031 C 308.03125 510.8125 312.507812 506.332031 318.03125 506.332031 C 323.554688 506.332031 328.03125 510.8125 328.03125 516.332031 \"/>\n",
       "<path style=\"fill-rule:nonzero;fill:rgb(100%,0%,0%);fill-opacity:1;stroke-width:1;stroke-linecap:butt;stroke-linejoin:miter;stroke:rgb(0%,0%,0%);stroke-opacity:1;stroke-miterlimit:10;\" d=\"M 176.300781 225.214844 C 176.300781 230.738281 171.824219 235.214844 166.300781 235.214844 C 160.777344 235.214844 156.300781 230.738281 156.300781 225.214844 C 156.300781 219.691406 160.777344 215.214844 166.300781 215.214844 C 171.824219 215.214844 176.300781 219.691406 176.300781 225.214844 \"/>\n",
       "<path style=\"fill-rule:nonzero;fill:rgb(100%,0%,0%);fill-opacity:1;stroke-width:1;stroke-linecap:butt;stroke-linejoin:miter;stroke:rgb(0%,0%,0%);stroke-opacity:1;stroke-miterlimit:10;\" d=\"M 465.863281 194.246094 C 465.863281 199.769531 461.386719 204.246094 455.863281 204.246094 C 450.339844 204.246094 445.863281 199.769531 445.863281 194.246094 C 445.863281 188.726562 450.339844 184.246094 455.863281 184.246094 C 461.386719 184.246094 465.863281 188.726562 465.863281 194.246094 \"/>\n",
       "<path style=\"fill-rule:nonzero;fill:rgb(100%,0%,0%);fill-opacity:1;stroke-width:1;stroke-linecap:butt;stroke-linejoin:miter;stroke:rgb(0%,0%,0%);stroke-opacity:1;stroke-miterlimit:10;\" d=\"M 421.945312 439.328125 C 421.945312 444.851562 417.464844 449.328125 411.945312 449.328125 C 406.421875 449.328125 401.945312 444.851562 401.945312 439.328125 C 401.945312 433.808594 406.421875 429.328125 411.945312 429.328125 C 417.464844 429.328125 421.945312 433.808594 421.945312 439.328125 \"/>\n",
       "<path style=\"fill-rule:nonzero;fill:rgb(100%,0%,0%);fill-opacity:1;stroke-width:1;stroke-linecap:butt;stroke-linejoin:miter;stroke:rgb(0%,0%,0%);stroke-opacity:1;stroke-miterlimit:10;\" d=\"M 455.132812 110.179688 C 455.132812 115.703125 450.65625 120.179688 445.132812 120.179688 C 439.609375 120.179688 435.132812 115.703125 435.132812 110.179688 C 435.132812 104.660156 439.609375 100.179688 445.132812 100.179688 C 450.65625 100.179688 455.132812 104.660156 455.132812 110.179688 \"/>\n",
       "<path style=\"fill-rule:nonzero;fill:rgb(100%,0%,0%);fill-opacity:1;stroke-width:1;stroke-linecap:butt;stroke-linejoin:miter;stroke:rgb(0%,0%,0%);stroke-opacity:1;stroke-miterlimit:10;\" d=\"M 280.472656 555.574219 C 280.472656 561.09375 275.992188 565.574219 270.472656 565.574219 C 264.949219 565.574219 260.472656 561.09375 260.472656 555.574219 C 260.472656 550.050781 264.949219 545.574219 270.472656 545.574219 C 275.992188 545.574219 280.472656 550.050781 280.472656 555.574219 \"/>\n",
       "<path style=\"fill-rule:nonzero;fill:rgb(100%,0%,0%);fill-opacity:1;stroke-width:1;stroke-linecap:butt;stroke-linejoin:miter;stroke:rgb(0%,0%,0%);stroke-opacity:1;stroke-miterlimit:10;\" d=\"M 372.765625 407.238281 C 372.765625 412.761719 368.289062 417.238281 362.765625 417.238281 C 357.242188 417.238281 352.765625 412.761719 352.765625 407.238281 C 352.765625 401.714844 357.242188 397.238281 362.765625 397.238281 C 368.289062 397.238281 372.765625 401.714844 372.765625 407.238281 \"/>\n",
       "<path style=\"fill-rule:nonzero;fill:rgb(100%,0%,0%);fill-opacity:1;stroke-width:1;stroke-linecap:butt;stroke-linejoin:miter;stroke:rgb(0%,0%,0%);stroke-opacity:1;stroke-miterlimit:10;\" d=\"M 366.214844 577.523438 C 366.214844 583.046875 361.738281 587.523438 356.214844 587.523438 C 350.691406 587.523438 346.214844 583.046875 346.214844 577.523438 C 346.214844 572 350.691406 567.523438 356.214844 567.523438 C 361.738281 567.523438 366.214844 572 366.214844 577.523438 \"/>\n",
       "<path style=\"fill-rule:nonzero;fill:rgb(100%,0%,0%);fill-opacity:1;stroke-width:1;stroke-linecap:butt;stroke-linejoin:miter;stroke:rgb(0%,0%,0%);stroke-opacity:1;stroke-miterlimit:10;\" d=\"M 310.730469 222.148438 C 310.730469 227.667969 306.253906 232.148438 300.730469 232.148438 C 295.207031 232.148438 290.730469 227.667969 290.730469 222.148438 C 290.730469 216.625 295.207031 212.148438 300.730469 212.148438 C 306.253906 212.148438 310.730469 216.625 310.730469 222.148438 \"/>\n",
       "<path style=\"fill-rule:nonzero;fill:rgb(100%,0%,0%);fill-opacity:1;stroke-width:1;stroke-linecap:butt;stroke-linejoin:miter;stroke:rgb(0%,0%,0%);stroke-opacity:1;stroke-miterlimit:10;\" d=\"M 453.9375 402.164062 C 453.9375 407.6875 449.460938 412.164062 443.9375 412.164062 C 438.414062 412.164062 433.9375 407.6875 433.9375 402.164062 C 433.9375 396.640625 438.414062 392.164062 443.9375 392.164062 C 449.460938 392.164062 453.9375 396.640625 453.9375 402.164062 \"/>\n",
       "<path style=\"fill-rule:nonzero;fill:rgb(100%,0%,0%);fill-opacity:1;stroke-width:1;stroke-linecap:butt;stroke-linejoin:miter;stroke:rgb(0%,0%,0%);stroke-opacity:1;stroke-miterlimit:10;\" d=\"M 332.351562 172.09375 C 332.351562 177.617188 327.875 182.09375 322.351562 182.09375 C 316.832031 182.09375 312.351562 177.617188 312.351562 172.09375 C 312.351562 166.570312 316.832031 162.09375 322.351562 162.09375 C 327.875 162.09375 332.351562 166.570312 332.351562 172.09375 \"/>\n",
       "<path style=\"fill-rule:nonzero;fill:rgb(100%,0%,0%);fill-opacity:1;stroke-width:1;stroke-linecap:butt;stroke-linejoin:miter;stroke:rgb(0%,0%,0%);stroke-opacity:1;stroke-miterlimit:10;\" d=\"M 96.742188 167.273438 C 96.742188 172.796875 92.261719 177.273438 86.742188 177.273438 C 81.21875 177.273438 76.742188 172.796875 76.742188 167.273438 C 76.742188 161.75 81.21875 157.273438 86.742188 157.273438 C 92.261719 157.273438 96.742188 161.75 96.742188 167.273438 \"/>\n",
       "<path style=\"fill-rule:nonzero;fill:rgb(100%,0%,0%);fill-opacity:1;stroke-width:1;stroke-linecap:butt;stroke-linejoin:miter;stroke:rgb(0%,0%,0%);stroke-opacity:1;stroke-miterlimit:10;\" d=\"M 108.308594 257.898438 C 108.308594 263.421875 103.832031 267.898438 98.308594 267.898438 C 92.785156 267.898438 88.308594 263.421875 88.308594 257.898438 C 88.308594 252.375 92.785156 247.898438 98.308594 247.898438 C 103.832031 247.898438 108.308594 252.375 108.308594 257.898438 \"/>\n",
       "<path style=\"fill-rule:nonzero;fill:rgb(100%,0%,0%);fill-opacity:1;stroke-width:1;stroke-linecap:butt;stroke-linejoin:miter;stroke:rgb(0%,0%,0%);stroke-opacity:1;stroke-miterlimit:10;\" d=\"M 306.867188 572.90625 C 306.867188 578.429688 302.390625 582.90625 296.867188 582.90625 C 291.347656 582.90625 286.867188 578.429688 286.867188 572.90625 C 286.867188 567.382812 291.347656 562.90625 296.867188 562.90625 C 302.390625 562.90625 306.867188 567.382812 306.867188 572.90625 \"/>\n",
       "<path style=\"fill-rule:nonzero;fill:rgb(100%,0%,0%);fill-opacity:1;stroke-width:1;stroke-linecap:butt;stroke-linejoin:miter;stroke:rgb(0%,0%,0%);stroke-opacity:1;stroke-miterlimit:10;\" d=\"M 402.628906 347.808594 C 402.628906 353.332031 398.152344 357.808594 392.628906 357.808594 C 387.105469 357.808594 382.628906 353.332031 382.628906 347.808594 C 382.628906 342.285156 387.105469 337.808594 392.628906 337.808594 C 398.152344 337.808594 402.628906 342.285156 402.628906 347.808594 \"/>\n",
       "<path style=\"fill-rule:nonzero;fill:rgb(100%,0%,0%);fill-opacity:1;stroke-width:1;stroke-linecap:butt;stroke-linejoin:miter;stroke:rgb(0%,0%,0%);stroke-opacity:1;stroke-miterlimit:10;\" d=\"M 504.808594 424.125 C 504.808594 429.648438 500.328125 434.125 494.808594 434.125 C 489.285156 434.125 484.808594 429.648438 484.808594 424.125 C 484.808594 418.601562 489.285156 414.125 494.808594 414.125 C 500.328125 414.125 504.808594 418.601562 504.808594 424.125 \"/>\n",
       "<path style=\"fill-rule:nonzero;fill:rgb(100%,0%,0%);fill-opacity:1;stroke-width:1;stroke-linecap:butt;stroke-linejoin:miter;stroke:rgb(0%,0%,0%);stroke-opacity:1;stroke-miterlimit:10;\" d=\"M 405.382812 109.210938 C 405.382812 114.734375 400.90625 119.210938 395.382812 119.210938 C 389.859375 119.210938 385.382812 114.734375 385.382812 109.210938 C 385.382812 103.6875 389.859375 99.210938 395.382812 99.210938 C 400.90625 99.210938 405.382812 103.6875 405.382812 109.210938 \"/>\n",
       "<path style=\"fill-rule:nonzero;fill:rgb(100%,0%,0%);fill-opacity:1;stroke-width:1;stroke-linecap:butt;stroke-linejoin:miter;stroke:rgb(0%,0%,0%);stroke-opacity:1;stroke-miterlimit:10;\" d=\"M 443.296875 37.492188 C 443.296875 43.015625 438.820312 47.492188 433.296875 47.492188 C 427.773438 47.492188 423.296875 43.015625 423.296875 37.492188 C 423.296875 31.96875 427.773438 27.492188 433.296875 27.492188 C 438.820312 27.492188 443.296875 31.96875 443.296875 37.492188 \"/>\n",
       "<path style=\"fill-rule:nonzero;fill:rgb(100%,0%,0%);fill-opacity:1;stroke-width:1;stroke-linecap:butt;stroke-linejoin:miter;stroke:rgb(0%,0%,0%);stroke-opacity:1;stroke-miterlimit:10;\" d=\"M 372.914062 200.699219 C 372.914062 206.21875 368.4375 210.699219 362.914062 210.699219 C 357.390625 210.699219 352.914062 206.21875 352.914062 200.699219 C 352.914062 195.175781 357.390625 190.699219 362.914062 190.699219 C 368.4375 190.699219 372.914062 195.175781 372.914062 200.699219 \"/>\n",
       "<path style=\"fill-rule:nonzero;fill:rgb(100%,0%,0%);fill-opacity:1;stroke-width:1;stroke-linecap:butt;stroke-linejoin:miter;stroke:rgb(0%,0%,0%);stroke-opacity:1;stroke-miterlimit:10;\" d=\"M 464.980469 357.132812 C 464.980469 362.65625 460.503906 367.132812 454.980469 367.132812 C 449.457031 367.132812 444.980469 362.65625 444.980469 357.132812 C 444.980469 351.609375 449.457031 347.132812 454.980469 347.132812 C 460.503906 347.132812 464.980469 351.609375 464.980469 357.132812 \"/>\n",
       "<path style=\"fill-rule:nonzero;fill:rgb(100%,0%,0%);fill-opacity:1;stroke-width:1;stroke-linecap:butt;stroke-linejoin:miter;stroke:rgb(0%,0%,0%);stroke-opacity:1;stroke-miterlimit:10;\" d=\"M 532.207031 374.050781 C 532.207031 379.574219 527.730469 384.050781 522.207031 384.050781 C 516.683594 384.050781 512.207031 379.574219 512.207031 374.050781 C 512.207031 368.527344 516.683594 364.050781 522.207031 364.050781 C 527.730469 364.050781 532.207031 368.527344 532.207031 374.050781 \"/>\n",
       "<path style=\"fill-rule:nonzero;fill:rgb(100%,0%,0%);fill-opacity:1;stroke-width:1;stroke-linecap:butt;stroke-linejoin:miter;stroke:rgb(0%,0%,0%);stroke-opacity:1;stroke-miterlimit:10;\" d=\"M 334.394531 397.242188 C 334.394531 402.765625 329.917969 407.242188 324.394531 407.242188 C 318.871094 407.242188 314.394531 402.765625 314.394531 397.242188 C 314.394531 391.71875 318.871094 387.242188 324.394531 387.242188 C 329.917969 387.242188 334.394531 391.71875 334.394531 397.242188 \"/>\n",
       "<path style=\"fill-rule:nonzero;fill:rgb(100%,0%,0%);fill-opacity:1;stroke-width:1;stroke-linecap:butt;stroke-linejoin:miter;stroke:rgb(0%,0%,0%);stroke-opacity:1;stroke-miterlimit:10;\" d=\"M 294.835938 332.964844 C 294.835938 338.488281 290.359375 342.964844 284.835938 342.964844 C 279.3125 342.964844 274.835938 338.488281 274.835938 332.964844 C 274.835938 327.441406 279.3125 322.964844 284.835938 322.964844 C 290.359375 322.964844 294.835938 327.441406 294.835938 332.964844 \"/>\n",
       "<path style=\"fill-rule:nonzero;fill:rgb(100%,0%,0%);fill-opacity:1;stroke-width:1;stroke-linecap:butt;stroke-linejoin:miter;stroke:rgb(0%,0%,0%);stroke-opacity:1;stroke-miterlimit:10;\" d=\"M 211.789062 90.972656 C 211.789062 96.496094 207.3125 100.972656 201.789062 100.972656 C 196.265625 100.972656 191.789062 96.496094 191.789062 90.972656 C 191.789062 85.449219 196.265625 80.972656 201.789062 80.972656 C 207.3125 80.972656 211.789062 85.449219 211.789062 90.972656 \"/>\n",
       "<path style=\"fill-rule:nonzero;fill:rgb(100%,0%,0%);fill-opacity:1;stroke-width:1;stroke-linecap:butt;stroke-linejoin:miter;stroke:rgb(0%,0%,0%);stroke-opacity:1;stroke-miterlimit:10;\" d=\"M 313.375 478.515625 C 313.375 484.035156 308.894531 488.515625 303.375 488.515625 C 297.851562 488.515625 293.375 484.035156 293.375 478.515625 C 293.375 472.992188 297.851562 468.515625 303.375 468.515625 C 308.894531 468.515625 313.375 472.992188 313.375 478.515625 \"/>\n",
       "<path style=\"fill-rule:nonzero;fill:rgb(100%,0%,0%);fill-opacity:1;stroke-width:1;stroke-linecap:butt;stroke-linejoin:miter;stroke:rgb(0%,0%,0%);stroke-opacity:1;stroke-miterlimit:10;\" d=\"M 452.34375 153.132812 C 452.34375 158.652344 447.867188 163.132812 442.34375 163.132812 C 436.824219 163.132812 432.34375 158.652344 432.34375 153.132812 C 432.34375 147.609375 436.824219 143.132812 442.34375 143.132812 C 447.867188 143.132812 452.34375 147.609375 452.34375 153.132812 \"/>\n",
       "<path style=\"fill-rule:nonzero;fill:rgb(100%,0%,0%);fill-opacity:1;stroke-width:1;stroke-linecap:butt;stroke-linejoin:miter;stroke:rgb(0%,0%,0%);stroke-opacity:1;stroke-miterlimit:10;\" d=\"M 423.878906 124.113281 C 423.878906 129.636719 419.402344 134.113281 413.878906 134.113281 C 408.355469 134.113281 403.878906 129.636719 403.878906 124.113281 C 403.878906 118.589844 408.355469 114.113281 413.878906 114.113281 C 419.402344 114.113281 423.878906 118.589844 423.878906 124.113281 \"/>\n",
       "<path style=\"fill-rule:nonzero;fill:rgb(100%,0%,0%);fill-opacity:1;stroke-width:1;stroke-linecap:butt;stroke-linejoin:miter;stroke:rgb(0%,0%,0%);stroke-opacity:1;stroke-miterlimit:10;\" d=\"M 345.824219 85.351562 C 345.824219 90.875 341.347656 95.351562 335.824219 95.351562 C 330.300781 95.351562 325.824219 90.875 325.824219 85.351562 C 325.824219 79.828125 330.300781 75.351562 335.824219 75.351562 C 341.347656 75.351562 345.824219 79.828125 345.824219 85.351562 \"/>\n",
       "<path style=\"fill-rule:nonzero;fill:rgb(100%,0%,0%);fill-opacity:1;stroke-width:1;stroke-linecap:butt;stroke-linejoin:miter;stroke:rgb(0%,0%,0%);stroke-opacity:1;stroke-miterlimit:10;\" d=\"M 117.601562 121.761719 C 117.601562 127.285156 113.125 131.761719 107.601562 131.761719 C 102.078125 131.761719 97.601562 127.285156 97.601562 121.761719 C 97.601562 116.238281 102.078125 111.761719 107.601562 111.761719 C 113.125 111.761719 117.601562 116.238281 117.601562 121.761719 \"/>\n",
       "<path style=\"fill-rule:nonzero;fill:rgb(100%,0%,0%);fill-opacity:1;stroke-width:1;stroke-linecap:butt;stroke-linejoin:miter;stroke:rgb(0%,0%,0%);stroke-opacity:1;stroke-miterlimit:10;\" d=\"M 517.648438 115.058594 C 517.648438 120.582031 513.167969 125.058594 507.648438 125.058594 C 502.125 125.058594 497.648438 120.582031 497.648438 115.058594 C 497.648438 109.539062 502.125 105.058594 507.648438 105.058594 C 513.167969 105.058594 517.648438 109.539062 517.648438 115.058594 \"/>\n",
       "<path style=\"fill-rule:nonzero;fill:rgb(100%,0%,0%);fill-opacity:1;stroke-width:1;stroke-linecap:butt;stroke-linejoin:miter;stroke:rgb(0%,0%,0%);stroke-opacity:1;stroke-miterlimit:10;\" d=\"M 412.601562 505.507812 C 412.601562 511.03125 408.121094 515.507812 402.601562 515.507812 C 397.078125 515.507812 392.601562 511.03125 392.601562 505.507812 C 392.601562 499.984375 397.078125 495.507812 402.601562 495.507812 C 408.121094 495.507812 412.601562 499.984375 412.601562 505.507812 \"/>\n",
       "<path style=\"fill-rule:nonzero;fill:rgb(100%,0%,0%);fill-opacity:1;stroke-width:1;stroke-linecap:butt;stroke-linejoin:miter;stroke:rgb(0%,0%,0%);stroke-opacity:1;stroke-miterlimit:10;\" d=\"M 354.710938 385.53125 C 354.710938 391.050781 350.234375 395.53125 344.710938 395.53125 C 339.1875 395.53125 334.710938 391.050781 334.710938 385.53125 C 334.710938 380.007812 339.1875 375.53125 344.710938 375.53125 C 350.234375 375.53125 354.710938 380.007812 354.710938 385.53125 \"/>\n",
       "<path style=\"fill-rule:nonzero;fill:rgb(100%,0%,0%);fill-opacity:1;stroke-width:1;stroke-linecap:butt;stroke-linejoin:miter;stroke:rgb(0%,0%,0%);stroke-opacity:1;stroke-miterlimit:10;\" d=\"M 175.210938 196.265625 C 175.210938 201.789062 170.734375 206.265625 165.210938 206.265625 C 159.6875 206.265625 155.210938 201.789062 155.210938 196.265625 C 155.210938 190.742188 159.6875 186.265625 165.210938 186.265625 C 170.734375 186.265625 175.210938 190.742188 175.210938 196.265625 \"/>\n",
       "<path style=\"fill-rule:nonzero;fill:rgb(100%,0%,0%);fill-opacity:1;stroke-width:1;stroke-linecap:butt;stroke-linejoin:miter;stroke:rgb(0%,0%,0%);stroke-opacity:1;stroke-miterlimit:10;\" d=\"M 441.410156 495.726562 C 441.410156 501.25 436.933594 505.726562 431.410156 505.726562 C 425.890625 505.726562 421.410156 501.25 421.410156 495.726562 C 421.410156 490.203125 425.890625 485.726562 431.410156 485.726562 C 436.933594 485.726562 441.410156 490.203125 441.410156 495.726562 \"/>\n",
       "<path style=\"fill-rule:nonzero;fill:rgb(100%,0%,0%);fill-opacity:1;stroke-width:1;stroke-linecap:butt;stroke-linejoin:miter;stroke:rgb(0%,0%,0%);stroke-opacity:1;stroke-miterlimit:10;\" d=\"M 278.378906 438.171875 C 278.378906 443.691406 273.902344 448.171875 268.378906 448.171875 C 262.859375 448.171875 258.378906 443.691406 258.378906 438.171875 C 258.378906 432.648438 262.859375 428.171875 268.378906 428.171875 C 273.902344 428.171875 278.378906 432.648438 278.378906 438.171875 \"/>\n",
       "<path style=\"fill-rule:nonzero;fill:rgb(100%,0%,0%);fill-opacity:1;stroke-width:1;stroke-linecap:butt;stroke-linejoin:miter;stroke:rgb(0%,0%,0%);stroke-opacity:1;stroke-miterlimit:10;\" d=\"M 175.269531 146.1875 C 175.269531 151.707031 170.789062 156.1875 165.269531 156.1875 C 159.746094 156.1875 155.269531 151.707031 155.269531 146.1875 C 155.269531 140.664062 159.746094 136.1875 165.269531 136.1875 C 170.789062 136.1875 175.269531 140.664062 175.269531 146.1875 \"/>\n",
       "<path style=\"fill-rule:nonzero;fill:rgb(100%,0%,0%);fill-opacity:1;stroke-width:1;stroke-linecap:butt;stroke-linejoin:miter;stroke:rgb(0%,0%,0%);stroke-opacity:1;stroke-miterlimit:10;\" d=\"M 383.726562 503.363281 C 383.726562 508.886719 379.246094 513.363281 373.726562 513.363281 C 368.203125 513.363281 363.726562 508.886719 363.726562 503.363281 C 363.726562 497.839844 368.203125 493.363281 373.726562 493.363281 C 379.246094 493.363281 383.726562 497.839844 383.726562 503.363281 \"/>\n",
       "<path style=\"fill-rule:nonzero;fill:rgb(100%,0%,0%);fill-opacity:1;stroke-width:1;stroke-linecap:butt;stroke-linejoin:miter;stroke:rgb(0%,0%,0%);stroke-opacity:1;stroke-miterlimit:10;\" d=\"M 268.148438 144.816406 C 268.148438 150.339844 263.671875 154.816406 258.148438 154.816406 C 252.625 154.816406 248.148438 150.339844 248.148438 144.816406 C 248.148438 139.292969 252.625 134.816406 258.148438 134.816406 C 263.671875 134.816406 268.148438 139.292969 268.148438 144.816406 \"/>\n",
       "<path style=\"fill-rule:nonzero;fill:rgb(100%,0%,0%);fill-opacity:1;stroke-width:1;stroke-linecap:butt;stroke-linejoin:miter;stroke:rgb(0%,0%,0%);stroke-opacity:1;stroke-miterlimit:10;\" d=\"M 238.734375 222.476562 C 238.734375 228 234.257812 232.476562 228.734375 232.476562 C 223.214844 232.476562 218.734375 228 218.734375 222.476562 C 218.734375 216.957031 223.214844 212.476562 228.734375 212.476562 C 234.257812 212.476562 238.734375 216.957031 238.734375 222.476562 \"/>\n",
       "<path style=\"fill-rule:nonzero;fill:rgb(100%,0%,0%);fill-opacity:1;stroke-width:1;stroke-linecap:butt;stroke-linejoin:miter;stroke:rgb(0%,0%,0%);stroke-opacity:1;stroke-miterlimit:10;\" d=\"M 199.453125 20 C 199.453125 25.523438 194.976562 30 189.453125 30 C 183.933594 30 179.453125 25.523438 179.453125 20 C 179.453125 14.476562 183.933594 10 189.453125 10 C 194.976562 10 199.453125 14.476562 199.453125 20 \"/>\n",
       "<path style=\"fill-rule:nonzero;fill:rgb(100%,0%,0%);fill-opacity:1;stroke-width:1;stroke-linecap:butt;stroke-linejoin:miter;stroke:rgb(0%,0%,0%);stroke-opacity:1;stroke-miterlimit:10;\" d=\"M 322.5 198.769531 C 322.5 204.292969 318.023438 208.769531 312.5 208.769531 C 306.976562 208.769531 302.5 204.292969 302.5 198.769531 C 302.5 193.25 306.976562 188.769531 312.5 188.769531 C 318.023438 188.769531 322.5 193.25 322.5 198.769531 \"/>\n",
       "<path style=\"fill-rule:nonzero;fill:rgb(100%,0%,0%);fill-opacity:1;stroke-width:1;stroke-linecap:butt;stroke-linejoin:miter;stroke:rgb(0%,0%,0%);stroke-opacity:1;stroke-miterlimit:10;\" d=\"M 495 456.265625 C 495 461.789062 490.523438 466.265625 485 466.265625 C 479.476562 466.265625 475 461.789062 475 456.265625 C 475 450.742188 479.476562 446.265625 485 446.265625 C 490.523438 446.265625 495 450.742188 495 456.265625 \"/>\n",
       "<path style=\"fill-rule:nonzero;fill:rgb(100%,0%,0%);fill-opacity:1;stroke-width:1;stroke-linecap:butt;stroke-linejoin:miter;stroke:rgb(0%,0%,0%);stroke-opacity:1;stroke-miterlimit:10;\" d=\"M 321.835938 247.046875 C 321.835938 252.566406 317.359375 257.046875 311.835938 257.046875 C 306.316406 257.046875 301.835938 252.566406 301.835938 247.046875 C 301.835938 241.523438 306.316406 237.046875 311.835938 237.046875 C 317.359375 237.046875 321.835938 241.523438 321.835938 247.046875 \"/>\n",
       "<path style=\"fill-rule:nonzero;fill:rgb(100%,0%,0%);fill-opacity:1;stroke-width:1;stroke-linecap:butt;stroke-linejoin:miter;stroke:rgb(0%,0%,0%);stroke-opacity:1;stroke-miterlimit:10;\" d=\"M 277.835938 118.601562 C 277.835938 124.125 273.359375 128.601562 267.835938 128.601562 C 262.3125 128.601562 257.835938 124.125 257.835938 118.601562 C 257.835938 113.078125 262.3125 108.601562 267.835938 108.601562 C 273.359375 108.601562 277.835938 113.078125 277.835938 118.601562 \"/>\n",
       "<path style=\"fill-rule:nonzero;fill:rgb(100%,0%,0%);fill-opacity:1;stroke-width:1;stroke-linecap:butt;stroke-linejoin:miter;stroke:rgb(0%,0%,0%);stroke-opacity:1;stroke-miterlimit:10;\" d=\"M 168.0625 35.015625 C 168.0625 40.539062 163.585938 45.015625 158.0625 45.015625 C 152.539062 45.015625 148.0625 40.539062 148.0625 35.015625 C 148.0625 29.492188 152.539062 25.015625 158.0625 25.015625 C 163.585938 25.015625 168.0625 29.492188 168.0625 35.015625 \"/>\n",
       "<path style=\"fill-rule:nonzero;fill:rgb(100%,0%,0%);fill-opacity:1;stroke-width:1;stroke-linecap:butt;stroke-linejoin:miter;stroke:rgb(0%,0%,0%);stroke-opacity:1;stroke-miterlimit:10;\" d=\"M 516.515625 345.058594 C 516.515625 350.582031 512.035156 355.058594 506.515625 355.058594 C 500.992188 355.058594 496.515625 350.582031 496.515625 345.058594 C 496.515625 339.535156 500.992188 335.058594 506.515625 335.058594 C 512.035156 335.058594 516.515625 339.535156 516.515625 345.058594 \"/>\n",
       "<path style=\"fill-rule:nonzero;fill:rgb(100%,0%,0%);fill-opacity:1;stroke-width:1;stroke-linecap:butt;stroke-linejoin:miter;stroke:rgb(0%,0%,0%);stroke-opacity:1;stroke-miterlimit:10;\" d=\"M 329.453125 315.425781 C 329.453125 320.949219 324.976562 325.425781 319.453125 325.425781 C 313.933594 325.425781 309.453125 320.949219 309.453125 315.425781 C 309.453125 309.902344 313.933594 305.425781 319.453125 305.425781 C 324.976562 305.425781 329.453125 309.902344 329.453125 315.425781 \"/>\n",
       "<path style=\"fill-rule:nonzero;fill:rgb(100%,0%,0%);fill-opacity:1;stroke-width:1;stroke-linecap:butt;stroke-linejoin:miter;stroke:rgb(0%,0%,0%);stroke-opacity:1;stroke-miterlimit:10;\" d=\"M 30 147.199219 C 30 152.722656 25.523438 157.199219 20 157.199219 C 14.476562 157.199219 10 152.722656 10 147.199219 C 10 141.675781 14.476562 137.199219 20 137.199219 C 25.523438 137.199219 30 141.675781 30 147.199219 \"/>\n",
       "<path style=\"fill-rule:nonzero;fill:rgb(100%,0%,0%);fill-opacity:1;stroke-width:1;stroke-linecap:butt;stroke-linejoin:miter;stroke:rgb(0%,0%,0%);stroke-opacity:1;stroke-miterlimit:10;\" d=\"M 470.210938 483.746094 C 470.210938 489.269531 465.734375 493.746094 460.210938 493.746094 C 454.6875 493.746094 450.210938 489.269531 450.210938 483.746094 C 450.210938 478.222656 454.6875 473.746094 460.210938 473.746094 C 465.734375 473.746094 470.210938 478.222656 470.210938 483.746094 \"/>\n",
       "<path style=\"fill-rule:nonzero;fill:rgb(100%,0%,0%);fill-opacity:1;stroke-width:1;stroke-linecap:butt;stroke-linejoin:miter;stroke:rgb(0%,0%,0%);stroke-opacity:1;stroke-miterlimit:10;\" d=\"M 236.574219 244.027344 C 236.574219 249.550781 232.097656 254.027344 226.574219 254.027344 C 221.050781 254.027344 216.574219 249.550781 216.574219 244.027344 C 216.574219 238.503906 221.050781 234.027344 226.574219 234.027344 C 232.097656 234.027344 236.574219 238.503906 236.574219 244.027344 \"/>\n",
       "<path style=\"fill-rule:nonzero;fill:rgb(100%,0%,0%);fill-opacity:1;stroke-width:1;stroke-linecap:butt;stroke-linejoin:miter;stroke:rgb(0%,0%,0%);stroke-opacity:1;stroke-miterlimit:10;\" d=\"M 312.449219 320.355469 C 312.449219 325.878906 307.972656 330.355469 302.449219 330.355469 C 296.925781 330.355469 292.449219 325.878906 292.449219 320.355469 C 292.449219 314.832031 296.925781 310.355469 302.449219 310.355469 C 307.972656 310.355469 312.449219 314.832031 312.449219 320.355469 \"/>\n",
       "<path style=\"fill-rule:nonzero;fill:rgb(100%,0%,0%);fill-opacity:1;stroke-width:1;stroke-linecap:butt;stroke-linejoin:miter;stroke:rgb(0%,0%,0%);stroke-opacity:1;stroke-miterlimit:10;\" d=\"M 583.554688 407.4375 C 583.554688 412.960938 579.078125 417.4375 573.554688 417.4375 C 568.03125 417.4375 563.554688 412.960938 563.554688 407.4375 C 563.554688 401.914062 568.03125 397.4375 573.554688 397.4375 C 579.078125 397.4375 583.554688 401.914062 583.554688 407.4375 \"/>\n",
       "<path style=\"fill-rule:nonzero;fill:rgb(100%,0%,0%);fill-opacity:1;stroke-width:1;stroke-linecap:butt;stroke-linejoin:miter;stroke:rgb(0%,0%,0%);stroke-opacity:1;stroke-miterlimit:10;\" d=\"M 379.480469 230.636719 C 379.480469 236.15625 375 240.636719 369.480469 240.636719 C 363.957031 240.636719 359.480469 236.15625 359.480469 230.636719 C 359.480469 225.113281 363.957031 220.636719 369.480469 220.636719 C 375 220.636719 379.480469 225.113281 379.480469 230.636719 \"/>\n",
       "<path style=\"fill-rule:nonzero;fill:rgb(100%,0%,0%);fill-opacity:1;stroke-width:1;stroke-linecap:butt;stroke-linejoin:miter;stroke:rgb(0%,0%,0%);stroke-opacity:1;stroke-miterlimit:10;\" d=\"M 590 352.390625 C 590 357.914062 585.523438 362.390625 580 362.390625 C 574.476562 362.390625 570 357.914062 570 352.390625 C 570 346.867188 574.476562 342.390625 580 342.390625 C 585.523438 342.390625 590 346.867188 590 352.390625 \"/>\n",
       "<path style=\"fill-rule:nonzero;fill:rgb(100%,0%,0%);fill-opacity:1;stroke-width:1;stroke-linecap:butt;stroke-linejoin:miter;stroke:rgb(0%,0%,0%);stroke-opacity:1;stroke-miterlimit:10;\" d=\"M 351.734375 244.648438 C 351.734375 250.171875 347.257812 254.648438 341.734375 254.648438 C 336.210938 254.648438 331.734375 250.171875 331.734375 244.648438 C 331.734375 239.125 336.210938 234.648438 341.734375 234.648438 C 347.257812 234.648438 351.734375 239.125 351.734375 244.648438 \"/>\n",
       "<path style=\"fill-rule:nonzero;fill:rgb(100%,0%,0%);fill-opacity:1;stroke-width:1;stroke-linecap:butt;stroke-linejoin:miter;stroke:rgb(0%,0%,0%);stroke-opacity:1;stroke-miterlimit:10;\" d=\"M 365.492188 366.417969 C 365.492188 371.941406 361.015625 376.417969 355.492188 376.417969 C 349.972656 376.417969 345.492188 371.941406 345.492188 366.417969 C 345.492188 360.894531 349.972656 356.417969 355.492188 356.417969 C 361.015625 356.417969 365.492188 360.894531 365.492188 366.417969 \"/>\n",
       "<path style=\"fill-rule:nonzero;fill:rgb(100%,0%,0%);fill-opacity:1;stroke-width:1;stroke-linecap:butt;stroke-linejoin:miter;stroke:rgb(0%,0%,0%);stroke-opacity:1;stroke-miterlimit:10;\" d=\"M 471.253906 51.644531 C 471.253906 57.167969 466.777344 61.644531 461.253906 61.644531 C 455.730469 61.644531 451.253906 57.167969 451.253906 51.644531 C 451.253906 46.121094 455.730469 41.644531 461.253906 41.644531 C 466.777344 41.644531 471.253906 46.121094 471.253906 51.644531 \"/>\n",
       "<path style=\"fill-rule:nonzero;fill:rgb(100%,0%,0%);fill-opacity:1;stroke-width:1;stroke-linecap:butt;stroke-linejoin:miter;stroke:rgb(0%,0%,0%);stroke-opacity:1;stroke-miterlimit:10;\" d=\"M 106.351562 236.273438 C 106.351562 241.792969 101.875 246.273438 96.351562 246.273438 C 90.828125 246.273438 86.351562 241.792969 86.351562 236.273438 C 86.351562 230.75 90.828125 226.273438 96.351562 226.273438 C 101.875 226.273438 106.351562 230.75 106.351562 236.273438 \"/>\n",
       "<path style=\"fill-rule:nonzero;fill:rgb(100%,0%,0%);fill-opacity:1;stroke-width:1;stroke-linecap:butt;stroke-linejoin:miter;stroke:rgb(0%,0%,0%);stroke-opacity:1;stroke-miterlimit:10;\" d=\"M 430.648438 373.148438 C 430.648438 378.671875 426.171875 383.148438 420.648438 383.148438 C 415.125 383.148438 410.648438 378.671875 410.648438 373.148438 C 410.648438 367.625 415.125 363.148438 420.648438 363.148438 C 426.171875 363.148438 430.648438 367.625 430.648438 373.148438 \"/>\n",
       "<path style=\"fill-rule:nonzero;fill:rgb(100%,0%,0%);fill-opacity:1;stroke-width:1;stroke-linecap:butt;stroke-linejoin:miter;stroke:rgb(0%,0%,0%);stroke-opacity:1;stroke-miterlimit:10;\" d=\"M 512.433594 390.128906 C 512.433594 395.648438 507.957031 400.128906 502.433594 400.128906 C 496.910156 400.128906 492.433594 395.648438 492.433594 390.128906 C 492.433594 384.605469 496.910156 380.128906 502.433594 380.128906 C 507.957031 380.128906 512.433594 384.605469 512.433594 390.128906 \"/>\n",
       "<path style=\"fill-rule:nonzero;fill:rgb(100%,0%,0%);fill-opacity:1;stroke-width:1;stroke-linecap:butt;stroke-linejoin:miter;stroke:rgb(0%,0%,0%);stroke-opacity:1;stroke-miterlimit:10;\" d=\"M 504.054688 75.570312 C 504.054688 81.09375 499.578125 85.570312 494.054688 85.570312 C 488.53125 85.570312 484.054688 81.09375 484.054688 75.570312 C 484.054688 70.046875 488.53125 65.570312 494.054688 65.570312 C 499.578125 65.570312 504.054688 70.046875 504.054688 75.570312 \"/>\n",
       "<path style=\"fill-rule:nonzero;fill:rgb(100%,0%,0%);fill-opacity:1;stroke-width:1;stroke-linecap:butt;stroke-linejoin:miter;stroke:rgb(0%,0%,0%);stroke-opacity:1;stroke-miterlimit:10;\" d=\"M 498.699219 543.230469 C 498.699219 548.75 494.222656 553.230469 488.699219 553.230469 C 483.175781 553.230469 478.699219 548.75 478.699219 543.230469 C 478.699219 537.707031 483.175781 533.230469 488.699219 533.230469 C 494.222656 533.230469 498.699219 537.707031 498.699219 543.230469 \"/>\n",
       "<path style=\"fill-rule:nonzero;fill:rgb(100%,0%,0%);fill-opacity:1;stroke-width:1;stroke-linecap:butt;stroke-linejoin:miter;stroke:rgb(0%,0%,0%);stroke-opacity:1;stroke-miterlimit:10;\" d=\"M 548.4375 489.019531 C 548.4375 494.542969 543.960938 499.019531 538.4375 499.019531 C 532.914062 499.019531 528.4375 494.542969 528.4375 489.019531 C 528.4375 483.496094 532.914062 479.019531 538.4375 479.019531 C 543.960938 479.019531 548.4375 483.496094 548.4375 489.019531 \"/>\n",
       "<path style=\"fill-rule:nonzero;fill:rgb(100%,0%,0%);fill-opacity:1;stroke-width:1;stroke-linecap:butt;stroke-linejoin:miter;stroke:rgb(0%,0%,0%);stroke-opacity:1;stroke-miterlimit:10;\" d=\"M 278.449219 43.757812 C 278.449219 49.28125 273.972656 53.757812 268.449219 53.757812 C 262.925781 53.757812 258.449219 49.28125 258.449219 43.757812 C 258.449219 38.234375 262.925781 33.757812 268.449219 33.757812 C 273.972656 33.757812 278.449219 38.234375 278.449219 43.757812 \"/>\n",
       "<path style=\"fill-rule:nonzero;fill:rgb(100%,0%,0%);fill-opacity:1;stroke-width:1;stroke-linecap:butt;stroke-linejoin:miter;stroke:rgb(0%,0%,0%);stroke-opacity:1;stroke-miterlimit:10;\" d=\"M 329.550781 97.34375 C 329.550781 102.867188 325.074219 107.34375 319.550781 107.34375 C 314.027344 107.34375 309.550781 102.867188 309.550781 97.34375 C 309.550781 91.820312 314.027344 87.34375 319.550781 87.34375 C 325.074219 87.34375 329.550781 91.820312 329.550781 97.34375 \"/>\n",
       "<path style=\"fill-rule:nonzero;fill:rgb(100%,0%,0%);fill-opacity:1;stroke-width:1;stroke-linecap:butt;stroke-linejoin:miter;stroke:rgb(0%,0%,0%);stroke-opacity:1;stroke-miterlimit:10;\" d=\"M 196.207031 125.035156 C 196.207031 130.554688 191.730469 135.035156 186.207031 135.035156 C 180.683594 135.035156 176.207031 130.554688 176.207031 125.035156 C 176.207031 119.511719 180.683594 115.035156 186.207031 115.035156 C 191.730469 115.035156 196.207031 119.511719 196.207031 125.035156 \"/>\n",
       "<path style=\"fill-rule:nonzero;fill:rgb(100%,0%,0%);fill-opacity:1;stroke-width:1;stroke-linecap:butt;stroke-linejoin:miter;stroke:rgb(0%,0%,0%);stroke-opacity:1;stroke-miterlimit:10;\" d=\"M 436.855469 349.585938 C 436.855469 355.105469 432.378906 359.585938 426.855469 359.585938 C 421.332031 359.585938 416.855469 355.105469 416.855469 349.585938 C 416.855469 344.0625 421.332031 339.585938 426.855469 339.585938 C 432.378906 339.585938 436.855469 344.0625 436.855469 349.585938 \"/>\n",
       "<path style=\"fill-rule:nonzero;fill:rgb(100%,0%,0%);fill-opacity:1;stroke-width:1;stroke-linecap:butt;stroke-linejoin:miter;stroke:rgb(0%,0%,0%);stroke-opacity:1;stroke-miterlimit:10;\" d=\"M 285.988281 455.792969 C 285.988281 461.316406 281.507812 465.792969 275.988281 465.792969 C 270.464844 465.792969 265.988281 461.316406 265.988281 455.792969 C 265.988281 450.269531 270.464844 445.792969 275.988281 445.792969 C 281.507812 445.792969 285.988281 450.269531 285.988281 455.792969 \"/>\n",
       "<path style=\"fill-rule:nonzero;fill:rgb(100%,0%,0%);fill-opacity:1;stroke-width:1;stroke-linecap:butt;stroke-linejoin:miter;stroke:rgb(0%,0%,0%);stroke-opacity:1;stroke-miterlimit:10;\" d=\"M 262.203125 533.4375 C 262.203125 538.960938 257.726562 543.4375 252.203125 543.4375 C 246.679688 543.4375 242.203125 538.960938 242.203125 533.4375 C 242.203125 527.914062 246.679688 523.4375 252.203125 523.4375 C 257.726562 523.4375 262.203125 527.914062 262.203125 533.4375 \"/>\n",
       "<path style=\"fill-rule:nonzero;fill:rgb(100%,0%,0%);fill-opacity:1;stroke-width:1;stroke-linecap:butt;stroke-linejoin:miter;stroke:rgb(0%,0%,0%);stroke-opacity:1;stroke-miterlimit:10;\" d=\"M 337.765625 580 C 337.765625 585.523438 333.289062 590 327.765625 590 C 322.242188 590 317.765625 585.523438 317.765625 580 C 317.765625 574.476562 322.242188 570 327.765625 570 C 333.289062 570 337.765625 574.476562 337.765625 580 \"/>\n",
       "<path style=\"fill-rule:nonzero;fill:rgb(100%,0%,0%);fill-opacity:1;stroke-width:1;stroke-linecap:butt;stroke-linejoin:miter;stroke:rgb(0%,0%,0%);stroke-opacity:1;stroke-miterlimit:10;\" d=\"M 58.085938 80.996094 C 58.085938 86.519531 53.605469 90.996094 48.085938 90.996094 C 42.5625 90.996094 38.085938 86.519531 38.085938 80.996094 C 38.085938 75.476562 42.5625 70.996094 48.085938 70.996094 C 53.605469 70.996094 58.085938 75.476562 58.085938 80.996094 \"/>\n",
       "<path style=\"fill-rule:nonzero;fill:rgb(100%,0%,0%);fill-opacity:1;stroke-width:1;stroke-linecap:butt;stroke-linejoin:miter;stroke:rgb(0%,0%,0%);stroke-opacity:1;stroke-miterlimit:10;\" d=\"M 238.65625 368.332031 C 238.65625 373.855469 234.179688 378.332031 228.65625 378.332031 C 223.132812 378.332031 218.65625 373.855469 218.65625 368.332031 C 218.65625 362.8125 223.132812 358.332031 228.65625 358.332031 C 234.179688 358.332031 238.65625 362.8125 238.65625 368.332031 \"/>\n",
       "<path style=\"fill-rule:nonzero;fill:rgb(100%,0%,0%);fill-opacity:1;stroke-width:1;stroke-linecap:butt;stroke-linejoin:miter;stroke:rgb(0%,0%,0%);stroke-opacity:1;stroke-miterlimit:10;\" d=\"M 422.617188 340.40625 C 422.617188 345.929688 418.140625 350.40625 412.617188 350.40625 C 407.09375 350.40625 402.617188 345.929688 402.617188 340.40625 C 402.617188 334.882812 407.09375 330.40625 412.617188 330.40625 C 418.140625 330.40625 422.617188 334.882812 422.617188 340.40625 \"/>\n",
       "<path style=\"fill-rule:nonzero;fill:rgb(100%,0%,0%);fill-opacity:1;stroke-width:1;stroke-linecap:butt;stroke-linejoin:miter;stroke:rgb(0%,0%,0%);stroke-opacity:1;stroke-miterlimit:10;\" d=\"M 87.285156 197.671875 C 87.285156 203.195312 82.808594 207.671875 77.285156 207.671875 C 71.765625 207.671875 67.285156 203.195312 67.285156 197.671875 C 67.285156 192.148438 71.765625 187.671875 77.285156 187.671875 C 82.808594 187.671875 87.285156 192.148438 87.285156 197.671875 \"/>\n",
       "<path style=\"fill-rule:nonzero;fill:rgb(100%,0%,0%);fill-opacity:1;stroke-width:1;stroke-linecap:butt;stroke-linejoin:miter;stroke:rgb(0%,0%,0%);stroke-opacity:1;stroke-miterlimit:10;\" d=\"M 467.539062 173.203125 C 467.539062 178.726562 463.0625 183.203125 457.539062 183.203125 C 452.015625 183.203125 447.539062 178.726562 447.539062 173.203125 C 447.539062 167.679688 452.015625 163.203125 457.539062 163.203125 C 463.0625 163.203125 467.539062 167.679688 467.539062 173.203125 \"/>\n",
       "<path style=\"fill-rule:nonzero;fill:rgb(100%,0%,0%);fill-opacity:1;stroke-width:1;stroke-linecap:butt;stroke-linejoin:miter;stroke:rgb(0%,0%,0%);stroke-opacity:1;stroke-miterlimit:10;\" d=\"M 512.355469 318.046875 C 512.355469 323.570312 507.878906 328.046875 502.355469 328.046875 C 496.835938 328.046875 492.355469 323.570312 492.355469 318.046875 C 492.355469 312.527344 496.835938 308.046875 502.355469 308.046875 C 507.878906 308.046875 512.355469 312.527344 512.355469 318.046875 \"/>\n",
       "<path style=\"fill-rule:nonzero;fill:rgb(100%,0%,0%);fill-opacity:1;stroke-width:1;stroke-linecap:butt;stroke-linejoin:miter;stroke:rgb(0%,0%,0%);stroke-opacity:1;stroke-miterlimit:10;\" d=\"M 541.707031 28.925781 C 541.707031 34.449219 537.230469 38.925781 531.707031 38.925781 C 526.1875 38.925781 521.707031 34.449219 521.707031 28.925781 C 521.707031 23.402344 526.1875 18.925781 531.707031 18.925781 C 537.230469 18.925781 541.707031 23.402344 541.707031 28.925781 \"/>\n",
       "<path style=\"fill-rule:nonzero;fill:rgb(100%,0%,0%);fill-opacity:1;stroke-width:1;stroke-linecap:butt;stroke-linejoin:miter;stroke:rgb(0%,0%,0%);stroke-opacity:1;stroke-miterlimit:10;\" d=\"M 303.550781 245.265625 C 303.550781 250.789062 299.074219 255.265625 293.550781 255.265625 C 288.03125 255.265625 283.550781 250.789062 283.550781 245.265625 C 283.550781 239.742188 288.03125 235.265625 293.550781 235.265625 C 299.074219 235.265625 303.550781 239.742188 303.550781 245.265625 \"/>\n",
       "<path style=\"fill-rule:nonzero;fill:rgb(100%,0%,0%);fill-opacity:1;stroke-width:1;stroke-linecap:butt;stroke-linejoin:miter;stroke:rgb(0%,0%,0%);stroke-opacity:1;stroke-miterlimit:10;\" d=\"M 86.335938 226.878906 C 86.335938 232.398438 81.859375 236.878906 76.335938 236.878906 C 70.8125 236.878906 66.335938 232.398438 66.335938 226.878906 C 66.335938 221.355469 70.8125 216.878906 76.335938 216.878906 C 81.859375 216.878906 86.335938 221.355469 86.335938 226.878906 \"/>\n",
       "</g>\n",
       "</svg>\n"
      ],
      "text/plain": [
       "<igraph.drawing.Plot at 0x7f5ce7c1c050>"
      ]
     },
     "execution_count": 104,
     "metadata": {},
     "output_type": "execute_result"
    }
   ],
   "source": [
    "node_number = 100\n",
    "barabasi = Graph.Barabasi(node_number)\n",
    "plot(barabasi)"
   ]
  },
  {
   "cell_type": "markdown",
   "metadata": {},
   "source": [
    "# Networkx Independent Cascade Model"
   ]
  },
  {
   "cell_type": "code",
   "execution_count": 118,
   "metadata": {
    "collapsed": true
   },
   "outputs": [],
   "source": [
    "import copy\n",
    "import networkx as nx\n",
    "import random"
   ]
  },
  {
   "cell_type": "code",
   "execution_count": 119,
   "metadata": {
    "collapsed": true
   },
   "outputs": [],
   "source": [
    "def independent_cascade(G, seeds, steps=0):\n",
    "  \"\"\"Return the active nodes of each diffusion step by the independent cascade\n",
    "  model\n",
    "\n",
    "  Parameters\n",
    "  -----------\n",
    "  G : graph\n",
    "    A NetworkX graph\n",
    "  seeds : list of nodes\n",
    "    The seed nodes for diffusion\n",
    "  steps: integer\n",
    "    The number of steps to diffuse.  If steps <= 0, the diffusion runs until\n",
    "    no more nodes can be activated.  If steps > 0, the diffusion runs for at\n",
    "    most \"steps\" rounds\n",
    "\n",
    "  Returns\n",
    "  -------\n",
    "  layer_i_nodes : list of list of activated nodes\n",
    "    layer_i_nodes[0]: the seeds\n",
    "    layer_i_nodes[k]: the nodes activated at the kth diffusion step\n",
    "\n",
    "  Notes\n",
    "  -----\n",
    "  When node v in G becomes active, it has a *single* chance of activating\n",
    "  each currently inactive neighbor w with probability p_{vw}\n",
    "\n",
    "  Examples\n",
    "  --------\n",
    "  >>> DG = nx.DiGraph()\n",
    "  >>> DG.add_edges_from([(1,2), (1,3), (1,5), (2,1), (3,2), (4,2), (4,3), \\\n",
    "  >>>   (4,6), (5,3), (5,4), (5,6), (6,4), (6,5)], act_prob=0.2)\n",
    "  >>> H = nx.independent_cascade(DG,[6])\n",
    "\n",
    "  References\n",
    "  ----------\n",
    "  [1] David Kempe, Jon Kleinberg, and Eva Tardos.\n",
    "      Influential nodes in a diffusion model for social networks.\n",
    "      In Automata, Languages and Programming, 2005.\n",
    "  \"\"\"\n",
    "  if type(G) == nx.MultiGraph or type(G) == nx.MultiDiGraph:\n",
    "      raise Exception( \\\n",
    "          \"independent_cascade() is not defined for graphs with multiedges.\")\n",
    "\n",
    "  # make sure the seeds are in the graph\n",
    "  for s in seeds:\n",
    "    if s not in G.nodes():\n",
    "      raise Exception(\"seed\", s, \"is not in graph\")\n",
    "\n",
    "  # change to directed graph\n",
    "  if not G.is_directed():\n",
    "    DG = G.to_directed()\n",
    "  else:\n",
    "    DG = copy.deepcopy(G)\n",
    "\n",
    "  # init activation probabilities\n",
    "  for e in DG.edges():\n",
    "    if 'act_prob' not in DG[e[0]][e[1]]:\n",
    "      DG[e[0]][e[1]]['act_prob'] = 0.1\n",
    "    elif DG[e[0]][e[1]]['act_prob'] > 1:\n",
    "      raise Exception(\"edge activation probability:\", \\\n",
    "          DG[e[0]][e[1]]['act_prob'], \"cannot be larger than 1\")\n",
    "\n",
    "  # perform diffusion\n",
    "  A = copy.deepcopy(seeds)  # prevent side effect\n",
    "  if steps <= 0:\n",
    "    # perform diffusion until no more nodes can be activated\n",
    "    return _diffuse_all(DG, A)\n",
    "  # perform diffusion for at most \"steps\" rounds\n",
    "  return _diffuse_k_rounds(DG, A, steps)"
   ]
  },
  {
   "cell_type": "code",
   "execution_count": 120,
   "metadata": {
    "collapsed": true
   },
   "outputs": [],
   "source": [
    "def _diffuse_all(G, A):\n",
    "  tried_edges = set()\n",
    "  layer_i_nodes = [ ]\n",
    "  layer_i_nodes.append([i for i in A])  # prevent side effect\n",
    "  while True:\n",
    "    len_old = len(A)\n",
    "    (A, activated_nodes_of_this_round, cur_tried_edges) = \\\n",
    "        _diffuse_one_round(G, A, tried_edges)\n",
    "    layer_i_nodes.append(activated_nodes_of_this_round)\n",
    "    tried_edges = tried_edges.union(cur_tried_edges)\n",
    "    if len(A) == len_old:\n",
    "      break\n",
    "  return layer_i_nodes"
   ]
  },
  {
   "cell_type": "code",
   "execution_count": 121,
   "metadata": {
    "collapsed": true
   },
   "outputs": [],
   "source": [
    "def _diffuse_k_rounds(G, A, steps):\n",
    "  tried_edges = set()\n",
    "  layer_i_nodes = [ ]\n",
    "  layer_i_nodes.append([i for i in A])\n",
    "  while steps > 0 and len(A) < len(G):\n",
    "    len_old = len(A)\n",
    "    (A, activated_nodes_of_this_round, cur_tried_edges) = \\\n",
    "        _diffuse_one_round(G, A, tried_edges)\n",
    "    layer_i_nodes.append(activated_nodes_of_this_round)\n",
    "    tried_edges = tried_edges.union(cur_tried_edges)\n",
    "    if len(A) == len_old:\n",
    "      break\n",
    "    steps -= 1\n",
    "  return layer_i_nodes"
   ]
  },
  {
   "cell_type": "code",
   "execution_count": 122,
   "metadata": {
    "collapsed": true
   },
   "outputs": [],
   "source": [
    "def _diffuse_one_round(G, A, tried_edges):\n",
    "  activated_nodes_of_this_round = set()\n",
    "  cur_tried_edges = set()\n",
    "  for s in A:\n",
    "    for nb in G.successors(s):\n",
    "      if nb in A or (s, nb) in tried_edges or (s, nb) in cur_tried_edges:\n",
    "        continue\n",
    "      if _prop_success(G, s, nb):\n",
    "        activated_nodes_of_this_round.add(nb)\n",
    "      cur_tried_edges.add((s, nb))\n",
    "  activated_nodes_of_this_round = list(activated_nodes_of_this_round)\n",
    "  A.extend(activated_nodes_of_this_round)\n",
    "  return A, activated_nodes_of_this_round, cur_tried_edges\n",
    "\n",
    "def _prop_success(G, src, dest):\n",
    "  return random.random() <= G[src][dest]['act_prob']"
   ]
  },
  {
   "cell_type": "code",
   "execution_count": 123,
   "metadata": {
    "collapsed": false
   },
   "outputs": [
    {
     "data": {
      "image/png": "[encoded data removed]",
      "text/plain": [
       "<matplotlib.figure.Figure at 0x7f557333dbd0>"
      ]
     },
     "metadata": {},
     "output_type": "display_data"
    }
   ],
   "source": [
    "run_times = 10\n",
    "\n",
    "G = nx.DiGraph()\n",
    "G.add_edge(1,2,act_prob=.5)\n",
    "G.add_edge(2,1,act_prob=.5)\n",
    "G.add_edge(1,3,act_prob=.2)\n",
    "G.add_edge(3,1,act_prob=.2)\n",
    "G.add_edge(2,3,act_prob=.3)\n",
    "G.add_edge(2,4,act_prob=.5)\n",
    "G.add_edge(3,4,act_prob=.1)\n",
    "G.add_edge(3,5,act_prob=.2)\n",
    "G.add_edge(4,5,act_prob=.2)\n",
    "G.add_edge(5,6,act_prob=.6)\n",
    "G.add_edge(6,5,act_prob=.6)\n",
    "G.add_edge(6,4,act_prob=.3)\n",
    "G.add_edge(6,2,act_prob=.4)\n",
    "nx.draw_networkx(G)"
   ]
  },
  {
   "cell_type": "code",
   "execution_count": 142,
   "metadata": {
    "collapsed": false
   },
   "outputs": [
    {
     "data": {
      "text/plain": [
       "[[1], []]"
      ]
     },
     "execution_count": 142,
     "metadata": {},
     "output_type": "execute_result"
    }
   ],
   "source": [
    "independent_cascade(G, [1], steps=1)"
   ]
  },
  {
   "cell_type": "code",
   "execution_count": null,
   "metadata": {
    "collapsed": false
   },
   "outputs": [],
   "source": [
    "n_A = 0.0\n",
    "for i in range(run_times):\n",
    "    A = independent_cascade(G, [2], steps=1)\n",
    "    print A\n",
    "    for layer in A:\n",
    "        n_A += len(layer)\n",
    "n_A / run_times\n",
    "#assert_almost_equal(n_A / run_times, 1.7, places=1)"
   ]
  },
  {
   "cell_type": "markdown",
   "metadata": {},
   "source": [
    "#Conclusion\n",
    "\n",
    "Both igraph and graph_tool yield similar performance. So, for the real data I'm going to use graph_tool as the documentation is more comprehensive."
   ]
  },
  {
   "cell_type": "markdown",
   "metadata": {},
   "source": [
    "# Real data\n",
    "The data we collect from Twitter Streaming API is stored in Mongodb."
   ]
  },
  {
   "cell_type": "code",
   "execution_count": 49,
   "metadata": {
    "collapsed": true
   },
   "outputs": [],
   "source": [
    "%matplotlib inline\n",
    "import pymongo\n",
    "import networkx as nx\n",
    "import time\n",
    "import itertools\n",
    "import operator\n",
    "\n",
    "from multiprocessing import Pool\n",
    "from pymongo import MongoClient\n",
    "\n",
    "from sweepy.get_config import get_config\n",
    "\n",
    "config = get_config()\n",
    "\n",
    "MONGO_URL = config.get('MONGO_URL')\n",
    "MONGO_PORT = config.get('MONGO_PORT')\n",
    "MONGO_USERNAME = config.get('MONGO_USERNAME')\n",
    "MONGO_PASSWORD = config.get('MONGO_PASSWORD')\n",
    "MONGO_DATABASE = config.get('MONGO_DATABASE')\n",
    "\n",
    "client = MongoClient(MONGO_URL, int(MONGO_PORT))\n",
    "\n",
    "db = client[MONGO_DATABASE]\n",
    "db.authenticate(MONGO_USERNAME, MONGO_PASSWORD)\n",
    "\n",
    "users = db.users\n",
    "raw_tweets = db.raw_tweets"
   ]
  },
  {
   "cell_type": "markdown",
   "metadata": {},
   "source": [
    "Let's do some data exploration first."
   ]
  },
  {
   "cell_type": "markdown",
   "metadata": {},
   "source": [
    "## Who retweet the most in Fusion network"
   ]
  },
  {
   "cell_type": "code",
   "execution_count": 14,
   "metadata": {
    "collapsed": false
   },
   "outputs": [],
   "source": [
    "most_retweets = raw_tweets.aggregate([\n",
    "    { '$group' : { '_id': '$user.id_str', 'count' : { '$sum' : 1 }, 'screen_name' : { '$last' : '$user.screen_name'} } },\n",
    "    { '$match' : { 'count' : { '$gte' : 1 } } },\n",
    "    { '$sort' : { 'count' : -1 } },\n",
    "    { '$limit' : 20}\n",
    "])"
   ]
  },
  {
   "cell_type": "code",
   "execution_count": 15,
   "metadata": {
    "collapsed": false
   },
   "outputs": [
    {
     "name": "stdout",
     "output_type": "stream",
     "text": [
      "{u'count': 1424, u'_id': u'121817564', u'screen_name': u'ThisIsFusion'}\n",
      "{u'count': 423, u'_id': u'3106528812', u'screen_name': u'JuePier'}\n",
      "{u'count': 248, u'_id': u'220038215', u'screen_name': u'prattreport'}\n",
      "{u'count': 100, u'_id': u'3152407786', u'screen_name': u'Urbaniters'}\n",
      "{u'count': 77, u'_id': u'7154912', u'screen_name': u'ohiomary'}\n",
      "{u'count': 59, u'_id': u'151938942', u'screen_name': u'mauriciogale'}\n",
      "{u'count': 52, u'_id': u'34294546', u'screen_name': u'EmeraldEnvy11'}\n",
      "{u'count': 47, u'_id': u'3152728781', u'screen_name': u'SocialCurrentcy'}\n",
      "{u'count': 45, u'_id': u'789920724', u'screen_name': u'felicito15'}\n",
      "{u'count': 40, u'_id': u'200249089', u'screen_name': u'jnarls'}\n",
      "{u'count': 37, u'_id': None, u'screen_name': None}\n",
      "{u'count': 37, u'_id': u'630864427', u'screen_name': u'NDaddyP'}\n",
      "{u'count': 31, u'_id': u'145062328', u'screen_name': u'VivianIPadilla'}\n",
      "{u'count': 31, u'_id': u'1114746523', u'screen_name': u'no2hitting'}\n",
      "{u'count': 30, u'_id': u'1921038272', u'screen_name': u'Fusion21Gordon'}\n",
      "{u'count': 30, u'_id': u'47090625', u'screen_name': u'cjiausa'}\n",
      "{u'count': 29, u'_id': u'2365305244', u'screen_name': u'blueocean5454'}\n",
      "{u'count': 29, u'_id': u'1972356482', u'screen_name': u'HenrivandeZee'}\n",
      "{u'count': 29, u'_id': u'132243158', u'screen_name': u'pcosdeaf'}\n",
      "{u'count': 25, u'_id': u'60563975', u'screen_name': u'singhnavjeet'}\n"
     ]
    }
   ],
   "source": [
    "for most_retweet in most_retweets:\n",
    "    print most_retweet"
   ]
  },
  {
   "cell_type": "markdown",
   "metadata": {},
   "source": [
    "## More retweeted tweet"
   ]
  },
  {
   "cell_type": "code",
   "execution_count": 98,
   "metadata": {
    "collapsed": false
   },
   "outputs": [],
   "source": [
    "most_retweeted_tweets = raw_tweets.aggregate([\n",
    "    { '$group': { '_id' : '$retweeted_status.id_str', 'count' : { '$sum' : 1 }, 't' : { '$last' : '$retweeted_status.text'} }},\n",
    "    { '$match': { 'count' : { '$gte' : 1} }  },\n",
    "    { '$sort' : { 'count' : -1 } },\n",
    "    { '$limit' : 20 }\n",
    "])"
   ]
  },
  {
   "cell_type": "code",
   "execution_count": 99,
   "metadata": {
    "collapsed": false
   },
   "outputs": [
    {
     "name": "stdout",
     "output_type": "stream",
     "text": [
      "{u'count': 3258, u'_id': None, u't': None}\n",
      "{u'count': 1408, u'_id': u'636345902915911680', u't': u'Jorge Ramos: Donald Trump\\u2019s immigration plan is \\u2018all wrong\\u2019 and \\u2018impossible to achieve\\u2019\\nhttps://t.co/Y4pojxTzX7'}\n",
      "{u'count': 402, u'_id': u'634458360679501824', u't': u'The American lawn is now the largest single \"crop\" in the U.S. http://t.co/pXgNr9mrJg http://t.co/8FYA1vjDQe'}\n",
      "{u'count': 338, u'_id': u'636606180094115840', u't': u'Donald Trump supporter to Jorge Ramos: \\u201cGet out of my country.\\u201d\\nhttps://t.co/saeDo5mJ5j'}\n",
      "{u'count': 320, u'_id': u'634459019990536192', u't': u'The American lawn is now the largest single \"crop\" in the U.S. http://t.co/zalV0EE8Gu http://t.co/M3txMmzg5m'}\n",
      "{u'count': 275, u'_id': u'643503547624071170', u't': u'Immigrant takes Donald Trump\\u2019s job http://t.co/DZrh8ZCVlR http://t.co/W3zSvkLfUh'}\n",
      "{u'count': 209, u'_id': u'634458268333510657', u't': u'Meet the Silicon Valley CEO who is championing women. http://t.co/ZVYLZym41M http://t.co/sjbfqExfVv'}\n",
      "{u'count': 179, u'_id': u'632271840937807873', u't': u\"Study: Bullies aren't depressed. They're just jerks. http://t.co/KEeABDdWkn http://t.co/PPng486vIS\"}\n",
      "{u'count': 176, u'_id': u'642376622256033792', u't': u'People of color are sharing powerful stories of discrimination with #afterseptember11 http://t.co/N3Z3MMGyKV http://t.co/t9ey9OTnIO'}\n",
      "{u'count': 154, u'_id': u'636376338387984384', u't': u'This is the question that made Donald Trump kick Jorge Ramos out of a press conference\\u2026\\nhttps://t.co/JiR9uzEoN7'}\n",
      "{u'count': 148, u'_id': u'634458488559661056', u't': u'A graphic essay about depression tried to make sense of what words alone cannot. http://t.co/sVxK62bPvQ http://t.co/BjKeArRnHs'}\n",
      "{u'count': 121, u'_id': u'632253464454688768', u't': u\"Study: Bullies aren't depressed. They're just jerks. http://t.co/tIJLIpt2Nf http://t.co/d91jtuuttV\"}\n",
      "{u'count': 110, u'_id': u'636725433841643520', u't': u'Ricky Martin: It\\u2019s time for Latinos to unite against Donald Trump http://t.co/eT2DVoEbCX http://t.co/iuyimVXOce'}\n",
      "{u'count': 105, u'_id': u'634459158029340672', u't': u'A graphic essay about depression tried to make sense of what words alone cannot. http://t.co/5ujAqBcxLx http://t.co/YO897nssRG'}\n",
      "{u'count': 83, u'_id': u'636325812606763008', u't': u'Donald Trump throws Fusion anchor @JorgeRamosNews out of his press conference http://t.co/BXXNKvPGN8 http://t.co/E8GbTopxyw'}\n",
      "{u'count': 59, u'_id': u'636610601113022464', u't': u'Related: That time Jorge Ramos was on the cover of @TIME http://t.co/HaqB371Z6t #waybackwednesday http://t.co/GDWu5yzSzb'}\n",
      "{u'count': 52, u'_id': u'634458043913121792', u't': u'Warming relations between the U.S. and Cuba could resurface some old scores. http://t.co/GmBEhN6Rgl http://t.co/ny0RlnA9TY'}\n",
      "{u'count': 52, u'_id': u'636916153756028928', u't': u'Ricky Martin: It\\u2019s time for Latinos to unite against Donald Trump http://t.co/Kf0eKGdENf #LatinosUnidos http://t.co/MjcaMSvNeH'}\n",
      "{u'count': 52, u'_id': u'632249981320040452', u't': u\"This web browser hack replaces 'political correctness' with something a bit more accurate. http://t.co/ivBjSpFUZe http://t.co/S3QUNtnrQp\"}\n",
      "{u'count': 51, u'_id': u'636526611467239424', u't': u'I\\'m a reporter. My job is to ask questions. What\\'s \"totally out of line\" is to eject a reporter from a press conference for asking questions'}\n"
     ]
    }
   ],
   "source": [
    "for most_retweet in most_retweeted_tweets:\n",
    "    print most_retweet"
   ]
  },
  {
   "cell_type": "code",
   "execution_count": null,
   "metadata": {
    "collapsed": true
   },
   "outputs": [],
   "source": [
    "all_users = users.find({}, { 'id' : 1, 'friends_ids' : 1}).batch_size(50)"
   ]
  },
  {
   "cell_type": "markdown",
   "metadata": {},
   "source": [
    "We are going to convert the data to edgelist so it's easier to import to various different tools"
   ]
  },
  {
   "cell_type": "code",
   "execution_count": 8,
   "metadata": {
    "collapsed": false
   },
   "outputs": [],
   "source": [
    "with open('twitter_edgelist.txt', 'w') as f:\n",
    "    for user in all_users:\n",
    "        u_id = str(abs(user['id']))\n",
    "        for friend_id in user['friends_ids']:\n",
    "            f_id = str(abs(friend_id))\n",
    "            f.write('{} {}\\n'.format(u_id, f_id))"
   ]
  },
  {
   "cell_type": "markdown",
   "metadata": {},
   "source": [
    "## Let's try ICM with iGraph"
   ]
  },
  {
   "cell_type": "code",
   "execution_count": 146,
   "metadata": {
    "collapsed": true
   },
   "outputs": [],
   "source": [
    "from igraph import *\n",
    "import copy"
   ]
  },
  {
   "cell_type": "code",
   "execution_count": 147,
   "metadata": {
    "collapsed": false
   },
   "outputs": [],
   "source": [
    "def independent_cascade_igraph(G, seeds, steps=0):\n",
    "    # init activation probabilities\n",
    "    for e in G.es():\n",
    "        if 'act_prob' not in e.attributes():\n",
    "            e['act_prob'] = 0.1\n",
    "        elif e['act_prob'] > 1:\n",
    "            raise Exception(\"edge activation probability:\", e['act_prob'], \"cannot be larger than 1\")\n",
    "\n",
    "    # perform diffusion\n",
    "    A = copy.deepcopy(seeds)  # prevent side effect\n",
    "    if steps <= 0:\n",
    "        # perform diffusion until no more nodes can be activated\n",
    "        return _diffuse_all(G, A)\n",
    "    # perform diffusion for at most \"steps\" rounds\n",
    "    return _diffuse_k_rounds(G, A, steps)"
   ]
  },
  {
   "cell_type": "code",
   "execution_count": 148,
   "metadata": {
    "collapsed": true
   },
   "outputs": [],
   "source": [
    "def _diffuse_k_rounds(G, A, steps):\n",
    "    tried_edges = set()\n",
    "    layer_i_nodes = [ ]\n",
    "    layer_i_nodes.append([i for i in A])\n",
    "    while steps > 0 and len(A) < G.vcount():\n",
    "        len_old = len(A)\n",
    "        (A, activated_nodes_of_this_round, cur_tried_edges) = _diffuse_one_round(G, A, tried_edges)\n",
    "        layer_i_nodes.append(activated_nodes_of_this_round)\n",
    "        tried_edges = tried_edges.union(cur_tried_edges)\n",
    "        if len(A) == len_old:\n",
    "            break\n",
    "        steps -= 1\n",
    "    return layer_i_nodes"
   ]
  },
  {
   "cell_type": "code",
   "execution_count": 201,
   "metadata": {
    "collapsed": true
   },
   "outputs": [],
   "source": [
    "def _diffuse_one_round(G, A, tried_edges):\n",
    "    activated_nodes_of_this_round = set()\n",
    "    cur_tried_edges = set()\n",
    "    for s in A:\n",
    "        for nb in G.successors(s):\n",
    "            if nb in A or (s, nb) in tried_edges or (s, nb) in cur_tried_edges:\n",
    "                continue\n",
    "            if _prop_success(G, s, nb):\n",
    "                activated_nodes_of_this_round.add(nb)\n",
    "            cur_tried_edges.add((s, nb))\n",
    "    activated_nodes_of_this_round = list(activated_nodes_of_this_round)\n",
    "    A.extend(activated_nodes_of_this_round)\n",
    "    return A, activated_nodes_of_this_round, cur_tried_edges\n",
    "\n",
    "def _prop_success(G, src, dest):\n",
    "    '''\n",
    "    act_prob = 0.1\n",
    "    for e in G.es():\n",
    "        if (src, dest) == e.tuple:\n",
    "            act_prob = e['act_prob']\n",
    "            break\n",
    "    '''\n",
    "    return random.random() <= 0.1"
   ]
  },
  {
   "cell_type": "code",
   "execution_count": 202,
   "metadata": {
    "collapsed": false
   },
   "outputs": [],
   "source": [
    "test_g = Graph([(1,2), (2,1), (1,3), (3,1), (2,3), (2,4), (3,4), (3,5), (4,5), (5,6), (6,5), (6,4), (6,2)], directed=True)\n",
    "test_g.es['act_prob'] = [.5, .5, .2, .2, .3, .5, .1, .2, .2, .6, .6, .3, .4]"
   ]
  },
  {
   "cell_type": "code",
   "execution_count": 203,
   "metadata": {
    "collapsed": false
   },
   "outputs": [
    {
     "data": {
      "text/plain": [
       "[[1], []]"
      ]
     },
     "execution_count": 203,
     "metadata": {},
     "output_type": "execute_result"
    }
   ],
   "source": [
    "independent_cascade_igraph(test_g, [1], steps=1)"
   ]
  },
  {
   "cell_type": "markdown",
   "metadata": {},
   "source": [
    "# Find Centrality"
   ]
  },
  {
   "cell_type": "code",
   "execution_count": 204,
   "metadata": {
    "collapsed": false
   },
   "outputs": [],
   "source": [
    "from igraph import *\n",
    "import timeit\n",
    "import numpy"
   ]
  },
  {
   "cell_type": "code",
   "execution_count": 176,
   "metadata": {
    "collapsed": false
   },
   "outputs": [],
   "source": [
    "twitter_igraph = Graph.Read_Ncol('twitter_edgelist.txt', directed=True)"
   ]
  },
  {
   "cell_type": "code",
   "execution_count": 177,
   "metadata": {
    "collapsed": false
   },
   "outputs": [
    {
     "name": "stdout",
     "output_type": "stream",
     "text": [
      "IGRAPH DN-- 2869228 6764984 -- \n",
      "+ attr: name (v)\n"
     ]
    }
   ],
   "source": [
    "print twitter_igraph.summary()"
   ]
  },
  {
   "cell_type": "code",
   "execution_count": 209,
   "metadata": {
    "collapsed": false
   },
   "outputs": [
    {
     "name": "stdout",
     "output_type": "stream",
     "text": [
      "1907\n",
      "139\n"
     ]
    }
   ],
   "source": [
    "thisisfusion = twitter_igraph.vs.find(name='121817564')\n",
    "print thisisfusion.degree(type=\"out\")\n",
    "print thisisfusion.index"
   ]
  },
  {
   "cell_type": "code",
   "execution_count": 211,
   "metadata": {
    "collapsed": false
   },
   "outputs": [
    {
     "data": {
      "text/plain": [
       "1907"
      ]
     },
     "execution_count": 211,
     "metadata": {},
     "output_type": "execute_result"
    }
   ],
   "source": [
    "len(twitter_igraph.successors(139))"
   ]
  },
  {
   "cell_type": "code",
   "execution_count": 205,
   "metadata": {
    "collapsed": false
   },
   "outputs": [
    {
     "data": {
      "text/plain": [
       "[['121817564'],\n",
       " [2049,\n",
       "  516,\n",
       "  1032,\n",
       "  521,\n",
       "  1548,\n",
       "  1551,\n",
       "  533,\n",
       "  1563,\n",
       "  1882,\n",
       "  1056,\n",
       "  1571,\n",
       "  1061,\n",
       "  1372,\n",
       "  1580,\n",
       "  563,\n",
       "  1033,\n",
       "  1592,\n",
       "  569,\n",
       "  570,\n",
       "  1595,\n",
       "  573,\n",
       "  1598,\n",
       "  1973,\n",
       "  1088,\n",
       "  584,\n",
       "  268,\n",
       "  588,\n",
       "  1107,\n",
       "  1110,\n",
       "  1111,\n",
       "  1626,\n",
       "  603,\n",
       "  1629,\n",
       "  1120,\n",
       "  1638,\n",
       "  616,\n",
       "  1642,\n",
       "  1643,\n",
       "  1132,\n",
       "  1981,\n",
       "  1651,\n",
       "  122,\n",
       "  1149,\n",
       "  1663,\n",
       "  1984,\n",
       "  644,\n",
       "  648,\n",
       "  1388,\n",
       "  1303,\n",
       "  482,\n",
       "  1170,\n",
       "  1683,\n",
       "  660,\n",
       "  1685,\n",
       "  664,\n",
       "  1690,\n",
       "  1691,\n",
       "  670,\n",
       "  675,\n",
       "  369,\n",
       "  1608,\n",
       "  682,\n",
       "  1708,\n",
       "  1203,\n",
       "  694,\n",
       "  1207,\n",
       "  1210,\n",
       "  1723,\n",
       "  970,\n",
       "  1694,\n",
       "  1731,\n",
       "  1738,\n",
       "  715,\n",
       "  717,\n",
       "  1741,\n",
       "  209,\n",
       "  212,\n",
       "  732,\n",
       "  739,\n",
       "  1769,\n",
       "  747,\n",
       "  237,\n",
       "  238,\n",
       "  1661,\n",
       "  754,\n",
       "  1275,\n",
       "  1834,\n",
       "  1793,\n",
       "  259,\n",
       "  1802,\n",
       "  780,\n",
       "  898,\n",
       "  1297,\n",
       "  1298,\n",
       "  276,\n",
       "  1301,\n",
       "  279,\n",
       "  284,\n",
       "  1314,\n",
       "  1827,\n",
       "  1316,\n",
       "  1322,\n",
       "  1459,\n",
       "  814,\n",
       "  823,\n",
       "  824,\n",
       "  831,\n",
       "  1345,\n",
       "  1858,\n",
       "  838,\n",
       "  1351,\n",
       "  1865,\n",
       "  1354,\n",
       "  1847,\n",
       "  845,\n",
       "  848,\n",
       "  227,\n",
       "  1367,\n",
       "  345,\n",
       "  858,\n",
       "  348,\n",
       "  1885,\n",
       "  1887,\n",
       "  1380,\n",
       "  1381,\n",
       "  1169,\n",
       "  873,\n",
       "  1899,\n",
       "  364,\n",
       "  1410,\n",
       "  881,\n",
       "  1906,\n",
       "  1396,\n",
       "  1401,\n",
       "  1914,\n",
       "  490,\n",
       "  1406,\n",
       "  1600,\n",
       "  386,\n",
       "  1923,\n",
       "  1927,\n",
       "  908,\n",
       "  1939,\n",
       "  405,\n",
       "  1943,\n",
       "  920,\n",
       "  1440,\n",
       "  1954,\n",
       "  420,\n",
       "  1447,\n",
       "  426,\n",
       "  1863,\n",
       "  433,\n",
       "  1458,\n",
       "  947,\n",
       "  1461,\n",
       "  952,\n",
       "  1979,\n",
       "  957,\n",
       "  447,\n",
       "  448,\n",
       "  1986,\n",
       "  965,\n",
       "  456,\n",
       "  458,\n",
       "  972,\n",
       "  461,\n",
       "  1998,\n",
       "  463,\n",
       "  978,\n",
       "  1491,\n",
       "  476,\n",
       "  989,\n",
       "  2017,\n",
       "  994,\n",
       "  2019,\n",
       "  486,\n",
       "  999,\n",
       "  488,\n",
       "  1002,\n",
       "  1003,\n",
       "  500,\n",
       "  1013,\n",
       "  2038,\n",
       "  2043,\n",
       "  2046]]"
      ]
     },
     "execution_count": 205,
     "metadata": {},
     "output_type": "execute_result"
    }
   ],
   "source": [
    "independent_cascade_igraph(twitter_igraph, ['121817564'], steps=1)"
   ]
  },
  {
   "cell_type": "code",
   "execution_count": 206,
   "metadata": {
    "collapsed": false
   },
   "outputs": [
    {
     "data": {
      "text/plain": [
       "igraph.Vertex(<igraph.Graph object at 0x7f5576360a00>,2049,{'name': '54043630'})"
      ]
     },
     "execution_count": 206,
     "metadata": {},
     "output_type": "execute_result"
    }
   ],
   "source": [
    "twitter_igraph.vs[2049]"
   ]
  },
  {
   "cell_type": "code",
   "execution_count": 32,
   "metadata": {
    "collapsed": false
   },
   "outputs": [
    {
     "name": "stdout",
     "output_type": "stream",
     "text": [
      "It takes 23.0463728905 seconds to finish\n"
     ]
    }
   ],
   "source": [
    "start = timeit.default_timer()\n",
    "igraph_eg = twitter_igraph.evcent()\n",
    "stop = timeit.default_timer()\n",
    "print 'It takes {} seconds to finish'.format(stop - start)"
   ]
  },
  {
   "cell_type": "code",
   "execution_count": 52,
   "metadata": {
    "collapsed": false
   },
   "outputs": [],
   "source": [
    "np_vals = numpy.array(igraph_eg)\n",
    "sorted_eigen = numpy.argsort(np_vals)[::-1][:100]"
   ]
  },
  {
   "cell_type": "code",
   "execution_count": 53,
   "metadata": {
    "collapsed": false
   },
   "outputs": [
    {
     "name": "stdout",
     "output_type": "stream",
     "text": [
      "ThisIsFusion\n",
      "alexismadrigal\n",
      "807095\n",
      "AnnaHolmes\n",
      "isaacleep\n",
      "58524428\n",
      "kevinroose\n",
      "14677919\n",
      "AliciaMenendez\n",
      "FusionNews\n",
      "51241574\n",
      "felixsalmon\n",
      "dodaistewart\n",
      "jorgeramosnews\n",
      "nuriapuntonet\n",
      "thisisjorge\n",
      "35773039\n",
      "kashhill\n",
      "813286\n",
      "LatoyaPeterson\n",
      "18622869\n",
      "9149492\n",
      "14515799\n",
      "nandorvila\n",
      "122188108\n",
      "hilella\n",
      "16017475\n",
      "243822289\n",
      "ItsDavidFord\n",
      "1339835893\n",
      "27000730\n",
      "AkilahObviously\n",
      "2517988075\n",
      "TheRealFuture\n",
      "rjwile\n",
      "9532402\n",
      "25074661\n",
      "2467791\n",
      "21924525\n",
      "Cleomsf\n",
      "291748457\n",
      "TooMuchMe\n",
      "16076032\n",
      "5392522\n",
      "FusionPop\n",
      "45564482\n",
      "428333\n",
      "collier\n",
      "1536791610\n",
      "2347049341\n",
      "3108351\n",
      "5695632\n",
      "FusionSnaps\n",
      "15959440\n",
      "CharlesPulliam\n",
      "15164565\n",
      "8936082\n",
      "10454572\n",
      "1140451\n",
      "fidmart85\n",
      "ABC\n",
      "30313925\n",
      "25294855\n",
      "14834340\n",
      "15865878\n",
      "1652541\n",
      "14849562\n",
      "31080039\n",
      "ComeHereSayThat\n",
      "5988062\n",
      "6017542\n",
      "DaniAFriedman\n",
      "18510860\n",
      "80350164\n",
      "24773177\n",
      "joseiswriting\n",
      "281607245\n",
      "mollyfitz\n",
      "AdamWeinstein\n",
      "4265721\n",
      "WIRED\n",
      "15087011\n",
      "adamauriemma\n",
      "WeAreFusion\n",
      "14075928\n",
      "972651\n",
      "16955991\n",
      "16012783\n",
      "RojasIngrid\n",
      "9300262\n",
      "ThisIsAmerica\n",
      "14511951\n",
      "19725644\n",
      "47632905\n",
      "20605481\n",
      "16129920\n",
      "24216951\n",
      "5402612\n",
      "13566872\n",
      "138141150\n"
     ]
    }
   ],
   "source": [
    "for eg in sorted_eigen:\n",
    "    t_id = twitter_igraph.vs.find(eg)['name']\n",
    "    u = users.find_one({'id_str' : str(t_id)})\n",
    "    if u:\n",
    "        print u['screen_name']\n",
    "    else:\n",
    "        print t_id"
   ]
  },
  {
   "cell_type": "code",
   "execution_count": 91,
   "metadata": {
    "collapsed": false
   },
   "outputs": [
    {
     "name": "stdout",
     "output_type": "stream",
     "text": [
      "It takes 1.9402821064 seconds to finish\n"
     ]
    }
   ],
   "source": [
    "start = timeit.default_timer()\n",
    "igraph_pr = twitter_igraph.pagerank()\n",
    "stop = timeit.default_timer()\n",
    "print 'It takes {} seconds to finish'.format(stop - start)"
   ]
  },
  {
   "cell_type": "code",
   "execution_count": 92,
   "metadata": {
    "collapsed": true
   },
   "outputs": [],
   "source": [
    "np_vals = numpy.array(igraph_pr)\n",
    "sorted_pr = numpy.argsort(np_vals)[::-1][:100]"
   ]
  },
  {
   "cell_type": "code",
   "execution_count": 93,
   "metadata": {
    "collapsed": false
   },
   "outputs": [
    {
     "name": "stdout",
     "output_type": "stream",
     "text": [
      "ThisIsFusion\n",
      "Unpredictable1D\n",
      "813286\n",
      "jorgeramosnews\n",
      "807095\n",
      "1536791610\n",
      "428333\n",
      "15846407\n",
      "759251\n",
      "1339835893\n",
      "51241574\n",
      "2467791\n",
      "16303106\n",
      "30313925\n",
      "15485441\n",
      "158414847\n",
      "25073877\n",
      "5402612\n",
      "14511951\n",
      "3108351\n",
      "15224867\n",
      "5392522\n",
      "ABC\n",
      "50393960\n",
      "11348282\n",
      "19725644\n",
      "742143\n",
      "1652541\n",
      "27195114\n",
      "500704345\n",
      "5988062\n",
      "14677919\n",
      "14293310\n",
      "1330457336\n",
      "169686021\n",
      "14075928\n",
      "1093090866\n",
      "19697415\n",
      "20609518\n",
      "16129920\n",
      "17471979\n",
      "29442313\n",
      "25365536\n",
      "5695632\n",
      "WIRED\n",
      "17919972\n",
      "6017542\n",
      "79293791\n",
      "115485051\n",
      "UniNoticias\n",
      "216776631\n",
      "316389142\n",
      "19028953\n",
      "26257166\n",
      "972651\n",
      "19397785\n",
      "10228272\n",
      "1367531\n",
      "21447363\n",
      "Univision\n",
      "2557521\n",
      "91478624\n",
      "14173315\n",
      "9300262\n",
      "176566242\n",
      "45266183\n",
      "27260086\n",
      "35773039\n",
      "783214\n",
      "34507480\n",
      "15012486\n",
      "15492359\n",
      "23818581\n",
      "18510860\n",
      "3303293865\n",
      "16664681\n",
      "deray\n",
      "236699098\n",
      "95023423\n",
      "80654397\n",
      "14159148\n",
      "44409004\n",
      "166739404\n",
      "33884545\n",
      "180505807\n",
      "26565946\n",
      "87818409\n",
      "15164565\n",
      "181561712\n",
      "409486555\n",
      "255388236\n",
      "2097571\n",
      "23375688\n",
      "157140968\n",
      "37710752\n",
      "14230524\n",
      "134381889\n",
      "485272230\n",
      "FusionNews\n",
      "30364057\n"
     ]
    }
   ],
   "source": [
    "for eg in sorted_pr:\n",
    "    t_id = twitter_igraph.vs.find(eg)['name']\n",
    "    u = users.find_one({'id_str' : str(t_id)})\n",
    "    if u:\n",
    "        print u['screen_name']\n",
    "    else:\n",
    "        print t_id"
   ]
  },
  {
   "cell_type": "markdown",
   "metadata": {
    "collapsed": true
   },
   "source": [
    "# Graph tool"
   ]
  },
  {
   "cell_type": "code",
   "execution_count": 7,
   "metadata": {
    "collapsed": false
   },
   "outputs": [],
   "source": [
    "import sys\n",
    "import os\n",
    "sys.path.append('/usr/lib/python2.7/dist-packages')\n",
    "\n",
    "from graph_tool.all import *"
   ]
  },
  {
   "cell_type": "code",
   "execution_count": 8,
   "metadata": {
    "collapsed": false
   },
   "outputs": [],
   "source": [
    "g = Graph(directed=True)"
   ]
  },
  {
   "cell_type": "code",
   "execution_count": 9,
   "metadata": {
    "collapsed": false
   },
   "outputs": [
    {
     "ename": "MemoryError",
     "evalue": "",
     "output_type": "error",
     "traceback": [
      "\u001b[1;31m---------------------------------------------------------------------------\u001b[0m",
      "\u001b[1;31mMemoryError\u001b[0m                               Traceback (most recent call last)",
      "\u001b[1;32m<ipython-input-9-ba078d4f87eb>\u001b[0m in \u001b[0;36m<module>\u001b[1;34m()\u001b[0m\n\u001b[0;32m      3\u001b[0m         \u001b[0medge_list\u001b[0m \u001b[1;33m=\u001b[0m \u001b[0mline\u001b[0m\u001b[1;33m.\u001b[0m\u001b[0msplit\u001b[0m\u001b[1;33m(\u001b[0m\u001b[1;33m)\u001b[0m\u001b[1;33m\u001b[0m\u001b[0m\n\u001b[0;32m      4\u001b[0m         \u001b[0msource\u001b[0m\u001b[1;33m,\u001b[0m \u001b[0mtarget\u001b[0m \u001b[1;33m=\u001b[0m \u001b[0mtuple\u001b[0m\u001b[1;33m(\u001b[0m\u001b[0medge_list\u001b[0m\u001b[1;33m)\u001b[0m\u001b[1;33m\u001b[0m\u001b[0m\n\u001b[1;32m----> 5\u001b[1;33m         \u001b[0mg\u001b[0m\u001b[1;33m.\u001b[0m\u001b[0madd_edge\u001b[0m\u001b[1;33m(\u001b[0m\u001b[0msource\u001b[0m\u001b[1;33m,\u001b[0m \u001b[0mtarget\u001b[0m\u001b[1;33m)\u001b[0m\u001b[1;33m\u001b[0m\u001b[0m\n\u001b[0m",
      "\u001b[1;32m/usr/lib/python2.7/dist-packages/graph_tool/__init__.pyc\u001b[0m in \u001b[0;36madd_edge\u001b[1;34m(self, source, target, add_missing)\u001b[0m\n\u001b[0;32m   1618\u001b[0m         \u001b[0mself\u001b[0m\u001b[1;33m.\u001b[0m\u001b[0m__check_perms\u001b[0m\u001b[1;33m(\u001b[0m\u001b[1;34m\"add_edge\"\u001b[0m\u001b[1;33m)\u001b[0m\u001b[1;33m\u001b[0m\u001b[0m\n\u001b[0;32m   1619\u001b[0m         e = libcore.add_edge(weakref.ref(self),\n\u001b[1;32m-> 1620\u001b[1;33m                              \u001b[0mself\u001b[0m\u001b[1;33m.\u001b[0m\u001b[0mvertex\u001b[0m\u001b[1;33m(\u001b[0m\u001b[0mint\u001b[0m\u001b[1;33m(\u001b[0m\u001b[0msource\u001b[0m\u001b[1;33m)\u001b[0m\u001b[1;33m,\u001b[0m \u001b[0madd_missing\u001b[0m\u001b[1;33m=\u001b[0m\u001b[0madd_missing\u001b[0m\u001b[1;33m)\u001b[0m\u001b[1;33m,\u001b[0m\u001b[1;33m\u001b[0m\u001b[0m\n\u001b[0m\u001b[0;32m   1621\u001b[0m                              self.vertex(int(target), add_missing=add_missing))\n\u001b[0;32m   1622\u001b[0m         \u001b[0mefilt\u001b[0m \u001b[1;33m=\u001b[0m \u001b[0mself\u001b[0m\u001b[1;33m.\u001b[0m\u001b[0mget_edge_filter\u001b[0m\u001b[1;33m(\u001b[0m\u001b[1;33m)\u001b[0m\u001b[1;33m\u001b[0m\u001b[0m\n",
      "\u001b[1;32m/usr/lib/python2.7/dist-packages/graph_tool/__init__.pyc\u001b[0m in \u001b[0;36mvertex\u001b[1;34m(self, i, use_index, add_missing)\u001b[0m\n\u001b[0;32m   1457\u001b[0m         \u001b[1;32mif\u001b[0m \u001b[1;32mnot\u001b[0m \u001b[0mv\u001b[0m\u001b[1;33m.\u001b[0m\u001b[0mis_valid\u001b[0m\u001b[1;33m(\u001b[0m\u001b[1;33m)\u001b[0m\u001b[1;33m:\u001b[0m\u001b[1;33m\u001b[0m\u001b[0m\n\u001b[0;32m   1458\u001b[0m             \u001b[1;32mif\u001b[0m \u001b[0madd_missing\u001b[0m\u001b[1;33m:\u001b[0m\u001b[1;33m\u001b[0m\u001b[0m\n\u001b[1;32m-> 1459\u001b[1;33m                 \u001b[0mself\u001b[0m\u001b[1;33m.\u001b[0m\u001b[0madd_vertex\u001b[0m\u001b[1;33m(\u001b[0m\u001b[0mint\u001b[0m\u001b[1;33m(\u001b[0m\u001b[0mi\u001b[0m\u001b[1;33m)\u001b[0m \u001b[1;33m-\u001b[0m \u001b[0mself\u001b[0m\u001b[1;33m.\u001b[0m\u001b[0mnum_vertices\u001b[0m\u001b[1;33m(\u001b[0m\u001b[0muse_index\u001b[0m\u001b[1;33m)\u001b[0m \u001b[1;33m+\u001b[0m \u001b[1;36m1\u001b[0m\u001b[1;33m)\u001b[0m\u001b[1;33m\u001b[0m\u001b[0m\n\u001b[0m\u001b[0;32m   1460\u001b[0m                 \u001b[1;32mreturn\u001b[0m \u001b[0mself\u001b[0m\u001b[1;33m.\u001b[0m\u001b[0mvertex\u001b[0m\u001b[1;33m(\u001b[0m\u001b[0mint\u001b[0m\u001b[1;33m(\u001b[0m\u001b[0mi\u001b[0m\u001b[1;33m)\u001b[0m\u001b[1;33m,\u001b[0m \u001b[0muse_index\u001b[0m\u001b[1;33m)\u001b[0m\u001b[1;33m\u001b[0m\u001b[0m\n\u001b[0;32m   1461\u001b[0m             \u001b[1;32mraise\u001b[0m \u001b[0mValueError\u001b[0m\u001b[1;33m(\u001b[0m\u001b[1;34m\"Invalid vertex index: %d\"\u001b[0m \u001b[1;33m%\u001b[0m \u001b[0mint\u001b[0m\u001b[1;33m(\u001b[0m\u001b[0mi\u001b[0m\u001b[1;33m)\u001b[0m\u001b[1;33m)\u001b[0m\u001b[1;33m\u001b[0m\u001b[0m\n",
      "\u001b[1;32m/usr/lib/python2.7/dist-packages/graph_tool/__init__.pyc\u001b[0m in \u001b[0;36madd_vertex\u001b[1;34m(self, n)\u001b[0m\n\u001b[0;32m   1514\u001b[0m \u001b[1;33m\u001b[0m\u001b[0m\n\u001b[0;32m   1515\u001b[0m         \u001b[0mself\u001b[0m\u001b[1;33m.\u001b[0m\u001b[0m__check_perms\u001b[0m\u001b[1;33m(\u001b[0m\u001b[1;34m\"add_vertex\"\u001b[0m\u001b[1;33m)\u001b[0m\u001b[1;33m\u001b[0m\u001b[0m\n\u001b[1;32m-> 1516\u001b[1;33m         \u001b[0mv\u001b[0m \u001b[1;33m=\u001b[0m \u001b[0mlibcore\u001b[0m\u001b[1;33m.\u001b[0m\u001b[0madd_vertex\u001b[0m\u001b[1;33m(\u001b[0m\u001b[0mweakref\u001b[0m\u001b[1;33m.\u001b[0m\u001b[0mref\u001b[0m\u001b[1;33m(\u001b[0m\u001b[0mself\u001b[0m\u001b[1;33m)\u001b[0m\u001b[1;33m,\u001b[0m \u001b[0mn\u001b[0m\u001b[1;33m)\u001b[0m\u001b[1;33m\u001b[0m\u001b[0m\n\u001b[0m\u001b[0;32m   1517\u001b[0m \u001b[1;33m\u001b[0m\u001b[0m\n\u001b[0;32m   1518\u001b[0m         \u001b[0mvfilt\u001b[0m \u001b[1;33m=\u001b[0m \u001b[0mself\u001b[0m\u001b[1;33m.\u001b[0m\u001b[0mget_vertex_filter\u001b[0m\u001b[1;33m(\u001b[0m\u001b[1;33m)\u001b[0m\u001b[1;33m\u001b[0m\u001b[0m\n",
      "\u001b[1;31mMemoryError\u001b[0m: "
     ]
    }
   ],
   "source": [
    "with open('twitter_edgelist.txt', 'r') as f:\n",
    "    for line in f:\n",
    "        edge_list = line.split()\n",
    "        source, target = tuple(edge_list)\n",
    "        g.add_edge(source, target)"
   ]
  },
  {
   "cell_type": "code",
   "execution_count": null,
   "metadata": {
    "collapsed": true
   },
   "outputs": [],
   "source": [
    "print g.num_vertices()\n",
    "print g.num_edges()"
   ]
  },
  {
   "cell_type": "code",
   "execution_count": 16,
   "metadata": {
    "collapsed": true
   },
   "outputs": [],
   "source": [
    "v = g.add_vertex()\n",
    "vprop_string[v] = 'id'"
   ]
  },
  {
   "cell_type": "code",
   "execution_count": null,
   "metadata": {
    "collapsed": true
   },
   "outputs": [],
   "source": [
    "find_vertex(g, g.vertex_properties[''])"
   ]
  },
  {
   "cell_type": "code",
   "execution_count": 19,
   "metadata": {
    "collapsed": false
   },
   "outputs": [
    {
     "name": "stdout",
     "output_type": "stream",
     "text": [
      "Processing first 1000 batch\n",
      "Processing 1000 batch\n",
      "Processing 2000 batch\n",
      "Processing 3000 batch\n",
      "Processing 4000 batch\n",
      "Processing 5000 batch\n"
     ]
    }
   ],
   "source": [
    "print 'Processing first 1000 batch'\n",
    "for idx, user in enumerate(all_users):\n",
    "    if idx and not idx % 1000:\n",
    "        print 'Processing {} batch'.format(idx)\n",
    "        \n",
    "    u_id = str(user['id_str'])\n",
    "    v = g.add_vertex(1)\n",
    "    \n",
    "    for friend_id in user['friends_ids']:\n",
    "        f_id = str(friend_id)\n",
    "        f = g.add_vertex(1)\n",
    "        g.add_edge(v, f)"
   ]
  },
  {
   "cell_type": "code",
   "execution_count": null,
   "metadata": {
    "collapsed": false
   },
   "outputs": [],
   "source": [
    "graph_draw(g, vertex_text=g.vertex_index, vertex_font_size=12, output_size=(1000, 1000))"
   ]
  },
  {
   "cell_type": "code",
   "execution_count": 9,
   "metadata": {
    "collapsed": false
   },
   "outputs": [
    {
     "name": "stdout",
     "output_type": "stream",
     "text": [
      "10\n"
     ]
    }
   ],
   "source": []
  },
  {
   "cell_type": "code",
   "execution_count": null,
   "metadata": {
    "collapsed": true
   },
   "outputs": [],
   "source": []
  }
 ],
 "metadata": {
  "kernelspec": {
   "display_name": "Python 2",
   "language": "python",
   "name": "python2"
  },
  "language_info": {
   "codemirror_mode": {
    "name": "ipython",
    "version": 2
   },
   "file_extension": ".py",
   "mimetype": "text/x-python",
   "name": "python",
   "nbconvert_exporter": "python",
   "pygments_lexer": "ipython2",
   "version": "2.7.10"
  }
 },
 "nbformat": 4,
 "nbformat_minor": 0
}
