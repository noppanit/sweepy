{
 "cells": [
  {
   "cell_type": "markdown",
   "metadata": {},
   "source": [
    "# Centrality"
   ]
  },
  {
   "cell_type": "markdown",
   "metadata": {},
   "source": [
    "In this section, I'm going to learn how Centrality works and try to interpret the data based on small real dataset. I'm using Facebook DataSet from SNAP https://snap.stanford.edu/data/egonets-Facebook.html. The data is included in this repository for easier access. The data is in EdgeList format (source, target)."
   ]
  },
  {
   "cell_type": "code",
   "execution_count": 19,
   "metadata": {
    "collapsed": true
   },
   "outputs": [],
   "source": [
    "%matplotlib inline\n",
    "import networkx as nx\n",
    "import matplotlib.pyplot as plt\n",
    "import operator\n",
    "import timeit"
   ]
  },
  {
   "cell_type": "code",
   "execution_count": 20,
   "metadata": {
    "collapsed": false
   },
   "outputs": [],
   "source": [
    "g_fb = nx.read_edgelist('facebook_combined.txt', create_using = nx.Graph(), nodetype = int)"
   ]
  },
  {
   "cell_type": "code",
   "execution_count": 21,
   "metadata": {
    "collapsed": false
   },
   "outputs": [
    {
     "name": "stdout",
     "output_type": "stream",
     "text": [
      "Name: \n",
      "Type: Graph\n",
      "Number of nodes: 4039\n",
      "Number of edges: 88234\n",
      "Average degree:  43.6910\n",
      "False\n"
     ]
    }
   ],
   "source": [
    "print nx.info(g_fb)\n",
    "print nx.is_directed(g_fb)"
   ]
  },
  {
   "cell_type": "code",
   "execution_count": 22,
   "metadata": {
    "collapsed": true
   },
   "outputs": [],
   "source": [
    "spring_pos = nx.spring_layout(g_fb)"
   ]
  },
  {
   "cell_type": "code",
   "execution_count": 16,
   "metadata": {
    "collapsed": false
   },
   "outputs": [
    {
     "data": {
      "image/png": "[encoded data removed]",
      "text/plain": [
       "<matplotlib.figure.Figure at 0x7f93a0338510>"
      ]
     },
     "metadata": {},
     "output_type": "display_data"
    }
   ],
   "source": [
    "plt.axis('off')\n",
    "nx.draw_networkx(g_fb, pos = spring_pos, with_lables=False, node_size = 35)"
   ]
  },
  {
   "cell_type": "markdown",
   "metadata": {},
   "source": [
    "Now let's find the celebrities. The most basic centrality is Degree Centrality which is the sum of all in and out nodes (in the case of directed graph). "
   ]
  },
  {
   "cell_type": "code",
   "execution_count": 23,
   "metadata": {
    "collapsed": false
   },
   "outputs": [
    {
     "data": {
      "text/plain": [
       "[(107, 0.258791480931154),\n",
       " (1684, 0.1961367013372957),\n",
       " (1912, 0.18697374938088163),\n",
       " (3437, 0.13546310054482416),\n",
       " (0, 0.08593363051015354),\n",
       " (2543, 0.07280832095096582),\n",
       " (2347, 0.07206537890044576),\n",
       " (1888, 0.0629024269440317),\n",
       " (1800, 0.06067360079247152),\n",
       " (1663, 0.058197127290737984)]"
      ]
     },
     "execution_count": 23,
     "metadata": {},
     "output_type": "execute_result"
    }
   ],
   "source": [
    "dg_centrality = nx.degree_centrality(g_fb)\n",
    "sorted_dg_centrality = sorted(dg_centrality.items(), key=operator.itemgetter(1), reverse=True)\n",
    "sorted_dg_centrality[:10]"
   ]
  },
  {
   "cell_type": "markdown",
   "metadata": {},
   "source": [
    "We can see that the node 107 has the highest degree centrality which means node 107 has the highest number of connected nodes. We can prove this by getting the degree of node 107 to see how many friends of node 107 has"
   ]
  },
  {
   "cell_type": "code",
   "execution_count": 24,
   "metadata": {
    "collapsed": false
   },
   "outputs": [
    {
     "data": {
      "text/plain": [
       "{107: 1045}"
      ]
     },
     "execution_count": 24,
     "metadata": {},
     "output_type": "execute_result"
    }
   ],
   "source": [
    "nx.degree(g_fb, [107])"
   ]
  },
  {
   "cell_type": "markdown",
   "metadata": {},
   "source": [
    "Node 107 has 1045 friends and we can divide that by number of nodes to get the normalized degree centrality"
   ]
  },
  {
   "cell_type": "code",
   "execution_count": 25,
   "metadata": {
    "collapsed": false
   },
   "outputs": [
    {
     "data": {
      "text/plain": [
       "0.25872740777420156"
      ]
     },
     "execution_count": 25,
     "metadata": {},
     "output_type": "execute_result"
    }
   ],
   "source": [
    "float(nx.degree(g_fb, [107]).values()[0]) / g_fb.number_of_nodes()"
   ]
  },
  {
   "cell_type": "markdown",
   "metadata": {},
   "source": [
    "Degree centrality might be the easiest number to calculate but it only shows the number of nodes connected which in real social network it might not be very useful as you might have a million followers but if the majority of them is bots then the number is not telling anything new."
   ]
  },
  {
   "cell_type": "markdown",
   "metadata": {},
   "source": [
    "Now let's try Betweenness which count all of the shortest path going throw each now. This might mean that if you have the highest shortest path going through you, you might be considered as bridge of your entire network.\n",
    "\n",
    "Nodes with high betweenness are important in communication and information diffusion"
   ]
  },
  {
   "cell_type": "markdown",
   "metadata": {},
   "source": [
    "We will be using multiprocessing so we can parallel the computation and distribute the load."
   ]
  },
  {
   "cell_type": "code",
   "execution_count": 26,
   "metadata": {
    "collapsed": true
   },
   "outputs": [],
   "source": [
    "from multiprocessing import Pool  \n",
    "import itertools"
   ]
  },
  {
   "cell_type": "code",
   "execution_count": 27,
   "metadata": {
    "collapsed": true
   },
   "outputs": [],
   "source": [
    "def partitions(nodes, n):\n",
    "    \"Partitions the nodes into n subsets\"\n",
    "    nodes_iter = iter(nodes)\n",
    "    while True:\n",
    "        partition = tuple(itertools.islice(nodes_iter,n))\n",
    "        if not partition:\n",
    "            return\n",
    "        yield partition"
   ]
  },
  {
   "cell_type": "code",
   "execution_count": 28,
   "metadata": {
    "collapsed": true
   },
   "outputs": [],
   "source": [
    "def btwn_pool(G_tuple):\n",
    "    return nx.betweenness_centrality_source(*G_tuple)"
   ]
  },
  {
   "cell_type": "code",
   "execution_count": 29,
   "metadata": {
    "collapsed": false
   },
   "outputs": [],
   "source": [
    "def between_parallel(G, processes = None):\n",
    "    p = Pool(processes=processes)\n",
    "    part_generator = 4*len(p._pool)\n",
    "    node_partitions = list(partitions(G.nodes(), int(len(G)/part_generator)))\n",
    "    num_partitions = len(node_partitions)\n",
    " \n",
    "    bet_map = p.map(btwn_pool,\n",
    "                        zip([G]*num_partitions,\n",
    "                        [True]*num_partitions,\n",
    "                        [None]*num_partitions,\n",
    "                        node_partitions))\n",
    " \n",
    "    bt_c = bet_map[0]\n",
    "    for bt in bet_map[1:]:\n",
    "        for n in bt:\n",
    "            bt_c[n] += bt[n]\n",
    "    return bt_c"
   ]
  },
  {
   "cell_type": "markdown",
   "metadata": {},
   "source": [
    "Let's try with multiprocesser."
   ]
  },
  {
   "cell_type": "code",
   "execution_count": 31,
   "metadata": {
    "collapsed": false
   },
   "outputs": [
    {
     "name": "stdout",
     "output_type": "stream",
     "text": [
      "It takes 124.432162046 seconds to finish\n",
      "[(107, 0.4805180785560148), (1684, 0.3377974497301947), (3437, 0.23611535735892855), (1912, 0.22929533958687467), (1085, 0.14901509211665434), (0, 0.1463059214744287), (698, 0.11533045020561015), (567, 0.09631033121856315), (58, 0.0843602059079655), (428, 0.0643090623932384)]\n"
     ]
    },
    {
     "data": {
      "image/png": "[encoded data removed]",
      "text/plain": [
       "<matplotlib.figure.Figure at 0x7f839f126cd0>"
      ]
     },
     "metadata": {},
     "output_type": "display_data"
    }
   ],
   "source": [
    "start = timeit.default_timer()\n",
    "bt = between_parallel(g_fb)\n",
    "stop = timeit.default_timer()\n",
    "top = 10\n",
    "\n",
    "max_nodes =  sorted(bt.iteritems(), key = lambda v: -v[1])[:top]\n",
    "bt_values = [5]*len(g_fb.nodes())\n",
    "bt_colors = [0]*len(g_fb.nodes())\n",
    "for max_key, max_val in max_nodes:\n",
    "    bt_values[max_key] = 150\n",
    "    bt_colors[max_key] = 2\n",
    " \n",
    "plt.axis(\"off\")\n",
    "nx.draw_networkx(g_fb, pos = spring_pos, cmap = plt.get_cmap(\"rainbow\"), node_color = bt_colors, node_size = bt_values, with_labels = False)\n",
    "\n",
    "print 'It takes {} seconds to finish'.format(stop - start)\n",
    "print max_nodes"
   ]
  },
  {
   "cell_type": "markdown",
   "metadata": {},
   "source": [
    "Now let's try with just one processor"
   ]
  },
  {
   "cell_type": "code",
   "execution_count": 32,
   "metadata": {
    "collapsed": false
   },
   "outputs": [
    {
     "name": "stdout",
     "output_type": "stream",
     "text": [
      "It takes 229.852290154 seconds to finish\n",
      "[(107, 0.48051807855601475), (1684, 0.3377974497302), (3437, 0.23611535735892797), (1912, 0.2292953395868785), (1085, 0.14901509211665198), (0, 0.14630592147442847), (698, 0.11533045020560787), (567, 0.09631033121856226), (58, 0.08436020590796657), (428, 0.0643090623932386)]\n"
     ]
    },
    {
     "data": {
      "image/png": "[encoded data removed]",
      "text/plain": [
       "<matplotlib.figure.Figure at 0x7f83c0154dd0>"
      ]
     },
     "metadata": {},
     "output_type": "display_data"
    }
   ],
   "source": [
    "start = timeit.default_timer()\n",
    "bt = nx.betweenness_centrality(g_fb)\n",
    "stop = timeit.default_timer()\n",
    "top = 10\n",
    "\n",
    "max_nodes =  sorted(bt.iteritems(), key = lambda v: -v[1])[:top]\n",
    "bt_values = [5]*len(g_fb.nodes())\n",
    "bt_colors = [0]*len(g_fb.nodes())\n",
    "for max_key, max_val in max_nodes:\n",
    "    bt_values[max_key] = 150\n",
    "    bt_colors[max_key] = 2\n",
    " \n",
    "plt.axis(\"off\")\n",
    "nx.draw_networkx(g_fb, pos = spring_pos, cmap = plt.get_cmap(\"rainbow\"), node_color = bt_colors, node_size = bt_values, with_labels = False)\n",
    "\n",
    "print 'It takes {} seconds to finish'.format(stop - start)\n",
    "print max_nodes"
   ]
  },
  {
   "cell_type": "markdown",
   "metadata": {},
   "source": [
    "We would like to try Closenese Centrality. The number shows how close are you to the entire network. It's very similar to Betweenness Centrality"
   ]
  },
  {
   "cell_type": "code",
   "execution_count": 42,
   "metadata": {
    "collapsed": false
   },
   "outputs": [
    {
     "name": "stdout",
     "output_type": "stream",
     "text": [
      "It takes 93.5353550911 seconds to finish\n",
      "[(107, 0.45969945355191255), (58, 0.3974018305284913), (428, 0.3948371956585509), (563, 0.3939127889961955), (1684, 0.39360561458231796), (171, 0.37049270575282134), (348, 0.36991572004397216), (483, 0.3698479575013739), (414, 0.3695433330282786), (376, 0.36655773420479304)]\n"
     ]
    }
   ],
   "source": [
    "start = timeit.default_timer()\n",
    "cs = nx.closeness_centrality (g_fb)\n",
    "stop = timeit.default_timer()\n",
    "top = 10\n",
    "\n",
    "max_cn_nodes =  sorted(cs.iteritems(), key = lambda v: -v[1])[:top]\n",
    "print 'It takes {} seconds to finish'.format(stop - start)\n",
    "print max_cn_nodes"
   ]
  },
  {
   "cell_type": "markdown",
   "metadata": {},
   "source": [
    "#Page rank"
   ]
  },
  {
   "cell_type": "markdown",
   "metadata": {},
   "source": [
    "We're going to try PageRank algorithm. This is very similar to Google's PageRank which they use incoming links to determine the \"popularity\""
   ]
  },
  {
   "cell_type": "code",
   "execution_count": 33,
   "metadata": {
    "collapsed": false
   },
   "outputs": [],
   "source": [
    "g_fb_pr = nx.pagerank(g_fb)"
   ]
  },
  {
   "cell_type": "code",
   "execution_count": 34,
   "metadata": {
    "collapsed": false
   },
   "outputs": [
    {
     "data": {
      "text/plain": [
       "[(3437, 0.007614586844749602),\n",
       " (107, 0.006936420955866113),\n",
       " (1684, 0.006367162138306825),\n",
       " (0, 0.006289602618466542),\n",
       " (1912, 0.0038769716008844957),\n",
       " (348, 0.002348096972780577),\n",
       " (686, 0.0022193592598000193),\n",
       " (3980, 0.0021703235790099928),\n",
       " (414, 0.0018002990470702264),\n",
       " (698, 0.0013171153138368812)]"
      ]
     },
     "execution_count": 34,
     "metadata": {},
     "output_type": "execute_result"
    }
   ],
   "source": [
    "top = 10\n",
    "max_pagerank = sorted(g_fb_pr.iteritems(), key = lambda v: -v[1])[:top]\n",
    "max_pagerank"
   ]
  },
  {
   "cell_type": "markdown",
   "metadata": {},
   "source": [
    "We can see that now the score is different as node 3437 is more popular than node 107."
   ]
  },
  {
   "cell_type": "markdown",
   "metadata": {},
   "source": [
    "# Who is a \"Gray Cardinal\"\n",
    "There's another metric that we can measure most influential node. It's called eigenvector centrality. To put it simply it means that if you're well connected to a lot of important people that means you're important or most influential as well. "
   ]
  },
  {
   "cell_type": "code",
   "execution_count": 35,
   "metadata": {
    "collapsed": true
   },
   "outputs": [],
   "source": [
    "g_fb_eg = nx.eigenvector_centrality(g_fb)"
   ]
  },
  {
   "cell_type": "code",
   "execution_count": 36,
   "metadata": {
    "collapsed": false
   },
   "outputs": [
    {
     "data": {
      "text/plain": [
       "[(1912, 0.09540688873596533),\n",
       " (2266, 0.08698328226321961),\n",
       " (2206, 0.08605240174265634),\n",
       " (2233, 0.08517341350597848),\n",
       " (2464, 0.0842787836468596),\n",
       " (2142, 0.08419312450068117),\n",
       " (2218, 0.08415574433673877),\n",
       " (2078, 0.08413617905810125),\n",
       " (2123, 0.08367142125897375),\n",
       " (1993, 0.08353243711860492)]"
      ]
     },
     "execution_count": 36,
     "metadata": {},
     "output_type": "execute_result"
    }
   ],
   "source": [
    "top = 10\n",
    "max_eg = sorted(g_fb_eg.iteritems(), key = lambda v: -v[1])[:top]\n",
    "max_eg"
   ]
  },
  {
   "cell_type": "markdown",
   "metadata": {},
   "source": [
    "Now we get quite a different result. This would mean that node 1912 is connected to more important people in the entire network that means that node is more influential than the rest of the network."
   ]
  },
  {
   "cell_type": "markdown",
   "metadata": {},
   "source": [
    "# iGraph with SNAP Facebook Dataset\n",
    "Networkx is easy to install and great to start with. However, as it's written in Python it's quite slow. I'm going to try iGraph which is C based. I'm hoping that this would yield the same result but faster."
   ]
  },
  {
   "cell_type": "code",
   "execution_count": 37,
   "metadata": {
    "collapsed": true
   },
   "outputs": [],
   "source": [
    "from igraph import *"
   ]
  },
  {
   "cell_type": "code",
   "execution_count": 38,
   "metadata": {
    "collapsed": true
   },
   "outputs": [],
   "source": [
    "igraph_fb = Graph.Read_Edgelist('facebook_combined.txt', directed=False)"
   ]
  },
  {
   "cell_type": "code",
   "execution_count": 39,
   "metadata": {
    "collapsed": false
   },
   "outputs": [
    {
     "name": "stdout",
     "output_type": "stream",
     "text": [
      "IGRAPH U--- 4039 88234 -- \n"
     ]
    }
   ],
   "source": [
    "print igraph_fb.summary()"
   ]
  },
  {
   "cell_type": "markdown",
   "metadata": {},
   "source": [
    "##Betweenness"
   ]
  },
  {
   "cell_type": "code",
   "execution_count": 40,
   "metadata": {
    "collapsed": true
   },
   "outputs": [],
   "source": [
    "def betweenness_centralization(G):\n",
    "    vnum = G.vcount()\n",
    "    if vnum < 3:\n",
    "        raise ValueError(\"graph must have at least three vertices\")\n",
    "    denom = (vnum-1)*(vnum-2)\n",
    " \n",
    "    temparr = [2*i/denom for i in G.betweenness()]\n",
    "    return temparr"
   ]
  },
  {
   "cell_type": "code",
   "execution_count": 41,
   "metadata": {
    "collapsed": false
   },
   "outputs": [
    {
     "name": "stdout",
     "output_type": "stream",
     "text": [
      "It takes 5.89585280418 seconds to finish\n"
     ]
    }
   ],
   "source": [
    "start = timeit.default_timer()\n",
    "igraph_betweenness = betweenness_centralization(igraph_fb)\n",
    "stop = timeit.default_timer()\n",
    "print 'It takes {} seconds to finish'.format(stop - start)"
   ]
  },
  {
   "cell_type": "code",
   "execution_count": 55,
   "metadata": {
    "collapsed": false
   },
   "outputs": [
    {
     "name": "stdout",
     "output_type": "stream",
     "text": [
      "[0.4805180785560146, 0.3377974497302, 0.23611535735892794, 0.22929533958687848, 0.14901509211665237, 0.14630592147442847, 0.11533045020560788, 0.09631033121856228, 0.08436020590796657, 0.0643090623932386]\n"
     ]
    }
   ],
   "source": [
    "igraph_betweenness.sort(reverse=True)\n",
    "print igraph_betweenness[:10]"
   ]
  },
  {
   "cell_type": "markdown",
   "metadata": {},
   "source": [
    "##Closeness"
   ]
  },
  {
   "cell_type": "code",
   "execution_count": 56,
   "metadata": {
    "collapsed": false
   },
   "outputs": [
    {
     "name": "stdout",
     "output_type": "stream",
     "text": [
      "It takes 6.03449511528 seconds to finish\n",
      "[0.45969945355191255, 0.3974018305284913, 0.3948371956585509, 0.3939127889961955, 0.39360561458231796, 0.37049270575282134, 0.36991572004397216, 0.3698479575013739, 0.3695433330282786, 0.36655773420479304]\n"
     ]
    }
   ],
   "source": [
    "start = timeit.default_timer()\n",
    "igraph_closeness = igraph_fb.closeness()\n",
    "stop = timeit.default_timer()\n",
    "print 'It takes {} seconds to finish'.format(stop - start)"
   ]
  },
  {
   "cell_type": "code",
   "execution_count": 59,
   "metadata": {
    "collapsed": false
   },
   "outputs": [
    {
     "name": "stdout",
     "output_type": "stream",
     "text": [
      "[0.45969945355191255, 0.3974018305284913, 0.3948371956585509, 0.3939127889961955, 0.39360561458231796, 0.37049270575282134, 0.36991572004397216, 0.3698479575013739, 0.3695433330282786, 0.36655773420479304]\n"
     ]
    }
   ],
   "source": [
    "igraph_closeness.sort(reverse=True)\n",
    "print igraph_closeness[:10]"
   ]
  },
  {
   "cell_type": "markdown",
   "metadata": {},
   "source": [
    "## EigenValue"
   ]
  },
  {
   "cell_type": "code",
   "execution_count": 63,
   "metadata": {
    "collapsed": false
   },
   "outputs": [
    {
     "name": "stdout",
     "output_type": "stream",
     "text": [
      "It takes 0.0605199337006 seconds to finish\n"
     ]
    }
   ],
   "source": [
    "start = timeit.default_timer()\n",
    "igraph_eg = igraph_fb.evcent()\n",
    "stop = timeit.default_timer()\n",
    "print 'It takes {} seconds to finish'.format(stop - start)"
   ]
  },
  {
   "cell_type": "code",
   "execution_count": 64,
   "metadata": {
    "collapsed": false
   },
   "outputs": [
    {
     "name": "stdout",
     "output_type": "stream",
     "text": [
      "[1.0, 0.9117190175727692, 0.9019626322184224, 0.8927488203018574, 0.8833723691600276, 0.8824740496738565, 0.8820826938160453, 0.8818776189568697, 0.8770062766705495, 0.8755494858467853]\n"
     ]
    }
   ],
   "source": [
    "igraph_eg.sort(reverse=True)\n",
    "print igraph_eg[:10]"
   ]
  },
  {
   "cell_type": "markdown",
   "metadata": {},
   "source": [
    "## PageRank"
   ]
  },
  {
   "cell_type": "code",
   "execution_count": 65,
   "metadata": {
    "collapsed": false
   },
   "outputs": [
    {
     "name": "stdout",
     "output_type": "stream",
     "text": [
      "It takes 0.0709159374237 seconds to finish\n"
     ]
    }
   ],
   "source": [
    "start = timeit.default_timer()\n",
    "igraph_pr = igraph_fb.pagerank()\n",
    "stop = timeit.default_timer()\n",
    "print 'It takes {} seconds to finish'.format(stop - start)"
   ]
  },
  {
   "cell_type": "code",
   "execution_count": 66,
   "metadata": {
    "collapsed": false
   },
   "outputs": [
    {
     "name": "stdout",
     "output_type": "stream",
     "text": [
      "[0.0075745665246258935, 0.006888375869731625, 0.0063084887921967805, 0.0062246948047383005, 0.0038165503710367713, 0.002317366308283276, 0.002216791818397391, 0.002156551114912813, 0.0017822888082657136, 0.00129416751155367]\n"
     ]
    }
   ],
   "source": [
    "igraph_pr.sort(reverse=True)\n",
    "print igraph_pr[:10]"
   ]
  },
  {
   "cell_type": "markdown",
   "metadata": {},
   "source": [
    "We can see that iGraph yields similar result from networkx but it's a lot quicker in the same machine."
   ]
  },
  {
   "cell_type": "markdown",
   "metadata": {},
   "source": [
    "# Graph_tool with SNAP Facebook Dataset\n",
    "I'm going to try another library which is supposed to be the fastest than networkx and igraph. Graph_tool is also C based which it has OpenMP enabled so a lot of algorithms is multiprocessing. "
   ]
  },
  {
   "cell_type": "code",
   "execution_count": 67,
   "metadata": {
    "collapsed": true
   },
   "outputs": [],
   "source": [
    "import sys\n",
    "sys.path.append('/usr/lib/python2.7/dist-packages')\n",
    "\n",
    "from graph_tool.all import *\n",
    "import timeit"
   ]
  },
  {
   "cell_type": "code",
   "execution_count": 68,
   "metadata": {
    "collapsed": false
   },
   "outputs": [
    {
     "name": "stdout",
     "output_type": "stream",
     "text": [
      "version: 2.2.44 (commit 178add3a, Thu Jul 2 01:44:54 2015 +0200)\n",
      "gcc version: 4.8.2\n",
      "compilation flags: -D_FORTIFY_SOURCE=2 -I/usr/include/python2.7 -I/usr/include -I/usr/lib/python2.7/dist-packages/numpy/core/include -I/usr/lib/python2.7/dist-packages/scipy -I/usr/include -DSPARSEHASH_PREFIX=google -Wall -Wextra -ftemplate-backtrace-limit=0 -O3 -DNDEBUG -std=gnu++11 -ftemplate-depth-250 -Wno-deprecated -Wno-unknown-pragmas -O3 -fvisibility=default -fvisibility-inlines-hidden -fopenmp -I/usr/include -DSPARSEHASH_PREFIX=google -Wl,-Bsymbolic-functions -Wl,-z,relro -L/usr/lib -lpython2.7\n",
      "install prefix: /usr\n",
      "python dir: /usr/lib/python2.7/dist-packages\n",
      "graph filtering: True\n",
      "openmp: True\n",
      "uname: Linux ip-172-31-45-186 3.13.0-48-generic #80-Ubuntu SMP Thu Mar 12 11:16:15 UTC 2015 x86_64\n"
     ]
    }
   ],
   "source": [
    "show_config()"
   ]
  },
  {
   "cell_type": "code",
   "execution_count": 69,
   "metadata": {
    "collapsed": true
   },
   "outputs": [],
   "source": [
    "graph_tool_fb = Graph(directed=False)"
   ]
  },
  {
   "cell_type": "code",
   "execution_count": 70,
   "metadata": {
    "collapsed": false
   },
   "outputs": [],
   "source": [
    "edges = []\n",
    "with open('facebook_combined.txt', 'r') as f:\n",
    "    for line in f:\n",
    "        edge_list = line.split()\n",
    "        source, target = tuple(edge_list)\n",
    "        graph_tool_fb.add_edge(source, target)"
   ]
  },
  {
   "cell_type": "code",
   "execution_count": 71,
   "metadata": {
    "collapsed": false
   },
   "outputs": [
    {
     "name": "stdout",
     "output_type": "stream",
     "text": [
      "4039\n",
      "88234\n"
     ]
    }
   ],
   "source": [
    "print graph_tool_fb.num_vertices()\n",
    "print graph_tool_fb.num_edges()"
   ]
  },
  {
   "cell_type": "markdown",
   "metadata": {},
   "source": [
    "## Betweeness"
   ]
  },
  {
   "cell_type": "code",
   "execution_count": 74,
   "metadata": {
    "collapsed": false
   },
   "outputs": [
    {
     "name": "stdout",
     "output_type": "stream",
     "text": [
      "It takes 7.47633004189 seconds to finish\n"
     ]
    }
   ],
   "source": [
    "start = timeit.default_timer()\n",
    "vertext_betweenness, edge_betweenness = betweenness(graph_tool_fb)\n",
    "stop = timeit.default_timer()\n",
    "print 'It takes {} seconds to finish'.format(stop - start)"
   ]
  },
  {
   "cell_type": "code",
   "execution_count": 75,
   "metadata": {
    "collapsed": false
   },
   "outputs": [
    {
     "data": {
      "text/plain": [
       "0.48051807855601453"
      ]
     },
     "execution_count": 75,
     "metadata": {},
     "output_type": "execute_result"
    }
   ],
   "source": [
    "vertext_betweenness.a[107]"
   ]
  },
  {
   "cell_type": "markdown",
   "metadata": {},
   "source": [
    "## Closeness"
   ]
  },
  {
   "cell_type": "code",
   "execution_count": 77,
   "metadata": {
    "collapsed": false
   },
   "outputs": [
    {
     "name": "stdout",
     "output_type": "stream",
     "text": [
      "It takes 7.69668292999 seconds to finish\n"
     ]
    }
   ],
   "source": [
    "start = timeit.default_timer()\n",
    "v_closeness = closeness(graph_tool_fb)\n",
    "stop = timeit.default_timer()\n",
    "print 'It takes {} seconds to finish'.format(stop - start)"
   ]
  },
  {
   "cell_type": "code",
   "execution_count": 78,
   "metadata": {
    "collapsed": false
   },
   "outputs": [
    {
     "data": {
      "text/plain": [
       "0.45969945355191255"
      ]
     },
     "execution_count": 78,
     "metadata": {},
     "output_type": "execute_result"
    }
   ],
   "source": [
    "v_closeness.a[107]"
   ]
  },
  {
   "cell_type": "markdown",
   "metadata": {},
   "source": [
    "## Eigenvalue"
   ]
  },
  {
   "cell_type": "code",
   "execution_count": 79,
   "metadata": {
    "collapsed": false
   },
   "outputs": [
    {
     "name": "stdout",
     "output_type": "stream",
     "text": [
      "It takes 0.0300698280334 seconds to finish\n"
     ]
    }
   ],
   "source": [
    "start = timeit.default_timer()\n",
    "v_closeness = eigenvector(graph_tool_fb)\n",
    "stop = timeit.default_timer()\n",
    "print 'It takes {} seconds to finish'.format(stop - start)"
   ]
  },
  {
   "cell_type": "markdown",
   "metadata": {},
   "source": [
    "## Page Rank"
   ]
  },
  {
   "cell_type": "code",
   "execution_count": 80,
   "metadata": {
    "collapsed": false
   },
   "outputs": [
    {
     "name": "stdout",
     "output_type": "stream",
     "text": [
      "It takes 0.0744159221649 seconds to finish\n"
     ]
    }
   ],
   "source": [
    "start = timeit.default_timer()\n",
    "v_closeness = pagerank(graph_tool_fb)\n",
    "stop = timeit.default_timer()\n",
    "print 'It takes {} seconds to finish'.format(stop - start)"
   ]
  },
  {
   "cell_type": "markdown",
   "metadata": {},
   "source": [
    "#Conclusion\n",
    "\n",
    "Both igraph and graph_tool yield similar performance. So, for the real data I'm going to use graph_tool as the documentation is more comprehensive."
   ]
  },
  {
   "cell_type": "markdown",
   "metadata": {},
   "source": [
    "# Real data\n",
    "The data we collect from Twitter Streaming API is stored in Mongodb."
   ]
  },
  {
   "cell_type": "code",
   "execution_count": 81,
   "metadata": {
    "collapsed": true
   },
   "outputs": [],
   "source": [
    "%matplotlib inline\n",
    "import pymongo\n",
    "import networkx as nx\n",
    "import time\n",
    "import itertools\n",
    "import operator\n",
    "\n",
    "from multiprocessing import Pool\n",
    "from pymongo import MongoClient\n",
    "\n",
    "from sweepy.get_config import get_config\n",
    "\n",
    "config = get_config()\n",
    "\n",
    "MONGO_URL = config.get('MONGO_URL')\n",
    "MONGO_PORT = config.get('MONGO_PORT')\n",
    "MONGO_USERNAME = config.get('MONGO_USERNAME')\n",
    "MONGO_PASSWORD = config.get('MONGO_PASSWORD')\n",
    "MONGO_DATABASE = config.get('MONGO_DATABASE')\n",
    "\n",
    "client = MongoClient(MONGO_URL, int(MONGO_PORT))\n",
    "\n",
    "db = client[MONGO_DATABASE]\n",
    "db.authenticate(MONGO_USERNAME, MONGO_PASSWORD)\n",
    "\n",
    "users = db.users\n",
    "raw_tweets = db.raw_tweets"
   ]
  },
  {
   "cell_type": "markdown",
   "metadata": {},
   "source": [
    "Let's do some data exploration first."
   ]
  },
  {
   "cell_type": "markdown",
   "metadata": {},
   "source": [
    "## Who retweet the most in Fusion network"
   ]
  },
  {
   "cell_type": "code",
   "execution_count": 88,
   "metadata": {
    "collapsed": false
   },
   "outputs": [],
   "source": [
    "most_retweets = raw_tweets.aggregate([\n",
    "    { '$group' : { '_id': '$user.id_str', 'count' : { '$sum' : 1 } } },\n",
    "    { '$match' : { 'count' : { '$gte' : 1 } } },\n",
    "    { '$sort' : { 'count' : -1 } },\n",
    "    { '$limit' : 10}\n",
    "])"
   ]
  },
  {
   "cell_type": "code",
   "execution_count": 91,
   "metadata": {
    "collapsed": false
   },
   "outputs": [
    {
     "name": "stdout",
     "output_type": "stream",
     "text": [
      "{u'count': 1420, u'_id': u'121817564'}\n",
      "{u'count': 421, u'_id': u'3106528812'}\n",
      "{u'count': 247, u'_id': u'220038215'}\n",
      "{u'count': 100, u'_id': u'3152407786'}\n",
      "{u'count': 76, u'_id': u'7154912'}\n",
      "{u'count': 59, u'_id': u'151938942'}\n",
      "{u'count': 52, u'_id': u'34294546'}\n",
      "{u'count': 47, u'_id': u'3152728781'}\n",
      "{u'count': 45, u'_id': u'789920724'}\n",
      "{u'count': 40, u'_id': u'200249089'}\n"
     ]
    }
   ],
   "source": [
    "for most_retweet in most_retweets:\n",
    "    print most_retweet"
   ]
  },
  {
   "cell_type": "code",
   "execution_count": null,
   "metadata": {
    "collapsed": true
   },
   "outputs": [],
   "source": [
    "all_users = users.find({}, { 'id' : 1, 'friends_ids' : 1}).batch_size(50)"
   ]
  },
  {
   "cell_type": "markdown",
   "metadata": {},
   "source": [
    "We are going to convert the data to edgelist so it's easier to import to various different tools"
   ]
  },
  {
   "cell_type": "code",
   "execution_count": 8,
   "metadata": {
    "collapsed": false
   },
   "outputs": [],
   "source": [
    "with open('twitter_edgelist.txt', 'w') as f:\n",
    "    for user in all_users:\n",
    "        u_id = str(abs(user['id']))\n",
    "        for friend_id in user['friends_ids']:\n",
    "            f_id = str(abs(friend_id))\n",
    "            f.write('{} {}\\n'.format(u_id, f_id))"
   ]
  },
  {
   "cell_type": "code",
   "execution_count": null,
   "metadata": {
    "collapsed": true
   },
   "outputs": [],
   "source": [
    "twitter_networkx = nx.read_edgelist('twitter_edgelist.txt', create_using = nx.Graph(), nodetype = int)"
   ]
  },
  {
   "cell_type": "code",
   "execution_count": 15,
   "metadata": {
    "collapsed": false
   },
   "outputs": [
    {
     "name": "stdout",
     "output_type": "stream",
     "text": [
      "Name: \n",
      "Type: Graph\n",
      "Number of nodes: 2857190\n",
      "Number of edges: 6721557\n",
      "Average degree:   4.7050\n"
     ]
    }
   ],
   "source": [
    "print nx.info(twitter_networkx)"
   ]
  },
  {
   "cell_type": "code",
   "execution_count": 4,
   "metadata": {
    "collapsed": false
   },
   "outputs": [
    {
     "name": "stdout",
     "output_type": "stream",
     "text": [
      "Name: \n",
      "Type: DiGraph\n",
      "Number of nodes: 2432155\n",
      "Number of edges: 5278690\n",
      "Average in degree:   2.1704\n",
      "Average out degree:   2.1704\n"
     ]
    }
   ],
   "source": [
    "print nx.info(graph)"
   ]
  },
  {
   "cell_type": "code",
   "execution_count": 4,
   "metadata": {
    "collapsed": false
   },
   "outputs": [],
   "source": [
    "eigen_values = nx.eigenvector_centrality(graph)"
   ]
  },
  {
   "cell_type": "code",
   "execution_count": 10,
   "metadata": {
    "collapsed": false
   },
   "outputs": [
    {
     "data": {
      "text/plain": [
       "[('121817564', 0.09428345177961117),\n",
       " ('11107172', 0.07497270265786563),\n",
       " ('807095', 0.06812954689012012),\n",
       " ('216695058', 0.06667872003411948),\n",
       " ('20861943', 0.06605647185989534),\n",
       " ('58524428', 0.06489206418816294),\n",
       " ('16104258', 0.06282196653973698),\n",
       " ('18816166', 0.06144353212620821),\n",
       " ('436873679', 0.05926741271555719),\n",
       " ('14677919', 0.0592280032725243)]"
      ]
     },
     "execution_count": 10,
     "metadata": {},
     "output_type": "execute_result"
    }
   ],
   "source": [
    "sorted_eigen_values = sorted(eigen_values.items(), key=operator.itemgetter(1), reverse=True)\n",
    "sorted_eigen_values[:10]"
   ]
  },
  {
   "cell_type": "code",
   "execution_count": null,
   "metadata": {
    "collapsed": false
   },
   "outputs": [],
   "source": [
    "closeness_values = nx.closeness_centrality(graph)"
   ]
  },
  {
   "cell_type": "code",
   "execution_count": null,
   "metadata": {
    "collapsed": true
   },
   "outputs": [],
   "source": [
    "sorted_closeness_values = sorted(closeness_values.items(), key=operator.itemgetter(1), reverse=True)\n",
    "sorted_closeness_values[:10]"
   ]
  },
  {
   "cell_type": "markdown",
   "metadata": {},
   "source": [
    "#iGraph"
   ]
  },
  {
   "cell_type": "code",
   "execution_count": 11,
   "metadata": {
    "collapsed": false
   },
   "outputs": [],
   "source": [
    "from igraph import *"
   ]
  },
  {
   "cell_type": "code",
   "execution_count": 12,
   "metadata": {
    "collapsed": false
   },
   "outputs": [],
   "source": [
    "twitter_igraph = Graph.Read_Ncol('twitter_edgelist.txt', directed=True)"
   ]
  },
  {
   "cell_type": "code",
   "execution_count": 14,
   "metadata": {
    "collapsed": false
   },
   "outputs": [
    {
     "name": "stdout",
     "output_type": "stream",
     "text": [
      "IGRAPH DN-- 2869228 6764984 -- \n",
      "+ attr: name (v)\n"
     ]
    }
   ],
   "source": [
    "print twitter_igraph.summary()"
   ]
  },
  {
   "cell_type": "code",
   "execution_count": 16,
   "metadata": {
    "collapsed": false
   },
   "outputs": [
    {
     "data": {
      "text/plain": [
       "1907"
      ]
     },
     "execution_count": 16,
     "metadata": {},
     "output_type": "execute_result"
    }
   ],
   "source": [
    "thisisfusion = twitter_igraph.vs.find(name='121817564')\n",
    "thisisfusion.degree(type=\"out\")"
   ]
  },
  {
   "cell_type": "code",
   "execution_count": 18,
   "metadata": {
    "collapsed": false
   },
   "outputs": [
    {
     "ename": "KeyboardInterrupt",
     "evalue": "",
     "output_type": "error",
     "traceback": [
      "\u001b[1;31m---------------------------------------------------------------------------\u001b[0m",
      "\u001b[1;31mKeyboardInterrupt\u001b[0m                         Traceback (most recent call last)",
      "\u001b[1;32m<ipython-input-18-f64f380bfb07>\u001b[0m in \u001b[0;36m<module>\u001b[1;34m()\u001b[0m\n\u001b[1;32m----> 1\u001b[1;33m \u001b[0mtwitter_igraph\u001b[0m\u001b[1;33m.\u001b[0m\u001b[0mbetweenness\u001b[0m\u001b[1;33m(\u001b[0m\u001b[0mcutoff\u001b[0m\u001b[1;33m=\u001b[0m\u001b[1;36m5000\u001b[0m\u001b[1;33m)\u001b[0m\u001b[1;33m\u001b[0m\u001b[0m\n\u001b[0m",
      "\u001b[1;31mKeyboardInterrupt\u001b[0m: "
     ]
    }
   ],
   "source": [
    "twitter_igraph.betweenness(cutoff=5000)"
   ]
  },
  {
   "cell_type": "markdown",
   "metadata": {
    "collapsed": true
   },
   "source": [
    "# Graph tool"
   ]
  },
  {
   "cell_type": "code",
   "execution_count": 3,
   "metadata": {
    "collapsed": false
   },
   "outputs": [],
   "source": [
    "import sys\n",
    "import os\n",
    "sys.path.append('/usr/lib/python2.7/dist-packages')\n",
    "\n",
    "from graph_tool.all import *"
   ]
  },
  {
   "cell_type": "code",
   "execution_count": 18,
   "metadata": {
    "collapsed": false
   },
   "outputs": [],
   "source": [
    "g = Graph()\n",
    "all_users = users.find({}, { 'id_str' : 1, 'friends_ids' : 1}).batch_size(50)\n",
    "vprop_string = g.new_vertex_property('string')"
   ]
  },
  {
   "cell_type": "code",
   "execution_count": 16,
   "metadata": {
    "collapsed": true
   },
   "outputs": [],
   "source": [
    "v = g.add_vertex()\n",
    "vprop_string[v] = 'id'"
   ]
  },
  {
   "cell_type": "code",
   "execution_count": null,
   "metadata": {
    "collapsed": true
   },
   "outputs": [],
   "source": [
    "find_vertex(g, g.vertex_properties[''])"
   ]
  },
  {
   "cell_type": "code",
   "execution_count": 19,
   "metadata": {
    "collapsed": false
   },
   "outputs": [
    {
     "name": "stdout",
     "output_type": "stream",
     "text": [
      "Processing first 1000 batch\n",
      "Processing 1000 batch\n",
      "Processing 2000 batch\n",
      "Processing 3000 batch\n",
      "Processing 4000 batch\n",
      "Processing 5000 batch\n"
     ]
    }
   ],
   "source": [
    "print 'Processing first 1000 batch'\n",
    "for idx, user in enumerate(all_users):\n",
    "    if idx and not idx % 1000:\n",
    "        print 'Processing {} batch'.format(idx)\n",
    "        \n",
    "    u_id = str(user['id_str'])\n",
    "    v = g.add_vertex(1)\n",
    "    \n",
    "    for friend_id in user['friends_ids']:\n",
    "        f_id = str(friend_id)\n",
    "        f = g.add_vertex(1)\n",
    "        g.add_edge(v, f)"
   ]
  },
  {
   "cell_type": "code",
   "execution_count": null,
   "metadata": {
    "collapsed": false
   },
   "outputs": [],
   "source": [
    "graph_draw(g, vertex_text=g.vertex_index, vertex_font_size=12, output_size=(1000, 1000))"
   ]
  },
  {
   "cell_type": "code",
   "execution_count": 9,
   "metadata": {
    "collapsed": false
   },
   "outputs": [
    {
     "name": "stdout",
     "output_type": "stream",
     "text": [
      "10\n"
     ]
    }
   ],
   "source": []
  },
  {
   "cell_type": "code",
   "execution_count": null,
   "metadata": {
    "collapsed": true
   },
   "outputs": [],
   "source": []
  }
 ],
 "metadata": {
  "kernelspec": {
   "display_name": "Python 2",
   "language": "python",
   "name": "python2"
  },
  "language_info": {
   "codemirror_mode": {
    "name": "ipython",
    "version": 2
   },
   "file_extension": ".py",
   "mimetype": "text/x-python",
   "name": "python",
   "nbconvert_exporter": "python",
   "pygments_lexer": "ipython2",
   "version": "2.7.10"
  }
 },
 "nbformat": 4,
 "nbformat_minor": 0
}
