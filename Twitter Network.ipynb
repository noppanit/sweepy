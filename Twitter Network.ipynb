{
 "cells": [
  {
   "cell_type": "markdown",
   "metadata": {},
   "source": [
    "# Centrality"
   ]
  },
  {
   "cell_type": "markdown",
   "metadata": {},
   "source": [
    "In this section, I'm going to learn how Centrality works and try to interpret the data based on small real dataset. I'm using Facebook DataSet from SNAP https://snap.stanford.edu/data/egonets-Facebook.html. The data is included in this repository for easier access. The data is in EdgeList format (source, target)."
   ]
  },
  {
   "cell_type": "code",
   "execution_count": 19,
   "metadata": {
    "collapsed": true
   },
   "outputs": [],
   "source": [
    "%matplotlib inline\n",
    "import networkx as nx\n",
    "import matplotlib.pyplot as plt\n",
    "import operator\n",
    "import timeit"
   ]
  },
  {
   "cell_type": "code",
   "execution_count": 20,
   "metadata": {
    "collapsed": false
   },
   "outputs": [],
   "source": [
    "g_fb = nx.read_edgelist('facebook_combined.txt', create_using = nx.Graph(), nodetype = int)"
   ]
  },
  {
   "cell_type": "code",
   "execution_count": 21,
   "metadata": {
    "collapsed": false
   },
   "outputs": [
    {
     "name": "stdout",
     "output_type": "stream",
     "text": [
      "Name: \n",
      "Type: Graph\n",
      "Number of nodes: 4039\n",
      "Number of edges: 88234\n",
      "Average degree:  43.6910\n",
      "False\n"
     ]
    }
   ],
   "source": [
    "print nx.info(g_fb)\n",
    "print nx.is_directed(g_fb)"
   ]
  },
  {
   "cell_type": "code",
   "execution_count": 22,
   "metadata": {
    "collapsed": true
   },
   "outputs": [],
   "source": [
    "spring_pos = nx.spring_layout(g_fb)"
   ]
  },
  {
   "cell_type": "code",
   "execution_count": 16,
   "metadata": {
    "collapsed": false
   },
   "outputs": [
    {
     "data": {
      "image/png": "[encoded data removed]",
      "text/plain": [
       "<matplotlib.figure.Figure at 0x7f93a0338510>"
      ]
     },
     "metadata": {},
     "output_type": "display_data"
    }
   ],
   "source": [
    "plt.axis('off')\n",
    "nx.draw_networkx(g_fb, pos = spring_pos, with_lables=False, node_size = 35)"
   ]
  },
  {
   "cell_type": "markdown",
   "metadata": {},
   "source": [
    "Now let's find the celebrities. The most basic centrality is Degree Centrality which is the sum of all in and out nodes (in the case of directed graph). "
   ]
  },
  {
   "cell_type": "code",
   "execution_count": 23,
   "metadata": {
    "collapsed": false
   },
   "outputs": [
    {
     "data": {
      "text/plain": [
       "[(107, 0.258791480931154),\n",
       " (1684, 0.1961367013372957),\n",
       " (1912, 0.18697374938088163),\n",
       " (3437, 0.13546310054482416),\n",
       " (0, 0.08593363051015354),\n",
       " (2543, 0.07280832095096582),\n",
       " (2347, 0.07206537890044576),\n",
       " (1888, 0.0629024269440317),\n",
       " (1800, 0.06067360079247152),\n",
       " (1663, 0.058197127290737984)]"
      ]
     },
     "execution_count": 23,
     "metadata": {},
     "output_type": "execute_result"
    }
   ],
   "source": [
    "dg_centrality = nx.degree_centrality(g_fb)\n",
    "sorted_dg_centrality = sorted(dg_centrality.items(), key=operator.itemgetter(1), reverse=True)\n",
    "sorted_dg_centrality[:10]"
   ]
  },
  {
   "cell_type": "markdown",
   "metadata": {},
   "source": [
    "We can see that the node 107 has the highest degree centrality which means node 107 has the highest number of connected nodes. We can prove this by getting the degree of node 107 to see how many friends of node 107 has"
   ]
  },
  {
   "cell_type": "code",
   "execution_count": 24,
   "metadata": {
    "collapsed": false
   },
   "outputs": [
    {
     "data": {
      "text/plain": [
       "{107: 1045}"
      ]
     },
     "execution_count": 24,
     "metadata": {},
     "output_type": "execute_result"
    }
   ],
   "source": [
    "nx.degree(g_fb, [107])"
   ]
  },
  {
   "cell_type": "markdown",
   "metadata": {},
   "source": [
    "Node 107 has 1045 friends and we can divide that by number of nodes to get the normalized degree centrality"
   ]
  },
  {
   "cell_type": "code",
   "execution_count": 25,
   "metadata": {
    "collapsed": false
   },
   "outputs": [
    {
     "data": {
      "text/plain": [
       "0.25872740777420156"
      ]
     },
     "execution_count": 25,
     "metadata": {},
     "output_type": "execute_result"
    }
   ],
   "source": [
    "float(nx.degree(g_fb, [107]).values()[0]) / g_fb.number_of_nodes()"
   ]
  },
  {
   "cell_type": "markdown",
   "metadata": {},
   "source": [
    "Degree centrality might be the easiest number to calculate but it only shows the number of nodes connected which in real social network it might not be very useful as you might have a million followers but if the majority of them is bots then the number is not telling anything new."
   ]
  },
  {
   "cell_type": "markdown",
   "metadata": {},
   "source": [
    "Now let's try Betweenness which count all of the shortest path going throw each now. This might mean that if you have the highest shortest path going through you, you might be considered as bridge of your entire network.\n",
    "\n",
    "Nodes with high betweenness are important in communication and information diffusion"
   ]
  },
  {
   "cell_type": "markdown",
   "metadata": {},
   "source": [
    "We will be using multiprocessing so we can parallel the computation and distribute the load."
   ]
  },
  {
   "cell_type": "code",
   "execution_count": 26,
   "metadata": {
    "collapsed": true
   },
   "outputs": [],
   "source": [
    "from multiprocessing import Pool  \n",
    "import itertools"
   ]
  },
  {
   "cell_type": "code",
   "execution_count": 27,
   "metadata": {
    "collapsed": true
   },
   "outputs": [],
   "source": [
    "def partitions(nodes, n):\n",
    "    \"Partitions the nodes into n subsets\"\n",
    "    nodes_iter = iter(nodes)\n",
    "    while True:\n",
    "        partition = tuple(itertools.islice(nodes_iter,n))\n",
    "        if not partition:\n",
    "            return\n",
    "        yield partition"
   ]
  },
  {
   "cell_type": "code",
   "execution_count": 28,
   "metadata": {
    "collapsed": true
   },
   "outputs": [],
   "source": [
    "def btwn_pool(G_tuple):\n",
    "    return nx.betweenness_centrality_source(*G_tuple)"
   ]
  },
  {
   "cell_type": "code",
   "execution_count": 29,
   "metadata": {
    "collapsed": false
   },
   "outputs": [],
   "source": [
    "def between_parallel(G, processes = None):\n",
    "    p = Pool(processes=processes)\n",
    "    part_generator = 4*len(p._pool)\n",
    "    node_partitions = list(partitions(G.nodes(), int(len(G)/part_generator)))\n",
    "    num_partitions = len(node_partitions)\n",
    " \n",
    "    bet_map = p.map(btwn_pool,\n",
    "                        zip([G]*num_partitions,\n",
    "                        [True]*num_partitions,\n",
    "                        [None]*num_partitions,\n",
    "                        node_partitions))\n",
    " \n",
    "    bt_c = bet_map[0]\n",
    "    for bt in bet_map[1:]:\n",
    "        for n in bt:\n",
    "            bt_c[n] += bt[n]\n",
    "    return bt_c"
   ]
  },
  {
   "cell_type": "markdown",
   "metadata": {},
   "source": [
    "Let's try with multiprocesser."
   ]
  },
  {
   "cell_type": "code",
   "execution_count": 31,
   "metadata": {
    "collapsed": false
   },
   "outputs": [
    {
     "name": "stdout",
     "output_type": "stream",
     "text": [
      "It takes 124.432162046 seconds to finish\n",
      "[(107, 0.4805180785560148), (1684, 0.3377974497301947), (3437, 0.23611535735892855), (1912, 0.22929533958687467), (1085, 0.14901509211665434), (0, 0.1463059214744287), (698, 0.11533045020561015), (567, 0.09631033121856315), (58, 0.0843602059079655), (428, 0.0643090623932384)]\n"
     ]
    },
    {
     "data": {
      "image/png": "[encoded data removed]",
      "text/plain": [
       "<matplotlib.figure.Figure at 0x7f839f126cd0>"
      ]
     },
     "metadata": {},
     "output_type": "display_data"
    }
   ],
   "source": [
    "start = timeit.default_timer()\n",
    "bt = between_parallel(g_fb)\n",
    "stop = timeit.default_timer()\n",
    "top = 10\n",
    "\n",
    "max_nodes =  sorted(bt.iteritems(), key = lambda v: -v[1])[:top]\n",
    "bt_values = [5]*len(g_fb.nodes())\n",
    "bt_colors = [0]*len(g_fb.nodes())\n",
    "for max_key, max_val in max_nodes:\n",
    "    bt_values[max_key] = 150\n",
    "    bt_colors[max_key] = 2\n",
    " \n",
    "plt.axis(\"off\")\n",
    "nx.draw_networkx(g_fb, pos = spring_pos, cmap = plt.get_cmap(\"rainbow\"), node_color = bt_colors, node_size = bt_values, with_labels = False)\n",
    "\n",
    "print 'It takes {} seconds to finish'.format(stop - start)\n",
    "print max_nodes"
   ]
  },
  {
   "cell_type": "markdown",
   "metadata": {},
   "source": [
    "Now let's try with just one processor"
   ]
  },
  {
   "cell_type": "code",
   "execution_count": 32,
   "metadata": {
    "collapsed": false
   },
   "outputs": [
    {
     "name": "stdout",
     "output_type": "stream",
     "text": [
      "It takes 229.852290154 seconds to finish\n",
      "[(107, 0.48051807855601475), (1684, 0.3377974497302), (3437, 0.23611535735892797), (1912, 0.2292953395868785), (1085, 0.14901509211665198), (0, 0.14630592147442847), (698, 0.11533045020560787), (567, 0.09631033121856226), (58, 0.08436020590796657), (428, 0.0643090623932386)]\n"
     ]
    },
    {
     "data": {
      "image/png": "[encoded data removed]",
      "text/plain": [
       "<matplotlib.figure.Figure at 0x7f83c0154dd0>"
      ]
     },
     "metadata": {},
     "output_type": "display_data"
    }
   ],
   "source": [
    "start = timeit.default_timer()\n",
    "bt = nx.betweenness_centrality(g_fb)\n",
    "stop = timeit.default_timer()\n",
    "top = 10\n",
    "\n",
    "max_nodes =  sorted(bt.iteritems(), key = lambda v: -v[1])[:top]\n",
    "bt_values = [5]*len(g_fb.nodes())\n",
    "bt_colors = [0]*len(g_fb.nodes())\n",
    "for max_key, max_val in max_nodes:\n",
    "    bt_values[max_key] = 150\n",
    "    bt_colors[max_key] = 2\n",
    " \n",
    "plt.axis(\"off\")\n",
    "nx.draw_networkx(g_fb, pos = spring_pos, cmap = plt.get_cmap(\"rainbow\"), node_color = bt_colors, node_size = bt_values, with_labels = False)\n",
    "\n",
    "print 'It takes {} seconds to finish'.format(stop - start)\n",
    "print max_nodes"
   ]
  },
  {
   "cell_type": "markdown",
   "metadata": {},
   "source": [
    "We would like to try Closenese Centrality. The number shows how close are you to the entire network. It's very similar to Betweenness Centrality"
   ]
  },
  {
   "cell_type": "code",
   "execution_count": 42,
   "metadata": {
    "collapsed": false
   },
   "outputs": [
    {
     "name": "stdout",
     "output_type": "stream",
     "text": [
      "It takes 93.5353550911 seconds to finish\n",
      "[(107, 0.45969945355191255), (58, 0.3974018305284913), (428, 0.3948371956585509), (563, 0.3939127889961955), (1684, 0.39360561458231796), (171, 0.37049270575282134), (348, 0.36991572004397216), (483, 0.3698479575013739), (414, 0.3695433330282786), (376, 0.36655773420479304)]\n"
     ]
    }
   ],
   "source": [
    "start = timeit.default_timer()\n",
    "cs = nx.closeness_centrality (g_fb)\n",
    "stop = timeit.default_timer()\n",
    "top = 10\n",
    "\n",
    "max_cn_nodes =  sorted(cs.iteritems(), key = lambda v: -v[1])[:top]\n",
    "print 'It takes {} seconds to finish'.format(stop - start)\n",
    "print max_cn_nodes"
   ]
  },
  {
   "cell_type": "markdown",
   "metadata": {},
   "source": [
    "#Page rank"
   ]
  },
  {
   "cell_type": "markdown",
   "metadata": {},
   "source": [
    "We're going to try PageRank algorithm. This is very similar to Google's PageRank which they use incoming links to determine the \"popularity\""
   ]
  },
  {
   "cell_type": "code",
   "execution_count": 33,
   "metadata": {
    "collapsed": false
   },
   "outputs": [],
   "source": [
    "g_fb_pr = nx.pagerank(g_fb)"
   ]
  },
  {
   "cell_type": "code",
   "execution_count": 34,
   "metadata": {
    "collapsed": false
   },
   "outputs": [
    {
     "data": {
      "text/plain": [
       "[(3437, 0.007614586844749602),\n",
       " (107, 0.006936420955866113),\n",
       " (1684, 0.006367162138306825),\n",
       " (0, 0.006289602618466542),\n",
       " (1912, 0.0038769716008844957),\n",
       " (348, 0.002348096972780577),\n",
       " (686, 0.0022193592598000193),\n",
       " (3980, 0.0021703235790099928),\n",
       " (414, 0.0018002990470702264),\n",
       " (698, 0.0013171153138368812)]"
      ]
     },
     "execution_count": 34,
     "metadata": {},
     "output_type": "execute_result"
    }
   ],
   "source": [
    "top = 10\n",
    "max_pagerank = sorted(g_fb_pr.iteritems(), key = lambda v: -v[1])[:top]\n",
    "max_pagerank"
   ]
  },
  {
   "cell_type": "markdown",
   "metadata": {},
   "source": [
    "We can see that now the score is different as node 3437 is more popular than node 107."
   ]
  },
  {
   "cell_type": "markdown",
   "metadata": {},
   "source": [
    "# Who is a \"Gray Cardinal\"\n",
    "There's another metric that we can measure most influential node. It's called eigenvector centrality. To put it simply it means that if you're well connected to a lot of important people that means you're important or most influential as well. "
   ]
  },
  {
   "cell_type": "code",
   "execution_count": 35,
   "metadata": {
    "collapsed": true
   },
   "outputs": [],
   "source": [
    "g_fb_eg = nx.eigenvector_centrality(g_fb)"
   ]
  },
  {
   "cell_type": "code",
   "execution_count": 36,
   "metadata": {
    "collapsed": false
   },
   "outputs": [
    {
     "data": {
      "text/plain": [
       "[(1912, 0.09540688873596533),\n",
       " (2266, 0.08698328226321961),\n",
       " (2206, 0.08605240174265634),\n",
       " (2233, 0.08517341350597848),\n",
       " (2464, 0.0842787836468596),\n",
       " (2142, 0.08419312450068117),\n",
       " (2218, 0.08415574433673877),\n",
       " (2078, 0.08413617905810125),\n",
       " (2123, 0.08367142125897375),\n",
       " (1993, 0.08353243711860492)]"
      ]
     },
     "execution_count": 36,
     "metadata": {},
     "output_type": "execute_result"
    }
   ],
   "source": [
    "top = 10\n",
    "max_eg = sorted(g_fb_eg.iteritems(), key = lambda v: -v[1])[:top]\n",
    "max_eg"
   ]
  },
  {
   "cell_type": "markdown",
   "metadata": {},
   "source": [
    "Now we get quite a different result. This would mean that node 1912 is connected to more important people in the entire network that means that node is more influential than the rest of the network."
   ]
  },
  {
   "cell_type": "markdown",
   "metadata": {},
   "source": [
    "# iGraph with SNAP Facebook Dataset\n",
    "Networkx is easy to install and great to start with. However, as it's written in Python it's quite slow. I'm going to try iGraph which is C based. I'm hoping that this would yield the same result but faster."
   ]
  },
  {
   "cell_type": "code",
   "execution_count": 37,
   "metadata": {
    "collapsed": true
   },
   "outputs": [],
   "source": [
    "from igraph import *"
   ]
  },
  {
   "cell_type": "code",
   "execution_count": 38,
   "metadata": {
    "collapsed": true
   },
   "outputs": [],
   "source": [
    "igraph_fb = Graph.Read_Edgelist('facebook_combined.txt', directed=False)"
   ]
  },
  {
   "cell_type": "code",
   "execution_count": 39,
   "metadata": {
    "collapsed": false
   },
   "outputs": [
    {
     "name": "stdout",
     "output_type": "stream",
     "text": [
      "IGRAPH U--- 4039 88234 -- \n"
     ]
    }
   ],
   "source": [
    "print igraph_fb.summary()"
   ]
  },
  {
   "cell_type": "markdown",
   "metadata": {},
   "source": [
    "##Betweenness"
   ]
  },
  {
   "cell_type": "code",
   "execution_count": 40,
   "metadata": {
    "collapsed": true
   },
   "outputs": [],
   "source": [
    "def betweenness_centralization(G):\n",
    "    vnum = G.vcount()\n",
    "    if vnum < 3:\n",
    "        raise ValueError(\"graph must have at least three vertices\")\n",
    "    denom = (vnum-1)*(vnum-2)\n",
    " \n",
    "    temparr = [2*i/denom for i in G.betweenness()]\n",
    "    return temparr"
   ]
  },
  {
   "cell_type": "code",
   "execution_count": 41,
   "metadata": {
    "collapsed": false
   },
   "outputs": [
    {
     "name": "stdout",
     "output_type": "stream",
     "text": [
      "It takes 5.89585280418 seconds to finish\n"
     ]
    }
   ],
   "source": [
    "start = timeit.default_timer()\n",
    "igraph_betweenness = betweenness_centralization(igraph_fb)\n",
    "stop = timeit.default_timer()\n",
    "print 'It takes {} seconds to finish'.format(stop - start)"
   ]
  },
  {
   "cell_type": "code",
   "execution_count": 55,
   "metadata": {
    "collapsed": false
   },
   "outputs": [
    {
     "name": "stdout",
     "output_type": "stream",
     "text": [
      "[0.4805180785560146, 0.3377974497302, 0.23611535735892794, 0.22929533958687848, 0.14901509211665237, 0.14630592147442847, 0.11533045020560788, 0.09631033121856228, 0.08436020590796657, 0.0643090623932386]\n"
     ]
    }
   ],
   "source": [
    "igraph_betweenness.sort(reverse=True)\n",
    "print igraph_betweenness[:10]"
   ]
  },
  {
   "cell_type": "markdown",
   "metadata": {},
   "source": [
    "##Closeness"
   ]
  },
  {
   "cell_type": "code",
   "execution_count": 56,
   "metadata": {
    "collapsed": false
   },
   "outputs": [
    {
     "name": "stdout",
     "output_type": "stream",
     "text": [
      "It takes 6.03449511528 seconds to finish\n",
      "[0.45969945355191255, 0.3974018305284913, 0.3948371956585509, 0.3939127889961955, 0.39360561458231796, 0.37049270575282134, 0.36991572004397216, 0.3698479575013739, 0.3695433330282786, 0.36655773420479304]\n"
     ]
    }
   ],
   "source": [
    "start = timeit.default_timer()\n",
    "igraph_closeness = igraph_fb.closeness()\n",
    "stop = timeit.default_timer()\n",
    "print 'It takes {} seconds to finish'.format(stop - start)"
   ]
  },
  {
   "cell_type": "code",
   "execution_count": 59,
   "metadata": {
    "collapsed": false
   },
   "outputs": [
    {
     "name": "stdout",
     "output_type": "stream",
     "text": [
      "[0.45969945355191255, 0.3974018305284913, 0.3948371956585509, 0.3939127889961955, 0.39360561458231796, 0.37049270575282134, 0.36991572004397216, 0.3698479575013739, 0.3695433330282786, 0.36655773420479304]\n"
     ]
    }
   ],
   "source": [
    "igraph_closeness.sort(reverse=True)\n",
    "print igraph_closeness[:10]"
   ]
  },
  {
   "cell_type": "markdown",
   "metadata": {},
   "source": [
    "## EigenValue"
   ]
  },
  {
   "cell_type": "code",
   "execution_count": 63,
   "metadata": {
    "collapsed": false
   },
   "outputs": [
    {
     "name": "stdout",
     "output_type": "stream",
     "text": [
      "It takes 0.0605199337006 seconds to finish\n"
     ]
    }
   ],
   "source": [
    "start = timeit.default_timer()\n",
    "igraph_eg = igraph_fb.evcent()\n",
    "stop = timeit.default_timer()\n",
    "print 'It takes {} seconds to finish'.format(stop - start)"
   ]
  },
  {
   "cell_type": "code",
   "execution_count": 64,
   "metadata": {
    "collapsed": false
   },
   "outputs": [
    {
     "name": "stdout",
     "output_type": "stream",
     "text": [
      "[1.0, 0.9117190175727692, 0.9019626322184224, 0.8927488203018574, 0.8833723691600276, 0.8824740496738565, 0.8820826938160453, 0.8818776189568697, 0.8770062766705495, 0.8755494858467853]\n"
     ]
    }
   ],
   "source": [
    "igraph_eg.sort(reverse=True)\n",
    "print igraph_eg[:10]"
   ]
  },
  {
   "cell_type": "markdown",
   "metadata": {},
   "source": [
    "## PageRank"
   ]
  },
  {
   "cell_type": "code",
   "execution_count": 65,
   "metadata": {
    "collapsed": false
   },
   "outputs": [
    {
     "name": "stdout",
     "output_type": "stream",
     "text": [
      "It takes 0.0709159374237 seconds to finish\n"
     ]
    }
   ],
   "source": [
    "start = timeit.default_timer()\n",
    "igraph_pr = igraph_fb.pagerank()\n",
    "stop = timeit.default_timer()\n",
    "print 'It takes {} seconds to finish'.format(stop - start)"
   ]
  },
  {
   "cell_type": "code",
   "execution_count": 66,
   "metadata": {
    "collapsed": false
   },
   "outputs": [
    {
     "name": "stdout",
     "output_type": "stream",
     "text": [
      "[0.0075745665246258935, 0.006888375869731625, 0.0063084887921967805, 0.0062246948047383005, 0.0038165503710367713, 0.002317366308283276, 0.002216791818397391, 0.002156551114912813, 0.0017822888082657136, 0.00129416751155367]\n"
     ]
    }
   ],
   "source": [
    "igraph_pr.sort(reverse=True)\n",
    "print igraph_pr[:10]"
   ]
  },
  {
   "cell_type": "markdown",
   "metadata": {},
   "source": [
    "We can see that iGraph yields similar result from networkx but it's a lot quicker in the same machine."
   ]
  },
  {
   "cell_type": "markdown",
   "metadata": {},
   "source": [
    "# Graph_tool with SNAP Facebook Dataset\n",
    "I'm going to try another library which is supposed to be the fastest than networkx and igraph. Graph_tool is also C based which it has OpenMP enabled so a lot of algorithms is multiprocessing. "
   ]
  },
  {
   "cell_type": "code",
   "execution_count": 67,
   "metadata": {
    "collapsed": true
   },
   "outputs": [],
   "source": [
    "import sys\n",
    "sys.path.append('/usr/lib/python2.7/dist-packages')\n",
    "\n",
    "from graph_tool.all import *\n",
    "import timeit"
   ]
  },
  {
   "cell_type": "code",
   "execution_count": 68,
   "metadata": {
    "collapsed": false
   },
   "outputs": [
    {
     "name": "stdout",
     "output_type": "stream",
     "text": [
      "version: 2.2.44 (commit 178add3a, Thu Jul 2 01:44:54 2015 +0200)\n",
      "gcc version: 4.8.2\n",
      "compilation flags: -D_FORTIFY_SOURCE=2 -I/usr/include/python2.7 -I/usr/include -I/usr/lib/python2.7/dist-packages/numpy/core/include -I/usr/lib/python2.7/dist-packages/scipy -I/usr/include -DSPARSEHASH_PREFIX=google -Wall -Wextra -ftemplate-backtrace-limit=0 -O3 -DNDEBUG -std=gnu++11 -ftemplate-depth-250 -Wno-deprecated -Wno-unknown-pragmas -O3 -fvisibility=default -fvisibility-inlines-hidden -fopenmp -I/usr/include -DSPARSEHASH_PREFIX=google -Wl,-Bsymbolic-functions -Wl,-z,relro -L/usr/lib -lpython2.7\n",
      "install prefix: /usr\n",
      "python dir: /usr/lib/python2.7/dist-packages\n",
      "graph filtering: True\n",
      "openmp: True\n",
      "uname: Linux ip-172-31-45-186 3.13.0-48-generic #80-Ubuntu SMP Thu Mar 12 11:16:15 UTC 2015 x86_64\n"
     ]
    }
   ],
   "source": [
    "show_config()"
   ]
  },
  {
   "cell_type": "code",
   "execution_count": 69,
   "metadata": {
    "collapsed": true
   },
   "outputs": [],
   "source": [
    "graph_tool_fb = Graph(directed=False)"
   ]
  },
  {
   "cell_type": "code",
   "execution_count": 70,
   "metadata": {
    "collapsed": false
   },
   "outputs": [],
   "source": [
    "with open('facebook_combined.txt', 'r') as f:\n",
    "    for line in f:\n",
    "        edge_list = line.split()\n",
    "        source, target = tuple(edge_list)\n",
    "        graph_tool_fb.add_edge(source, target)"
   ]
  },
  {
   "cell_type": "code",
   "execution_count": 71,
   "metadata": {
    "collapsed": false
   },
   "outputs": [
    {
     "name": "stdout",
     "output_type": "stream",
     "text": [
      "4039\n",
      "88234\n"
     ]
    }
   ],
   "source": [
    "print graph_tool_fb.num_vertices()\n",
    "print graph_tool_fb.num_edges()"
   ]
  },
  {
   "cell_type": "markdown",
   "metadata": {},
   "source": [
    "## Betweeness"
   ]
  },
  {
   "cell_type": "code",
   "execution_count": 74,
   "metadata": {
    "collapsed": false
   },
   "outputs": [
    {
     "name": "stdout",
     "output_type": "stream",
     "text": [
      "It takes 7.47633004189 seconds to finish\n"
     ]
    }
   ],
   "source": [
    "start = timeit.default_timer()\n",
    "vertext_betweenness, edge_betweenness = betweenness(graph_tool_fb)\n",
    "stop = timeit.default_timer()\n",
    "print 'It takes {} seconds to finish'.format(stop - start)"
   ]
  },
  {
   "cell_type": "code",
   "execution_count": 75,
   "metadata": {
    "collapsed": false
   },
   "outputs": [
    {
     "data": {
      "text/plain": [
       "0.48051807855601453"
      ]
     },
     "execution_count": 75,
     "metadata": {},
     "output_type": "execute_result"
    }
   ],
   "source": [
    "vertext_betweenness.a[107]"
   ]
  },
  {
   "cell_type": "markdown",
   "metadata": {},
   "source": [
    "## Closeness"
   ]
  },
  {
   "cell_type": "code",
   "execution_count": 77,
   "metadata": {
    "collapsed": false
   },
   "outputs": [
    {
     "name": "stdout",
     "output_type": "stream",
     "text": [
      "It takes 7.69668292999 seconds to finish\n"
     ]
    }
   ],
   "source": [
    "start = timeit.default_timer()\n",
    "v_closeness = closeness(graph_tool_fb)\n",
    "stop = timeit.default_timer()\n",
    "print 'It takes {} seconds to finish'.format(stop - start)"
   ]
  },
  {
   "cell_type": "code",
   "execution_count": 78,
   "metadata": {
    "collapsed": false
   },
   "outputs": [
    {
     "data": {
      "text/plain": [
       "0.45969945355191255"
      ]
     },
     "execution_count": 78,
     "metadata": {},
     "output_type": "execute_result"
    }
   ],
   "source": [
    "v_closeness.a[107]"
   ]
  },
  {
   "cell_type": "markdown",
   "metadata": {},
   "source": [
    "## Eigenvalue"
   ]
  },
  {
   "cell_type": "code",
   "execution_count": 79,
   "metadata": {
    "collapsed": false
   },
   "outputs": [
    {
     "name": "stdout",
     "output_type": "stream",
     "text": [
      "It takes 0.0300698280334 seconds to finish\n"
     ]
    }
   ],
   "source": [
    "start = timeit.default_timer()\n",
    "v_closeness = eigenvector(graph_tool_fb)\n",
    "stop = timeit.default_timer()\n",
    "print 'It takes {} seconds to finish'.format(stop - start)"
   ]
  },
  {
   "cell_type": "markdown",
   "metadata": {},
   "source": [
    "## Page Rank"
   ]
  },
  {
   "cell_type": "code",
   "execution_count": 80,
   "metadata": {
    "collapsed": false
   },
   "outputs": [
    {
     "name": "stdout",
     "output_type": "stream",
     "text": [
      "It takes 0.0744159221649 seconds to finish\n"
     ]
    }
   ],
   "source": [
    "start = timeit.default_timer()\n",
    "v_closeness = pagerank(graph_tool_fb)\n",
    "stop = timeit.default_timer()\n",
    "print 'It takes {} seconds to finish'.format(stop - start)"
   ]
  },
  {
   "cell_type": "markdown",
   "metadata": {},
   "source": [
    "#Conclusion\n",
    "\n",
    "Both igraph and graph_tool yield similar performance. So, for the real data I'm going to use graph_tool as the documentation is more comprehensive."
   ]
  },
  {
   "cell_type": "markdown",
   "metadata": {},
   "source": [
    "# Real data\n",
    "The data we collect from Twitter Streaming API is stored in Mongodb."
   ]
  },
  {
   "cell_type": "code",
   "execution_count": 11,
   "metadata": {
    "collapsed": true
   },
   "outputs": [],
   "source": [
    "%matplotlib inline\n",
    "import pymongo\n",
    "import networkx as nx\n",
    "import time\n",
    "import itertools\n",
    "import operator\n",
    "\n",
    "from multiprocessing import Pool\n",
    "from pymongo import MongoClient\n",
    "\n",
    "from sweepy.get_config import get_config\n",
    "\n",
    "config = get_config()\n",
    "\n",
    "MONGO_URL = config.get('MONGO_URL')\n",
    "MONGO_PORT = config.get('MONGO_PORT')\n",
    "MONGO_USERNAME = config.get('MONGO_USERNAME')\n",
    "MONGO_PASSWORD = config.get('MONGO_PASSWORD')\n",
    "MONGO_DATABASE = config.get('MONGO_DATABASE')\n",
    "\n",
    "client = MongoClient(MONGO_URL, int(MONGO_PORT))\n",
    "\n",
    "db = client[MONGO_DATABASE]\n",
    "db.authenticate(MONGO_USERNAME, MONGO_PASSWORD)\n",
    "\n",
    "users = db.users\n",
    "raw_tweets = db.raw_tweets"
   ]
  },
  {
   "cell_type": "markdown",
   "metadata": {},
   "source": [
    "Let's do some data exploration first."
   ]
  },
  {
   "cell_type": "markdown",
   "metadata": {},
   "source": [
    "## Who retweet the most in Fusion network"
   ]
  },
  {
   "cell_type": "code",
   "execution_count": 14,
   "metadata": {
    "collapsed": false
   },
   "outputs": [],
   "source": [
    "most_retweets = raw_tweets.aggregate([\n",
    "    { '$group' : { '_id': '$user.id_str', 'count' : { '$sum' : 1 }, 'screen_name' : { '$last' : '$user.screen_name'} } },\n",
    "    { '$match' : { 'count' : { '$gte' : 1 } } },\n",
    "    { '$sort' : { 'count' : -1 } },\n",
    "    { '$limit' : 20}\n",
    "])"
   ]
  },
  {
   "cell_type": "code",
   "execution_count": 15,
   "metadata": {
    "collapsed": false
   },
   "outputs": [
    {
     "name": "stdout",
     "output_type": "stream",
     "text": [
      "{u'count': 1424, u'_id': u'121817564', u'screen_name': u'ThisIsFusion'}\n",
      "{u'count': 423, u'_id': u'3106528812', u'screen_name': u'JuePier'}\n",
      "{u'count': 248, u'_id': u'220038215', u'screen_name': u'prattreport'}\n",
      "{u'count': 100, u'_id': u'3152407786', u'screen_name': u'Urbaniters'}\n",
      "{u'count': 77, u'_id': u'7154912', u'screen_name': u'ohiomary'}\n",
      "{u'count': 59, u'_id': u'151938942', u'screen_name': u'mauriciogale'}\n",
      "{u'count': 52, u'_id': u'34294546', u'screen_name': u'EmeraldEnvy11'}\n",
      "{u'count': 47, u'_id': u'3152728781', u'screen_name': u'SocialCurrentcy'}\n",
      "{u'count': 45, u'_id': u'789920724', u'screen_name': u'felicito15'}\n",
      "{u'count': 40, u'_id': u'200249089', u'screen_name': u'jnarls'}\n",
      "{u'count': 37, u'_id': None, u'screen_name': None}\n",
      "{u'count': 37, u'_id': u'630864427', u'screen_name': u'NDaddyP'}\n",
      "{u'count': 31, u'_id': u'145062328', u'screen_name': u'VivianIPadilla'}\n",
      "{u'count': 31, u'_id': u'1114746523', u'screen_name': u'no2hitting'}\n",
      "{u'count': 30, u'_id': u'1921038272', u'screen_name': u'Fusion21Gordon'}\n",
      "{u'count': 30, u'_id': u'47090625', u'screen_name': u'cjiausa'}\n",
      "{u'count': 29, u'_id': u'2365305244', u'screen_name': u'blueocean5454'}\n",
      "{u'count': 29, u'_id': u'1972356482', u'screen_name': u'HenrivandeZee'}\n",
      "{u'count': 29, u'_id': u'132243158', u'screen_name': u'pcosdeaf'}\n",
      "{u'count': 25, u'_id': u'60563975', u'screen_name': u'singhnavjeet'}\n"
     ]
    }
   ],
   "source": [
    "for most_retweet in most_retweets:\n",
    "    print most_retweet"
   ]
  },
  {
   "cell_type": "code",
   "execution_count": null,
   "metadata": {
    "collapsed": true
   },
   "outputs": [],
   "source": [
    "all_users = users.find({}, { 'id' : 1, 'friends_ids' : 1}).batch_size(50)"
   ]
  },
  {
   "cell_type": "markdown",
   "metadata": {},
   "source": [
    "We are going to convert the data to edgelist so it's easier to import to various different tools"
   ]
  },
  {
   "cell_type": "code",
   "execution_count": 8,
   "metadata": {
    "collapsed": false
   },
   "outputs": [],
   "source": [
    "with open('twitter_edgelist.txt', 'w') as f:\n",
    "    for user in all_users:\n",
    "        u_id = str(abs(user['id']))\n",
    "        for friend_id in user['friends_ids']:\n",
    "            f_id = str(abs(friend_id))\n",
    "            f.write('{} {}\\n'.format(u_id, f_id))"
   ]
  },
  {
   "cell_type": "markdown",
   "metadata": {},
   "source": [
    "# Find Centrality"
   ]
  },
  {
   "cell_type": "code",
   "execution_count": 20,
   "metadata": {
    "collapsed": false
   },
   "outputs": [],
   "source": [
    "from igraph import *\n",
    "import timeit\n",
    "import numpy"
   ]
  },
  {
   "cell_type": "code",
   "execution_count": 5,
   "metadata": {
    "collapsed": false
   },
   "outputs": [],
   "source": [
    "twitter_igraph = Graph.Read_Ncol('twitter_edgelist.txt', directed=True)"
   ]
  },
  {
   "cell_type": "code",
   "execution_count": 6,
   "metadata": {
    "collapsed": false
   },
   "outputs": [
    {
     "name": "stdout",
     "output_type": "stream",
     "text": [
      "IGRAPH DN-- 2869228 6764984 -- \n",
      "+ attr: name (v)\n"
     ]
    }
   ],
   "source": [
    "print twitter_igraph.summary()"
   ]
  },
  {
   "cell_type": "code",
   "execution_count": 7,
   "metadata": {
    "collapsed": false
   },
   "outputs": [
    {
     "data": {
      "text/plain": [
       "1907"
      ]
     },
     "execution_count": 7,
     "metadata": {},
     "output_type": "execute_result"
    }
   ],
   "source": [
    "thisisfusion = twitter_igraph.vs.find(name='121817564')\n",
    "thisisfusion.degree(type=\"out\")"
   ]
  },
  {
   "cell_type": "code",
   "execution_count": 32,
   "metadata": {
    "collapsed": false
   },
   "outputs": [
    {
     "name": "stdout",
     "output_type": "stream",
     "text": [
      "It takes 23.0463728905 seconds to finish\n"
     ]
    }
   ],
   "source": [
    "start = timeit.default_timer()\n",
    "igraph_eg = twitter_igraph.evcent()\n",
    "stop = timeit.default_timer()\n",
    "print 'It takes {} seconds to finish'.format(stop - start)"
   ]
  },
  {
   "cell_type": "code",
   "execution_count": 33,
   "metadata": {
    "collapsed": false
   },
   "outputs": [
    {
     "data": {
      "text/plain": [
       "[8.82545755737797e-22,\n",
       " 0.18267205965010447,\n",
       " 0.0,\n",
       " 4.23085842270748e-06,\n",
       " 0.32233878536510585,\n",
       " 8.604057312603434e-21,\n",
       " 2.1745650144486424e-20,\n",
       " 0.0,\n",
       " 0.45858443088164863,\n",
       " 0.0,\n",
       " 2.816266661932111e-05,\n",
       " 0.02592960510150749,\n",
       " 0.0034849121607224477,\n",
       " 3.803379777667382e-20,\n",
       " 6.300348533299875e-20,\n",
       " 1.930350751983942e-19,\n",
       " 0.21026293756900855,\n",
       " 0.009753131165374155,\n",
       " 1.2333632780129681e-20,\n",
       " 0.3116128557753163,\n",
       " 0.0,\n",
       " 0.0,\n",
       " 0.0007110676589917122,\n",
       " 7.997622756740456e-05,\n",
       " 0.007772376889202031,\n",
       " 0.09657252913123443,\n",
       " 6.415843559172674e-21,\n",
       " 0.019670301891283083,\n",
       " 0.010157422253582354,\n",
       " 0.32741128094890765,\n",
       " 0.37053432641536455,\n",
       " 0.7325599796619503,\n",
       " 0.3906925525868906,\n",
       " 0.009291095104574836,\n",
       " 2.851588682875007e-05,\n",
       " 0.0,\n",
       " 3.0293426662001193e-21,\n",
       " 0.020923964245117686,\n",
       " 0.00021787871918165907,\n",
       " 0.0002463454533217069,\n",
       " 0.0,\n",
       " 6.606793864100424e-21,\n",
       " 0.010416690575192674,\n",
       " 0.0003965429930705432,\n",
       " 0.10285226385186295,\n",
       " 0.0,\n",
       " 0.029116286575893702,\n",
       " 0.5219289996090047,\n",
       " 0.0,\n",
       " 3.541399786472327e-20,\n",
       " 0.018873662808584716,\n",
       " 5.701740394671472e-05,\n",
       " 0.028829708272141517,\n",
       " 0.006879529972667841,\n",
       " 0.01777331774020105,\n",
       " 2.7090913813432583e-20,\n",
       " 0.10475124919366373,\n",
       " 4.0091089535983214e-05,\n",
       " 0.12916689380775917,\n",
       " 0.0612917733991154,\n",
       " 0.06849869795519903,\n",
       " 0.00042881912821162436,\n",
       " 0.048138799571376116,\n",
       " 0.08811133287352699,\n",
       " 0.0,\n",
       " 0.011869388336823881,\n",
       " 5.079607387580455e-20,\n",
       " 0.04537334998705248,\n",
       " 0.00014951296090789584,\n",
       " 2.2639978822827485e-19,\n",
       " 0.04285858370837196,\n",
       " 0.0,\n",
       " 0.0,\n",
       " 4.989674317884737e-20,\n",
       " 0.23548614834097387,\n",
       " 0.00037762719982279623,\n",
       " 0.0,\n",
       " 0.0002854404438694411,\n",
       " 0.02436474241192633,\n",
       " 0.02159333073803208,\n",
       " 0.014385652789386834,\n",
       " 0.0,\n",
       " 1.6309707188007728e-20,\n",
       " 0.0005464467220653783,\n",
       " 0.052915736701134926,\n",
       " 0.023978856382308646,\n",
       " 0.0003013152394614025,\n",
       " 0.11279450900849901,\n",
       " 3.76596443476192e-20,\n",
       " 5.731581800748681e-05,\n",
       " 0.0005120136496991418,\n",
       " 0.00046400176341693564,\n",
       " 1.7380458168024554e-20,\n",
       " 0.07015111030105751,\n",
       " 0.07929652800575357,\n",
       " 0.15248277475938565,\n",
       " 0.002299909638951644,\n",
       " 0.13482173061481859,\n",
       " 0.08693161794722803,\n",
       " 0.015832955823881566,\n",
       " 0.12082365259025976,\n",
       " 0.11439347605216028,\n",
       " 0.07831789083656171,\n",
       " 0.2510416460153207,\n",
       " 0.006941396252843978,\n",
       " 0.12959129858432042,\n",
       " 0.1437371701613702,\n",
       " 0.0,\n",
       " 0.12589318373283925,\n",
       " 0.06268400621635561,\n",
       " 0.22223409884175035,\n",
       " 0.061391720385666156,\n",
       " 0.3932915727399429,\n",
       " 0.274837957314638,\n",
       " 0.08400151439512847,\n",
       " 3.0505072750326987e-20,\n",
       " 0.5529089214870618,\n",
       " 0.09556559010440269,\n",
       " 0.25051503312048645,\n",
       " 0.17964902700516297,\n",
       " 0.0009531150081837357,\n",
       " 0.1249126541128083,\n",
       " 0.19882087787450836,\n",
       " 0.08689559006660974,\n",
       " 0.0,\n",
       " 0.07367700063237316,\n",
       " 0.34871743277341516,\n",
       " 0.17244902060048184,\n",
       " 0.08869611164363388,\n",
       " 0.5268285300800166,\n",
       " 0.3209319672043137,\n",
       " 0.1211918104267052,\n",
       " 0.2604344306063943,\n",
       " 0.43328616307560125,\n",
       " 0.5016507653278366,\n",
       " 0.2062862382234483,\n",
       " 0.06813234998802108,\n",
       " 0.11125293287037737,\n",
       " 0.0,\n",
       " 1.0,\n",
       " 0.007877699594386417,\n",
       " 0.31135728204066343,\n",
       " 0.22372347818874044,\n",
       " 0.24433174996989707,\n",
       " 0.07466948583704906,\n",
       " 0.043004556793915245,\n",
       " 0.055901332483741996,\n",
       " 0.20835730134433592,\n",
       " 0.43640962638045966,\n",
       " 0.24670910005866786,\n",
       " 0.013643693172972607,\n",
       " 0.0,\n",
       " 0.19728525732100605,\n",
       " 0.23008532894028366,\n",
       " 0.28668564253474504,\n",
       " 0.2090694290696765,\n",
       " 0.0,\n",
       " 2.3056543039560473e-20,\n",
       " 0.008998977916757165,\n",
       " 0.06681461032084009,\n",
       " 0.27429338427852434,\n",
       " 0.047568465413834096,\n",
       " 0.2382056875623848,\n",
       " 0.5698376669703646,\n",
       " 0.04538075796417297,\n",
       " 7.775560099022967e-22,\n",
       " 0.0,\n",
       " 0.0006421005721322307,\n",
       " 0.13304946789715236,\n",
       " 1.9891293797914192e-05,\n",
       " 0.06741804916944623,\n",
       " 0.00028367151088095824,\n",
       " 0.3857173128283957,\n",
       " 0.0,\n",
       " 4.716004151331761e-20,\n",
       " 8.82545755737797e-22,\n",
       " 0.611261687664813,\n",
       " 0.0002446600773263565,\n",
       " 2.20954933409486e-07,\n",
       " 0.08643646648617657,\n",
       " 2.033511856439031e-19,\n",
       " 3.0342295491332864e-20,\n",
       " 2.110515481789091e-19,\n",
       " 2.08054035766692e-06,\n",
       " 1.5794586473341747e-21,\n",
       " 0.17312185100114902,\n",
       " 0.0,\n",
       " 1.863354567995791e-21,\n",
       " 1.5558564234645275e-19,\n",
       " 0.0059128915460549426,\n",
       " 4.506354132996185e-05,\n",
       " 3.491261949196784e-06,\n",
       " 0.0,\n",
       " 4.086963536241451e-19,\n",
       " 5.520188357409751e-20,\n",
       " 3.4882957251863484e-19,\n",
       " 0.022156870340906947,\n",
       " 2.4460894853712674e-19,\n",
       " 7.808046688200391e-19,\n",
       " 0.03600473358034877,\n",
       " 0.11548174582363137,\n",
       " 0.18526089536790014,\n",
       " 0.0221526827861674,\n",
       " 0.05058313160507309,\n",
       " 0.04861678202499095,\n",
       " 0.05870660765594943,\n",
       " 0.13759462828233648,\n",
       " 0.08675802037740413,\n",
       " 0.09997041985509425,\n",
       " 0.04310224611205378,\n",
       " 0.052607807759935114,\n",
       " 0.34377157249043067,\n",
       " 0.07276941566738625,\n",
       " 0.21787955254708496,\n",
       " 0.1502149556540877,\n",
       " 0.07017306632077921,\n",
       " 0.03140853431428403,\n",
       " 0.022182960312668486,\n",
       " 0.12445171093625118,\n",
       " 0.0769493727585198,\n",
       " 0.06078529251678773,\n",
       " 0.02215153470430857,\n",
       " 0.1982264335224975,\n",
       " 0.3102261586125504,\n",
       " 0.10878851458465637,\n",
       " 0.07419745192334784,\n",
       " 0.19820680975528657,\n",
       " 0.20243771701264515,\n",
       " 0.24758972828505232,\n",
       " 0.24179468076981936,\n",
       " 0.16748947235925943,\n",
       " 0.24409803299184438,\n",
       " 0.05813857107360426,\n",
       " 0.23131494526886356,\n",
       " 0.03917646449361484,\n",
       " 0.06707531350287659,\n",
       " 0.02215153470430857,\n",
       " 0.11601351239483758,\n",
       " 0.08624130316303666,\n",
       " 0.21138206985340965,\n",
       " 0.13666205700424297,\n",
       " 0.14755605638579142,\n",
       " 0.06737552494337558,\n",
       " 0.1738420419905225,\n",
       " 0.03440802973441739,\n",
       " 0.12232844036098788,\n",
       " 0.21391597937415163,\n",
       " 0.08098246485476528,\n",
       " 0.16838906555592015,\n",
       " 0.07951547016374547,\n",
       " 0.2076671016875487,\n",
       " 0.2559169555832992,\n",
       " 0.09080707838808617,\n",
       " 0.17539078401757052,\n",
       " 0.03203644458758814,\n",
       " 0.28544336603445536,\n",
       " 0.2616813089445875,\n",
       " 0.08179819205489237,\n",
       " 0.07318127862265106,\n",
       " 0.05102720683533388,\n",
       " 0.022535554649201827,\n",
       " 0.1996139776637428,\n",
       " 0.08275184778314777,\n",
       " 0.06909635044037413,\n",
       " 0.10413280307791509,\n",
       " 0.06058092199269638,\n",
       " 0.0823315854623128,\n",
       " 0.07436328246467715,\n",
       " 0.045064083610347826,\n",
       " 0.08301876780031908,\n",
       " 0.0639247268332,\n",
       " 0.09722946748233312,\n",
       " 0.07863378968494551,\n",
       " 0.0990340980260508,\n",
       " 0.18835050598568537,\n",
       " 0.4468789257173623,\n",
       " 0.2936031132344741,\n",
       " 0.02215343052981697,\n",
       " 0.02225764885970072,\n",
       " 0.04743496851429355,\n",
       " 0.14502163094732284,\n",
       " 0.12992217496274414,\n",
       " 0.05766457275337442,\n",
       " 0.041114403608871704,\n",
       " 0.03378826877676134,\n",
       " 0.3473451217855753,\n",
       " 0.3441665371673074,\n",
       " 0.029882863139230626,\n",
       " 0.02907188445724887,\n",
       " 0.18925129467884033,\n",
       " 0.03269318162615512,\n",
       " 0.029943951188463106,\n",
       " 0.029379779089968295,\n",
       " 0.05645873372060885,\n",
       " 0.31833369727313426,\n",
       " 0.0754550784114495,\n",
       " 0.08118674938346855,\n",
       " 0.12622646583280758,\n",
       " 0.18864987615827183,\n",
       " 0.12477955599781122,\n",
       " 0.07360406769839993,\n",
       " 0.056355833556587534,\n",
       " 0.03504230101719237,\n",
       " 0.09089121744344716,\n",
       " 0.027627517368714955,\n",
       " 0.21070172106572918,\n",
       " 0.0787732345924306,\n",
       " 0.036856770204510475,\n",
       " 0.11228511393305846,\n",
       " 0.27317343896838825,\n",
       " 0.022151534704308536,\n",
       " 0.32046309357461894,\n",
       " 0.06482871450495019,\n",
       " 0.08701679693360803,\n",
       " 0.022982563209576697,\n",
       " 0.08403372188701712,\n",
       " 0.34593032412050523,\n",
       " 0.05170594009506261,\n",
       " 0.11749060418341431,\n",
       " 0.08129370764588018,\n",
       " 0.1506572829699475,\n",
       " 0.2721492021792675,\n",
       " 0.06387816603301581,\n",
       " 0.06287800373883833,\n",
       " 0.33669779598045707,\n",
       " 0.03725831057397664,\n",
       " 0.0256790954157727,\n",
       " 0.029960934048794165,\n",
       " 0.1557636172212024,\n",
       " 0.24558230682356677,\n",
       " 0.044383832929390216,\n",
       " 0.08201464818841951,\n",
       " 0.022151543683258248,\n",
       " 0.19071300531266835,\n",
       " 0.11087676596399365,\n",
       " 0.05998970743640678,\n",
       " 0.0420884697029001,\n",
       " 0.033649406851321305,\n",
       " 0.29648850586131575,\n",
       " 0.2630869119976771,\n",
       " 0.05801483126235316,\n",
       " 0.14054080817460962,\n",
       " 0.20100634408435772,\n",
       " 0.03442358743881696,\n",
       " 0.026591042907503692,\n",
       " 0.02317563031030353,\n",
       " 0.03269318162615514,\n",
       " 0.07619216228472701,\n",
       " 0.03877775732732323,\n",
       " 0.10783603200227845,\n",
       " 0.13263756895169057,\n",
       " 0.13189133362571065,\n",
       " 0.142164960688214,\n",
       " 0.09384812014101492,\n",
       " 0.02215153470430855,\n",
       " 0.029589999669490115,\n",
       " 0.1031488530785813,\n",
       " 0.07572052677145587,\n",
       " 0.03269318162615513,\n",
       " 0.2409300970821661,\n",
       " 0.3211226880756438,\n",
       " 0.09103339400015445,\n",
       " 0.06917809260087891,\n",
       " 0.08697065485218045,\n",
       " 0.07848154695963303,\n",
       " 0.09497291791504367,\n",
       " 0.19126777841447506,\n",
       " 0.18135413681512458,\n",
       " 0.08112700909393276,\n",
       " 0.18664860909639172,\n",
       " 0.08638765546719487,\n",
       " 0.050790710700458166,\n",
       " 0.13559793209097468,\n",
       " 0.053985642019582634,\n",
       " 0.12435884706479446,\n",
       " 0.037181775243119865,\n",
       " 0.07363758673291348,\n",
       " 0.1009062173061119,\n",
       " 0.14680145486191104,\n",
       " 0.4086314347865959,\n",
       " 0.03912109796723677,\n",
       " 0.23456937229116182,\n",
       " 0.22206479338615465,\n",
       " 0.03297269814658561,\n",
       " 0.20724302784699858,\n",
       " 0.16586680457987704,\n",
       " 0.0801911634323586,\n",
       " 0.0341414282464444,\n",
       " 0.1317842344831869,\n",
       " 0.13166534890779347,\n",
       " 0.0364905992296767,\n",
       " 0.053640412016471,\n",
       " 0.0767943441152141,\n",
       " 0.18911965831822483,\n",
       " 0.06402266715454563,\n",
       " 0.3329983828667483,\n",
       " 0.13594099652362737,\n",
       " 0.17299972244487716,\n",
       " 0.21810458778429664,\n",
       " 0.03896532319560483,\n",
       " 0.07483790483526608,\n",
       " 0.027255241083800744,\n",
       " 0.0869733960874125,\n",
       " 0.0565876386747302,\n",
       " 0.022151534704308532,\n",
       " 0.34549364108201147,\n",
       " 0.04959750638306405,\n",
       " 0.02656953853376787,\n",
       " 0.23788503232620853,\n",
       " 0.14022159856768823,\n",
       " 0.08757495541720103,\n",
       " 0.045345455627270825,\n",
       " 0.10117342123366692,\n",
       " 0.3803501100224337,\n",
       " 0.22670471798572864,\n",
       " 0.07934459317388,\n",
       " 0.21133311994249657,\n",
       " 0.03458035732298132,\n",
       " 0.11842001927255831,\n",
       " 0.28884447928974233,\n",
       " 0.26178119747311857,\n",
       " 0.21048794846595173,\n",
       " 0.05333357222263983,\n",
       " 0.09731218556904586,\n",
       " 0.24328939175984218,\n",
       " 0.02357490163842411,\n",
       " 0.1272910401265861,\n",
       " 0.1317569687159039,\n",
       " 0.05264865995538452,\n",
       " 0.10032772021617557,\n",
       " 0.02317081717046225,\n",
       " 0.10380700279174007,\n",
       " 0.22274630911924498,\n",
       " 0.03282028027860858,\n",
       " 0.5186364621195568,\n",
       " 0.07109145790350337,\n",
       " 0.16407136447393578,\n",
       " 0.05699567526484352,\n",
       " 0.4603405252659491,\n",
       " 0.20135698163781385,\n",
       " 0.11558844414492529,\n",
       " 0.051120000806103266,\n",
       " 0.06384371080414689,\n",
       " 0.23950080540594587,\n",
       " 0.027336124296312117,\n",
       " 0.28042104743665935,\n",
       " 0.5326236206745429,\n",
       " 0.18954500707898572,\n",
       " 0.22977217617534546,\n",
       " 0.08406557197871797,\n",
       " 0.08938595101930658,\n",
       " 0.3081831153414179,\n",
       " 0.029115258766281005,\n",
       " 0.12066212910802174,\n",
       " 0.03552371929398835,\n",
       " 0.026889529944977758,\n",
       " 0.03214352353392621,\n",
       " 0.1453237612972739,\n",
       " 0.025606408450276147,\n",
       " 0.35254439246444796,\n",
       " 0.2053809481213497,\n",
       " 0.3130960546719712,\n",
       " 0.03289867432154086,\n",
       " 0.0482639608810133,\n",
       " 0.3974030594999838,\n",
       " 0.05760575791567752,\n",
       " 0.11050656439863188,\n",
       " 0.25583758862609063,\n",
       " 0.09329541089920593,\n",
       " 0.0242772161322726,\n",
       " 0.03259343042115583,\n",
       " 0.02796722711822688,\n",
       " 0.11045512196220907,\n",
       " 0.0625243858261546,\n",
       " 0.40375572456910397,\n",
       " 0.40536737719176186,\n",
       " 0.2057636316364765,\n",
       " 0.08667274949353211,\n",
       " 0.0830997164061862,\n",
       " 0.07434804767571088,\n",
       " 0.14840942360858866,\n",
       " 0.32600826167351343,\n",
       " 0.13044556415654995,\n",
       " 0.02847523977065584,\n",
       " 0.12780388288109928,\n",
       " 0.3797362836127413,\n",
       " 0.2612489262067377,\n",
       " 0.3689821782083547,\n",
       " 0.2682697558660032,\n",
       " 0.5090006116383932,\n",
       " 0.022151534704308546,\n",
       " 0.44787238574396104,\n",
       " 0.061231516503533555,\n",
       " 0.12757415877750064,\n",
       " 0.049309372750379644,\n",
       " 0.24334493167419313,\n",
       " 0.3856655224558415,\n",
       " 0.11295849820254736,\n",
       " 0.26087648352991416,\n",
       " 0.04725534378249745,\n",
       " 0.18168390225864567,\n",
       " 0.033649755172909884,\n",
       " 0.11111189654570283,\n",
       " 0.10212205505247095,\n",
       " 0.16546256349828678,\n",
       " 0.02748695204488046,\n",
       " 0.02755545688898417,\n",
       " 0.10167734938819743,\n",
       " 0.0348117782091642,\n",
       " 0.03038384104344181,\n",
       " 0.06610426673019143,\n",
       " 0.4739642352478077,\n",
       " 0.1677403703560681,\n",
       " 0.027688578609711936,\n",
       " 0.06336058886850264,\n",
       " 0.08496311284078495,\n",
       " 0.09450905591961961,\n",
       " 0.02215153470430856,\n",
       " 0.1594974444026814,\n",
       " 0.0894897159389629,\n",
       " 0.1269710852503371,\n",
       " 0.1389138982930941,\n",
       " 0.05439374429828858,\n",
       " 0.0553252037291138,\n",
       " 0.0320538808423397,\n",
       " 0.04192827716813236,\n",
       " 0.16219635179212147,\n",
       " 0.12448462983499839,\n",
       " 0.10696162500491778,\n",
       " 0.23412535029473325,\n",
       " 0.0663382525548073,\n",
       " 0.04507279785416721,\n",
       " 0.29907906069885154,\n",
       " 0.13038466440894758,\n",
       " 0.04558501927973966,\n",
       " 0.5564538343629437,\n",
       " 0.02215153470430857,\n",
       " 0.03653978430073286,\n",
       " 0.05353707212373856,\n",
       " 0.34182235288662727,\n",
       " 0.2071674875366211,\n",
       " 0.028083558625775183,\n",
       " 0.04480544768487618,\n",
       " 0.6056058896861649,\n",
       " 0.045171006406311755,\n",
       " 0.058690603291428944,\n",
       " 0.02771470223629098,\n",
       " 0.04425506372544884,\n",
       " 0.2961101933826592,\n",
       " 0.022343571234244203,\n",
       " 0.042053724679304565,\n",
       " 0.08528752485256799,\n",
       " 0.1364750148469243,\n",
       " 0.08590946042957397,\n",
       " 0.18367653834721226,\n",
       " 0.05854051162834047,\n",
       " 0.18803947961372675,\n",
       " 0.15470294859125477,\n",
       " 0.04518012993274048,\n",
       " 0.04259590802293541,\n",
       " 0.12079996782417393,\n",
       " 0.04454952014191102,\n",
       " 0.0842788172715114,\n",
       " 0.02408490804835835,\n",
       " 0.023067643573518176,\n",
       " 0.023188558308505434,\n",
       " 0.07936679164700994,\n",
       " 0.026923840372278504,\n",
       " 0.02215153470430857,\n",
       " 0.02215153470430855,\n",
       " 0.060111123157747914,\n",
       " 0.0910895177998291,\n",
       " 0.11582515473971716,\n",
       " 0.02215153470430855,\n",
       " 0.11550639870999409,\n",
       " 0.024154074546202678,\n",
       " 0.022151534704308556,\n",
       " 0.05390189932973892,\n",
       " 0.025166845063399793,\n",
       " 0.04620966697115532,\n",
       " 0.0386329127818905,\n",
       " 0.12177076765086339,\n",
       " 0.06141610209287002,\n",
       " 0.2432060421119316,\n",
       " 0.27498956820860926,\n",
       " 0.08035806480048044,\n",
       " 0.3190185087295868,\n",
       " 0.3391461295704815,\n",
       " 0.2454593598116301,\n",
       " 0.2909878749565265,\n",
       " 0.050112899164590205,\n",
       " 0.1758316342220504,\n",
       " 0.12782921124149083,\n",
       " 0.17463551958881804,\n",
       " 0.23962732698206987,\n",
       " 0.12746841940165374,\n",
       " 0.038653856834976096,\n",
       " 0.3953954955996042,\n",
       " 0.17245170078168073,\n",
       " 0.10289182142572809,\n",
       " 0.24858624940920004,\n",
       " 0.328427334258136,\n",
       " 0.5175384803496742,\n",
       " 0.12691947474620682,\n",
       " 0.6611421415064006,\n",
       " 0.0980882674296087,\n",
       " 0.12078790996382253,\n",
       " 0.03489913836228282,\n",
       " 0.050007687383713036,\n",
       " 0.10237175880688888,\n",
       " 0.023363791421827644,\n",
       " 0.0349220809551579,\n",
       " 0.02215153470430856,\n",
       " 0.05053088236786792,\n",
       " 0.023035315390030422,\n",
       " 0.07780256461971673,\n",
       " 0.13575058387900366,\n",
       " 0.297619176813062,\n",
       " 0.0616671376062312,\n",
       " 0.03829460230992783,\n",
       " 0.023452148231943182,\n",
       " 0.09549637388841246,\n",
       " 0.20099084330665826,\n",
       " 0.05397187665156551,\n",
       " 0.05887721669667393,\n",
       " 0.02562210385527122,\n",
       " 0.35641822970059794,\n",
       " 0.0760296271578305,\n",
       " 0.045296024678753946,\n",
       " 0.0531951431516788,\n",
       " 0.04260787767653388,\n",
       " 0.14140368517353846,\n",
       " 0.14029689170108967,\n",
       " 0.36948279302131687,\n",
       " 0.06934380962448188,\n",
       " 0.09838277573328047,\n",
       " 0.05406376127613104,\n",
       " 0.022151534704308546,\n",
       " 0.05322545795145948,\n",
       " 0.03459526829586384,\n",
       " 0.05360808688373299,\n",
       " 0.17666218968563122,\n",
       " 0.02215153470430855,\n",
       " 0.12243918750871942,\n",
       " 0.06698938656932187,\n",
       " 0.022281191689789894,\n",
       " 0.04398992212141961,\n",
       " 0.02215153470430852,\n",
       " 0.033059093128073425,\n",
       " 0.03168034936767942,\n",
       " 0.12468967528917362,\n",
       " 0.022197080168163918,\n",
       " 0.13565437897792137,\n",
       " 0.22594673551171476,\n",
       " 0.06723722379163129,\n",
       " 0.07292541262587192,\n",
       " 0.05359180963655568,\n",
       " 0.2507846206899054,\n",
       " 0.14114204445394848,\n",
       " 0.10243054517011499,\n",
       " 0.572829271574581,\n",
       " 0.06134689195947388,\n",
       " 0.0749761836462131,\n",
       " 0.02282191076708174,\n",
       " 0.037190264178394355,\n",
       " 0.11643460631260495,\n",
       " 0.239346483354401,\n",
       " 0.12960554847823158,\n",
       " 0.08127051412804438,\n",
       " 0.052622804190318125,\n",
       " 0.049469852332666875,\n",
       " 0.043280321738244615,\n",
       " 0.15053327318620735,\n",
       " 0.022151534704308532,\n",
       " 0.11566396276974346,\n",
       " 0.032769289095993887,\n",
       " 0.05313060579225345,\n",
       " 0.04723820535545338,\n",
       " 0.023056139190116353,\n",
       " 0.054257223087196146,\n",
       " 0.022151534704308546,\n",
       " 0.03287661652898912,\n",
       " 0.20767711647603748,\n",
       " 0.05013924943511765,\n",
       " 0.03787507786049033,\n",
       " 0.09330344438653346,\n",
       " 0.05582198437582206,\n",
       " 0.435159761626114,\n",
       " 0.28039330857673805,\n",
       " 0.2664529486966441,\n",
       " 0.21692219909490207,\n",
       " 0.2368408998123458,\n",
       " 0.11200840117753516,\n",
       " 0.12124896981155239,\n",
       " 0.2121422558759786,\n",
       " 0.1829537757054026,\n",
       " 0.02215153470430856,\n",
       " 0.022151534704308546,\n",
       " 0.050318924580252916,\n",
       " 0.25258827668220774,\n",
       " 0.026666216990482286,\n",
       " 0.03949650217342724,\n",
       " 0.04980892448730198,\n",
       " 0.04306274433305767,\n",
       " 0.023019153177346444,\n",
       " 0.03986592856522434,\n",
       " 0.02215153470430856,\n",
       " 0.5073680261033076,\n",
       " 0.036377154222836904,\n",
       " 0.022395223613385074,\n",
       " 0.12928868642014024,\n",
       " 0.03295174712777411,\n",
       " 0.03735868081750371,\n",
       " 0.022480190064833767,\n",
       " 0.05389041665623765,\n",
       " 0.03783069139011605,\n",
       " 0.022871684852190582,\n",
       " 0.03803417355232542,\n",
       " 0.02215153470430856,\n",
       " 0.02215580326181677,\n",
       " 0.03137961251348108,\n",
       " 0.029785514821916256,\n",
       " 0.022152238927265318,\n",
       " 0.022151534704308546,\n",
       " 0.03762145379258644,\n",
       " 0.02215153470430856,\n",
       " 0.02215153470430856,\n",
       " 0.022151534704308556,\n",
       " 0.05288170352526025,\n",
       " 0.1742111638555751,\n",
       " 0.22747267693472942,\n",
       " 0.24947656050472689,\n",
       " 0.10085033659534243,\n",
       " 0.11408179598437637,\n",
       " 0.22938134655051112,\n",
       " 0.1370793710632459,\n",
       " 0.10734810192741324,\n",
       " 0.20062049053750175,\n",
       " 0.14674109262800542,\n",
       " 0.2241674475367784,\n",
       " 0.056548766202507934,\n",
       " 0.05267329908053123,\n",
       " 0.24156903975895233,\n",
       " 0.08193364110266077,\n",
       " 0.28690955212820934,\n",
       " 0.03498654482532714,\n",
       " 0.1165396630284404,\n",
       " 0.17796304762043427,\n",
       " 0.040188674750067085,\n",
       " 0.0650676351609097,\n",
       " 0.10619538943520328,\n",
       " 0.26865996040714046,\n",
       " 0.18232781524686612,\n",
       " 0.09094821806504759,\n",
       " 0.04679380665778158,\n",
       " 0.1208115279918238,\n",
       " 0.20396868022911632,\n",
       " 0.14874400352082615,\n",
       " 0.19869307034016997,\n",
       " 0.47889628823988206,\n",
       " 0.16794046342666707,\n",
       " 0.07080920804512048,\n",
       " 0.10597167820392908,\n",
       " 0.024983119179314468,\n",
       " 0.05549484692155203,\n",
       " 0.032680783267848026,\n",
       " 0.02215153470430855,\n",
       " 0.13022348078553442,\n",
       " 0.042810208547031374,\n",
       " 0.04491597440219145,\n",
       " 0.05304265927424266,\n",
       " 0.04067386222459404,\n",
       " 0.04067386222459404,\n",
       " 0.051629458696626045,\n",
       " 0.11501860154258461,\n",
       " 0.036311964835611645,\n",
       " 0.022774442033939687,\n",
       " 0.053909484212897194,\n",
       " 0.07925287181882029,\n",
       " 0.0576242504526914,\n",
       " 0.043728522661107105,\n",
       " 0.040248278554334355,\n",
       " 0.09091627119847859,\n",
       " 0.20940200266612383,\n",
       " 0.16256918244891722,\n",
       " 0.06958743982887276,\n",
       " 0.15138941544439058,\n",
       " 0.120188543806461,\n",
       " 0.2089342261407688,\n",
       " 0.11131906121215003,\n",
       " 0.07252996457248419,\n",
       " 0.2599834781615362,\n",
       " 0.3071946834483864,\n",
       " 0.1361338282442244,\n",
       " 0.22740425877699266,\n",
       " 0.10575717616509553,\n",
       " 0.3197796400358928,\n",
       " 0.2624545842445502,\n",
       " 0.2727238978426492,\n",
       " 0.037582215014187986,\n",
       " 0.09926681961115466,\n",
       " 0.05450815723292273,\n",
       " 0.13970763575802989,\n",
       " 0.0553511485163887,\n",
       " 0.20214973762380317,\n",
       " 0.143374933435681,\n",
       " 0.4294191510003139,\n",
       " 0.14300397918185417,\n",
       " 0.3139559071125818,\n",
       " 0.145836232097306,\n",
       " 0.2187854858127689,\n",
       " 0.07510054929326869,\n",
       " 0.03769019887765708,\n",
       " 0.06467847429510185,\n",
       " 0.29149054958982173,\n",
       " 0.08155163473202369,\n",
       " 0.03709116744145366,\n",
       " 0.16377209248924157,\n",
       " 0.040463039664310946,\n",
       " 0.03648424892092256,\n",
       " 0.04974651977541643,\n",
       " 0.02215153470430855,\n",
       " 0.04561015366528555,\n",
       " 0.26890353290597746,\n",
       " 0.5188974667167526,\n",
       " 0.24708670682792908,\n",
       " 0.1747397502931376,\n",
       " 0.11434003373812072,\n",
       " 0.1526252375791149,\n",
       " 0.19216256554704245,\n",
       " 0.19409268751214306,\n",
       " 0.03147626903840361,\n",
       " 0.05129275592207308,\n",
       " 0.191441654081349,\n",
       " 0.09821701492262302,\n",
       " 0.0526841163474835,\n",
       " 0.035731348306176365,\n",
       " 0.027502451000984845,\n",
       " 0.1626215521916076,\n",
       " 0.16945009341041956,\n",
       " 0.07934588870635723,\n",
       " 0.02215503419580586,\n",
       " 0.03734560698071953,\n",
       " 0.06788245426143982,\n",
       " 0.2558491250079584,\n",
       " 0.24455619581124344,\n",
       " 0.08241961647556181,\n",
       " 0.043099875256662694,\n",
       " 0.17723272866147666,\n",
       " 0.24064632719698953,\n",
       " 0.09763861319964803,\n",
       " 0.16289905725559298,\n",
       " 0.10579847236263006,\n",
       " 0.032888656732211634,\n",
       " 0.11454136515357786,\n",
       " 0.037578678523718934,\n",
       " 0.033355323349935816,\n",
       " 0.12577254046651837,\n",
       " 0.05741097093127919,\n",
       " 0.0320366076818214,\n",
       " 0.025228252279610182,\n",
       " 0.06013022440171017,\n",
       " 0.029003676577331924,\n",
       " 0.02250776501641995,\n",
       " 0.18590174208203572,\n",
       " 0.02215153470430857,\n",
       " 0.06171293901876606,\n",
       " 0.035586281360995675,\n",
       " 0.13547436115079597,\n",
       " 0.03772818432243293,\n",
       " 0.02218162507558904,\n",
       " 0.022168362058699032,\n",
       " 0.023058344212554732,\n",
       " 0.0414655040103268,\n",
       " 0.04416088474283362,\n",
       " 0.30374541621528156,\n",
       " 0.2029771143291956,\n",
       " 0.15821330502826364,\n",
       " 0.11685900421976525,\n",
       " 0.035619896779991875,\n",
       " 0.19238015031963995,\n",
       " 0.19359804125122726,\n",
       " 0.5068749086031255,\n",
       " 0.05625550929918456,\n",
       " 0.03296527394554951,\n",
       " 0.04702889601089628,\n",
       " 0.03488248071998468,\n",
       " 0.3036144839283901,\n",
       " 0.14249870449029747,\n",
       " 0.06106310012211637,\n",
       " 0.10994498069614163,\n",
       " 0.030977603523880154,\n",
       " 0.025744195666610036,\n",
       " 0.022151534704308556,\n",
       " 0.1755992243306351,\n",
       " 0.12218402213166724,\n",
       " 0.5341702746000565,\n",
       " 0.09727547727416647,\n",
       " 0.21593585871149737,\n",
       " 0.04874253932619914,\n",
       " 0.049475064344616994,\n",
       " 0.2897430925747742,\n",
       " 0.11450473275727938,\n",
       " 0.04920992422000244,\n",
       " 0.26215901788820534,\n",
       " 0.09530337579732083,\n",
       " 0.1361219617214474,\n",
       " 0.37515372391612284,\n",
       " 0.04265365623471311,\n",
       " 0.07638621986552797,\n",
       " 0.022151534704308546,\n",
       " 0.02215153470430856,\n",
       " 0.022221369946064027,\n",
       " 0.7881523380324105,\n",
       " 0.09599956408284772,\n",
       " 0.02215153470430857,\n",
       " 0.10549947210601959,\n",
       " 0.053931970474462895,\n",
       " 0.2496031548554296,\n",
       " 0.3531935275154732,\n",
       " 0.02215153470430857,\n",
       " 0.031146640724710437,\n",
       " 0.03631261560806902,\n",
       " 0.26228285638529253,\n",
       " 0.02215153470430856,\n",
       " 0.02217135249053727,\n",
       " 0.022151534704308546,\n",
       " 0.042072016360662316,\n",
       " 0.022180021911732687,\n",
       " 0.031146640724710448,\n",
       " 0.0338212376560757,\n",
       " 0.05678142598910529,\n",
       " 0.05106581001934231,\n",
       " 0.030359247682160535,\n",
       " 0.03309499972703801,\n",
       " 0.055780351985020696,\n",
       " 0.06478601212257573,\n",
       " 0.0538429922857001,\n",
       " 0.02353505500939546,\n",
       " 0.15005470322440995,\n",
       " 0.13027340272896026,\n",
       " 0.10280795093527777,\n",
       " 0.07595429436726733,\n",
       " 0.03701039527750257,\n",
       " 0.024027926777473653,\n",
       " 0.03027069898567968,\n",
       " 0.07576825173957064,\n",
       " 0.10743889939826863,\n",
       " 0.04910410039155372,\n",
       " 0.06641031178116028,\n",
       " 0.02500104232210197,\n",
       " 0.026076537996151016,\n",
       " 0.025271939560692184,\n",
       " 0.05042711610929775,\n",
       " 0.055763444672511736,\n",
       " 0.32324397351370154,\n",
       " 0.03478248295843456,\n",
       " 0.13459092463165112,\n",
       " 0.19824363872785236,\n",
       " 0.022165940769490848,\n",
       " 0.11392729273774564,\n",
       " 0.04801065561067425,\n",
       " 0.3227273631782436,\n",
       " 0.08929303701253473,\n",
       " 0.05259982997137613,\n",
       " 0.035691919192029915,\n",
       " 0.30010454399983333,\n",
       " 0.11231141311617779,\n",
       " 0.0528182597337719,\n",
       " 0.11340490600452743,\n",
       " 0.19932197070594582,\n",
       " 0.03569191919202991,\n",
       " 0.052021717570774055,\n",
       " 0.05719069259560298,\n",
       " 0.10983934299901427,\n",
       " 0.065533313320657,\n",
       " 0.18829416796252577,\n",
       " 0.16090118380579274,\n",
       " 0.16248660454441013,\n",
       " 0.198861766475477,\n",
       " 0.12885724641250337,\n",
       " 0.08464254100299351,\n",
       " 0.09539643950674233,\n",
       " 0.05172709547189103,\n",
       " 0.023062750811032626,\n",
       " 0.04857820517292468,\n",
       " 0.03469775550185985,\n",
       " 0.06536978548798285,\n",
       " 0.07283776212813209,\n",
       " 0.19228311457240088,\n",
       " 0.18773409465722804,\n",
       " 0.11449910416167218,\n",
       " 0.08468520443461643,\n",
       " 0.06584589100297476,\n",
       " 0.0247340520935315,\n",
       " 0.022251043352954233,\n",
       " 0.031708057132973026,\n",
       " 0.06215661865605343,\n",
       " 0.06023571837384254,\n",
       " 0.04139567135584262,\n",
       " ...]"
      ]
     },
     "execution_count": 33,
     "metadata": {},
     "output_type": "execute_result"
    }
   ],
   "source": [
    "igraph_eg"
   ]
  },
  {
   "cell_type": "code",
   "execution_count": 39,
   "metadata": {
    "collapsed": false
   },
   "outputs": [],
   "source": [
    "np_vals = numpy.array(igraph_eg)\n",
    "sorted_eigen = numpy.argsort(np_vals)[::-1][:20]"
   ]
  },
  {
   "cell_type": "code",
   "execution_count": 40,
   "metadata": {
    "collapsed": false
   },
   "outputs": [
    {
     "name": "stdout",
     "output_type": "stream",
     "text": [
      "121817564\n",
      "11107172\n",
      "807095\n",
      "20861943\n",
      "216695058\n",
      "58524428\n",
      "18816166\n",
      "14677919\n",
      "16104258\n",
      "436873679\n",
      "51241574\n",
      "16399949\n",
      "30752163\n",
      "110213431\n",
      "16833750\n",
      "11204932\n",
      "35773039\n",
      "25160944\n",
      "813286\n",
      "29006114\n"
     ]
    }
   ],
   "source": [
    "for eg in sorted_eigen:\n",
    "    print twitter_igraph.vs.find(eg)['name']"
   ]
  },
  {
   "cell_type": "markdown",
   "metadata": {
    "collapsed": true
   },
   "source": [
    "# Graph tool"
   ]
  },
  {
   "cell_type": "code",
   "execution_count": 7,
   "metadata": {
    "collapsed": false
   },
   "outputs": [],
   "source": [
    "import sys\n",
    "import os\n",
    "sys.path.append('/usr/lib/python2.7/dist-packages')\n",
    "\n",
    "from graph_tool.all import *"
   ]
  },
  {
   "cell_type": "code",
   "execution_count": 8,
   "metadata": {
    "collapsed": false
   },
   "outputs": [],
   "source": [
    "g = Graph(directed=True)"
   ]
  },
  {
   "cell_type": "code",
   "execution_count": 9,
   "metadata": {
    "collapsed": false
   },
   "outputs": [
    {
     "ename": "MemoryError",
     "evalue": "",
     "output_type": "error",
     "traceback": [
      "\u001b[1;31m---------------------------------------------------------------------------\u001b[0m",
      "\u001b[1;31mMemoryError\u001b[0m                               Traceback (most recent call last)",
      "\u001b[1;32m<ipython-input-9-ba078d4f87eb>\u001b[0m in \u001b[0;36m<module>\u001b[1;34m()\u001b[0m\n\u001b[0;32m      3\u001b[0m         \u001b[0medge_list\u001b[0m \u001b[1;33m=\u001b[0m \u001b[0mline\u001b[0m\u001b[1;33m.\u001b[0m\u001b[0msplit\u001b[0m\u001b[1;33m(\u001b[0m\u001b[1;33m)\u001b[0m\u001b[1;33m\u001b[0m\u001b[0m\n\u001b[0;32m      4\u001b[0m         \u001b[0msource\u001b[0m\u001b[1;33m,\u001b[0m \u001b[0mtarget\u001b[0m \u001b[1;33m=\u001b[0m \u001b[0mtuple\u001b[0m\u001b[1;33m(\u001b[0m\u001b[0medge_list\u001b[0m\u001b[1;33m)\u001b[0m\u001b[1;33m\u001b[0m\u001b[0m\n\u001b[1;32m----> 5\u001b[1;33m         \u001b[0mg\u001b[0m\u001b[1;33m.\u001b[0m\u001b[0madd_edge\u001b[0m\u001b[1;33m(\u001b[0m\u001b[0msource\u001b[0m\u001b[1;33m,\u001b[0m \u001b[0mtarget\u001b[0m\u001b[1;33m)\u001b[0m\u001b[1;33m\u001b[0m\u001b[0m\n\u001b[0m",
      "\u001b[1;32m/usr/lib/python2.7/dist-packages/graph_tool/__init__.pyc\u001b[0m in \u001b[0;36madd_edge\u001b[1;34m(self, source, target, add_missing)\u001b[0m\n\u001b[0;32m   1618\u001b[0m         \u001b[0mself\u001b[0m\u001b[1;33m.\u001b[0m\u001b[0m__check_perms\u001b[0m\u001b[1;33m(\u001b[0m\u001b[1;34m\"add_edge\"\u001b[0m\u001b[1;33m)\u001b[0m\u001b[1;33m\u001b[0m\u001b[0m\n\u001b[0;32m   1619\u001b[0m         e = libcore.add_edge(weakref.ref(self),\n\u001b[1;32m-> 1620\u001b[1;33m                              \u001b[0mself\u001b[0m\u001b[1;33m.\u001b[0m\u001b[0mvertex\u001b[0m\u001b[1;33m(\u001b[0m\u001b[0mint\u001b[0m\u001b[1;33m(\u001b[0m\u001b[0msource\u001b[0m\u001b[1;33m)\u001b[0m\u001b[1;33m,\u001b[0m \u001b[0madd_missing\u001b[0m\u001b[1;33m=\u001b[0m\u001b[0madd_missing\u001b[0m\u001b[1;33m)\u001b[0m\u001b[1;33m,\u001b[0m\u001b[1;33m\u001b[0m\u001b[0m\n\u001b[0m\u001b[0;32m   1621\u001b[0m                              self.vertex(int(target), add_missing=add_missing))\n\u001b[0;32m   1622\u001b[0m         \u001b[0mefilt\u001b[0m \u001b[1;33m=\u001b[0m \u001b[0mself\u001b[0m\u001b[1;33m.\u001b[0m\u001b[0mget_edge_filter\u001b[0m\u001b[1;33m(\u001b[0m\u001b[1;33m)\u001b[0m\u001b[1;33m\u001b[0m\u001b[0m\n",
      "\u001b[1;32m/usr/lib/python2.7/dist-packages/graph_tool/__init__.pyc\u001b[0m in \u001b[0;36mvertex\u001b[1;34m(self, i, use_index, add_missing)\u001b[0m\n\u001b[0;32m   1457\u001b[0m         \u001b[1;32mif\u001b[0m \u001b[1;32mnot\u001b[0m \u001b[0mv\u001b[0m\u001b[1;33m.\u001b[0m\u001b[0mis_valid\u001b[0m\u001b[1;33m(\u001b[0m\u001b[1;33m)\u001b[0m\u001b[1;33m:\u001b[0m\u001b[1;33m\u001b[0m\u001b[0m\n\u001b[0;32m   1458\u001b[0m             \u001b[1;32mif\u001b[0m \u001b[0madd_missing\u001b[0m\u001b[1;33m:\u001b[0m\u001b[1;33m\u001b[0m\u001b[0m\n\u001b[1;32m-> 1459\u001b[1;33m                 \u001b[0mself\u001b[0m\u001b[1;33m.\u001b[0m\u001b[0madd_vertex\u001b[0m\u001b[1;33m(\u001b[0m\u001b[0mint\u001b[0m\u001b[1;33m(\u001b[0m\u001b[0mi\u001b[0m\u001b[1;33m)\u001b[0m \u001b[1;33m-\u001b[0m \u001b[0mself\u001b[0m\u001b[1;33m.\u001b[0m\u001b[0mnum_vertices\u001b[0m\u001b[1;33m(\u001b[0m\u001b[0muse_index\u001b[0m\u001b[1;33m)\u001b[0m \u001b[1;33m+\u001b[0m \u001b[1;36m1\u001b[0m\u001b[1;33m)\u001b[0m\u001b[1;33m\u001b[0m\u001b[0m\n\u001b[0m\u001b[0;32m   1460\u001b[0m                 \u001b[1;32mreturn\u001b[0m \u001b[0mself\u001b[0m\u001b[1;33m.\u001b[0m\u001b[0mvertex\u001b[0m\u001b[1;33m(\u001b[0m\u001b[0mint\u001b[0m\u001b[1;33m(\u001b[0m\u001b[0mi\u001b[0m\u001b[1;33m)\u001b[0m\u001b[1;33m,\u001b[0m \u001b[0muse_index\u001b[0m\u001b[1;33m)\u001b[0m\u001b[1;33m\u001b[0m\u001b[0m\n\u001b[0;32m   1461\u001b[0m             \u001b[1;32mraise\u001b[0m \u001b[0mValueError\u001b[0m\u001b[1;33m(\u001b[0m\u001b[1;34m\"Invalid vertex index: %d\"\u001b[0m \u001b[1;33m%\u001b[0m \u001b[0mint\u001b[0m\u001b[1;33m(\u001b[0m\u001b[0mi\u001b[0m\u001b[1;33m)\u001b[0m\u001b[1;33m)\u001b[0m\u001b[1;33m\u001b[0m\u001b[0m\n",
      "\u001b[1;32m/usr/lib/python2.7/dist-packages/graph_tool/__init__.pyc\u001b[0m in \u001b[0;36madd_vertex\u001b[1;34m(self, n)\u001b[0m\n\u001b[0;32m   1514\u001b[0m \u001b[1;33m\u001b[0m\u001b[0m\n\u001b[0;32m   1515\u001b[0m         \u001b[0mself\u001b[0m\u001b[1;33m.\u001b[0m\u001b[0m__check_perms\u001b[0m\u001b[1;33m(\u001b[0m\u001b[1;34m\"add_vertex\"\u001b[0m\u001b[1;33m)\u001b[0m\u001b[1;33m\u001b[0m\u001b[0m\n\u001b[1;32m-> 1516\u001b[1;33m         \u001b[0mv\u001b[0m \u001b[1;33m=\u001b[0m \u001b[0mlibcore\u001b[0m\u001b[1;33m.\u001b[0m\u001b[0madd_vertex\u001b[0m\u001b[1;33m(\u001b[0m\u001b[0mweakref\u001b[0m\u001b[1;33m.\u001b[0m\u001b[0mref\u001b[0m\u001b[1;33m(\u001b[0m\u001b[0mself\u001b[0m\u001b[1;33m)\u001b[0m\u001b[1;33m,\u001b[0m \u001b[0mn\u001b[0m\u001b[1;33m)\u001b[0m\u001b[1;33m\u001b[0m\u001b[0m\n\u001b[0m\u001b[0;32m   1517\u001b[0m \u001b[1;33m\u001b[0m\u001b[0m\n\u001b[0;32m   1518\u001b[0m         \u001b[0mvfilt\u001b[0m \u001b[1;33m=\u001b[0m \u001b[0mself\u001b[0m\u001b[1;33m.\u001b[0m\u001b[0mget_vertex_filter\u001b[0m\u001b[1;33m(\u001b[0m\u001b[1;33m)\u001b[0m\u001b[1;33m\u001b[0m\u001b[0m\n",
      "\u001b[1;31mMemoryError\u001b[0m: "
     ]
    }
   ],
   "source": [
    "with open('twitter_edgelist.txt', 'r') as f:\n",
    "    for line in f:\n",
    "        edge_list = line.split()\n",
    "        source, target = tuple(edge_list)\n",
    "        g.add_edge(source, target)"
   ]
  },
  {
   "cell_type": "code",
   "execution_count": null,
   "metadata": {
    "collapsed": true
   },
   "outputs": [],
   "source": [
    "print g.num_vertices()\n",
    "print g.num_edges()"
   ]
  },
  {
   "cell_type": "code",
   "execution_count": 16,
   "metadata": {
    "collapsed": true
   },
   "outputs": [],
   "source": [
    "v = g.add_vertex()\n",
    "vprop_string[v] = 'id'"
   ]
  },
  {
   "cell_type": "code",
   "execution_count": null,
   "metadata": {
    "collapsed": true
   },
   "outputs": [],
   "source": [
    "find_vertex(g, g.vertex_properties[''])"
   ]
  },
  {
   "cell_type": "code",
   "execution_count": 19,
   "metadata": {
    "collapsed": false
   },
   "outputs": [
    {
     "name": "stdout",
     "output_type": "stream",
     "text": [
      "Processing first 1000 batch\n",
      "Processing 1000 batch\n",
      "Processing 2000 batch\n",
      "Processing 3000 batch\n",
      "Processing 4000 batch\n",
      "Processing 5000 batch\n"
     ]
    }
   ],
   "source": [
    "print 'Processing first 1000 batch'\n",
    "for idx, user in enumerate(all_users):\n",
    "    if idx and not idx % 1000:\n",
    "        print 'Processing {} batch'.format(idx)\n",
    "        \n",
    "    u_id = str(user['id_str'])\n",
    "    v = g.add_vertex(1)\n",
    "    \n",
    "    for friend_id in user['friends_ids']:\n",
    "        f_id = str(friend_id)\n",
    "        f = g.add_vertex(1)\n",
    "        g.add_edge(v, f)"
   ]
  },
  {
   "cell_type": "code",
   "execution_count": null,
   "metadata": {
    "collapsed": false
   },
   "outputs": [],
   "source": [
    "graph_draw(g, vertex_text=g.vertex_index, vertex_font_size=12, output_size=(1000, 1000))"
   ]
  },
  {
   "cell_type": "code",
   "execution_count": 9,
   "metadata": {
    "collapsed": false
   },
   "outputs": [
    {
     "name": "stdout",
     "output_type": "stream",
     "text": [
      "10\n"
     ]
    }
   ],
   "source": []
  },
  {
   "cell_type": "code",
   "execution_count": null,
   "metadata": {
    "collapsed": true
   },
   "outputs": [],
   "source": []
  }
 ],
 "metadata": {
  "kernelspec": {
   "display_name": "Python 2",
   "language": "python",
   "name": "python2"
  },
  "language_info": {
   "codemirror_mode": {
    "name": "ipython",
    "version": 2
   },
   "file_extension": ".py",
   "mimetype": "text/x-python",
   "name": "python",
   "nbconvert_exporter": "python",
   "pygments_lexer": "ipython2",
   "version": "2.7.10"
  }
 },
 "nbformat": 4,
 "nbformat_minor": 0
}
